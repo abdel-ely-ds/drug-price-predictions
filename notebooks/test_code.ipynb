{
 "cells": [
  {
   "cell_type": "code",
   "execution_count": 1,
   "id": "97edde15-1258-4097-a617-e262c3c98be7",
   "metadata": {},
   "outputs": [],
   "source": [
    "from drugs import Drugs\n",
    "import pandas as pd"
   ]
  },
  {
   "cell_type": "code",
   "execution_count": 2,
   "id": "b82312e5-ee17-4f9b-b26c-ef1845b6df3e",
   "metadata": {},
   "outputs": [],
   "source": [
    "df = pd.read_csv(\"../data/drugs_train.csv\")"
   ]
  },
  {
   "cell_type": "code",
   "execution_count": 3,
   "id": "5bcec177-d4ee-4e74-8238-4d580fdb2b76",
   "metadata": {},
   "outputs": [],
   "source": [
    "df_ingredient= pd.read_csv(\"../data/active_ingredients.csv\")"
   ]
  },
  {
   "cell_type": "code",
   "execution_count": 4,
   "id": "e274ad46-feab-4cd9-b083-74bada30743c",
   "metadata": {},
   "outputs": [],
   "source": [
    "from sklearn.model_selection import train_test_split\n",
    "df_train, df_test = train_test_split(df, random_state=40, test_size=0.2)"
   ]
  },
  {
   "cell_type": "code",
   "execution_count": 5,
   "id": "32132ab8-a520-40b0-bb4c-e4c0830526a8",
   "metadata": {},
   "outputs": [
    {
     "data": {
      "text/plain": [
       "(6851, 1713)"
      ]
     },
     "execution_count": 5,
     "metadata": {},
     "output_type": "execute_result"
    }
   ],
   "source": [
    "len(df_train), len(df_test)"
   ]
  },
  {
   "cell_type": "code",
   "execution_count": 6,
   "id": "330514d7-e5c4-456c-a059-3cdbf30f89a6",
   "metadata": {},
   "outputs": [],
   "source": [
    "df_ingredient_train = df_ingredient[df_ingredient.drug_id.isin(df_train.drug_id)]\n",
    "df_ingredient_val = df_ingredient[df_ingredient.drug_id.isin(df_test.drug_id)]"
   ]
  },
  {
   "cell_type": "code",
   "execution_count": 7,
   "id": "20f88398-6154-47f7-8789-5079ca1a8a2b",
   "metadata": {},
   "outputs": [
    {
     "data": {
      "text/plain": [
       "(6851, 1713)"
      ]
     },
     "execution_count": 7,
     "metadata": {},
     "output_type": "execute_result"
    }
   ],
   "source": [
    "df_ingredient_train.drug_id.nunique(), df_ingredient_val.drug_id.nunique()"
   ]
  },
  {
   "cell_type": "code",
   "execution_count": 8,
   "id": "9e882edb-4d40-4150-a492-5f60f180a3e5",
   "metadata": {},
   "outputs": [],
   "source": [
    "drugs = Drugs()"
   ]
  },
  {
   "cell_type": "code",
   "execution_count": 9,
   "id": "3ffa21e7-e38e-4063-9152-3db3863d3fcf",
   "metadata": {},
   "outputs": [
    {
     "name": "stdout",
     "output_type": "stream",
     "text": [
      "[0]\tvalidation_0-rmse:65.34544\tvalidation_1-rmse:75.46744\n",
      "[1]\tvalidation_0-rmse:51.11128\tvalidation_1-rmse:70.01646\n",
      "[2]\tvalidation_0-rmse:41.78077\tvalidation_1-rmse:66.87683\n",
      "[3]\tvalidation_0-rmse:35.76899\tvalidation_1-rmse:65.36514\n",
      "[4]\tvalidation_0-rmse:32.10316\tvalidation_1-rmse:64.28292\n",
      "[5]\tvalidation_0-rmse:29.83744\tvalidation_1-rmse:63.74783\n",
      "[6]\tvalidation_0-rmse:28.40846\tvalidation_1-rmse:63.25810\n",
      "[7]\tvalidation_0-rmse:27.56755\tvalidation_1-rmse:62.95414\n",
      "[8]\tvalidation_0-rmse:27.02461\tvalidation_1-rmse:62.79794\n",
      "[9]\tvalidation_0-rmse:26.61829\tvalidation_1-rmse:62.85330\n",
      "[10]\tvalidation_0-rmse:26.32581\tvalidation_1-rmse:62.82415\n",
      "[11]\tvalidation_0-rmse:26.18296\tvalidation_1-rmse:62.80247\n",
      "[12]\tvalidation_0-rmse:25.99949\tvalidation_1-rmse:62.67805\n",
      "[13]\tvalidation_0-rmse:25.92676\tvalidation_1-rmse:62.70677\n",
      "[14]\tvalidation_0-rmse:25.87787\tvalidation_1-rmse:62.69845\n",
      "[15]\tvalidation_0-rmse:25.75553\tvalidation_1-rmse:62.65759\n",
      "[16]\tvalidation_0-rmse:25.72414\tvalidation_1-rmse:62.69434\n",
      "[17]\tvalidation_0-rmse:25.70246\tvalidation_1-rmse:62.72454\n",
      "[18]\tvalidation_0-rmse:25.65338\tvalidation_1-rmse:62.78852\n",
      "[19]\tvalidation_0-rmse:25.60842\tvalidation_1-rmse:62.77469\n",
      "[20]\tvalidation_0-rmse:25.59148\tvalidation_1-rmse:62.80038\n",
      "[21]\tvalidation_0-rmse:25.57225\tvalidation_1-rmse:62.79233\n",
      "[22]\tvalidation_0-rmse:25.50482\tvalidation_1-rmse:62.83095\n",
      "[23]\tvalidation_0-rmse:25.42154\tvalidation_1-rmse:63.20490\n",
      "[24]\tvalidation_0-rmse:25.37605\tvalidation_1-rmse:63.24083\n",
      "[25]\tvalidation_0-rmse:25.36702\tvalidation_1-rmse:63.24509\n",
      "[26]\tvalidation_0-rmse:25.32997\tvalidation_1-rmse:63.26727\n",
      "[27]\tvalidation_0-rmse:25.32259\tvalidation_1-rmse:63.27869\n",
      "[28]\tvalidation_0-rmse:25.29122\tvalidation_1-rmse:63.33247\n",
      "[29]\tvalidation_0-rmse:25.24380\tvalidation_1-rmse:63.34489\n",
      "[30]\tvalidation_0-rmse:25.21268\tvalidation_1-rmse:63.33467\n",
      "[31]\tvalidation_0-rmse:25.15333\tvalidation_1-rmse:63.39584\n",
      "[32]\tvalidation_0-rmse:25.14665\tvalidation_1-rmse:63.40794\n",
      "[33]\tvalidation_0-rmse:25.11458\tvalidation_1-rmse:63.46181\n",
      "[34]\tvalidation_0-rmse:25.09816\tvalidation_1-rmse:63.48067\n",
      "[35]\tvalidation_0-rmse:25.09505\tvalidation_1-rmse:63.49345\n"
     ]
    }
   ],
   "source": [
    "drugs.fit(df=df_train, df_ingredient=df_ingredient_train, val_df=df_test, val_df_ingredient=df_ingredient_val)"
   ]
  },
  {
   "cell_type": "code",
   "execution_count": 12,
   "id": "c5b9b0a7-9acf-4f8b-b155-4b49ec937a78",
   "metadata": {},
   "outputs": [
    {
     "data": {
      "image/png": "[encoded data removed]",
      "text/plain": [
       "<Figure size 432x288 with 1 Axes>"
      ]
     },
     "metadata": {
      "needs_background": "light"
     },
     "output_type": "display_data"
    }
   ],
   "source": [
    "drugs.plot_learning_curve()"
   ]
  },
  {
   "cell_type": "code",
   "execution_count": 13,
   "id": "1b6355e1-5268-4469-b421-da191517efa5",
   "metadata": {},
   "outputs": [],
   "source": [
    "drugs.save_artifacts(\"../artifacts\")"
   ]
  },
  {
   "cell_type": "code",
   "execution_count": 14,
   "id": "f4ec5be0-c1d4-402c-8c60-197e5c040fe0",
   "metadata": {},
   "outputs": [],
   "source": [
    "durgsbis = Drugs()"
   ]
  },
  {
   "cell_type": "code",
   "execution_count": null,
   "id": "cd892ef0-59b9-4023-b366-e8df285879a9",
   "metadata": {},
   "outputs": [],
   "source": [
    "durgsbis.load_artifacts(from_dir=\"../artifacts/\","
   ]
  }
 ],
 "metadata": {
  "kernelspec": {
   "display_name": "Python 3 (ipykernel)",
   "language": "python",
   "name": "python3"
  },
  "language_info": {
   "codemirror_mode": {
    "name": "ipython",
    "version": 3
   },
   "file_extension": ".py",
   "mimetype": "text/x-python",
   "name": "python",
   "nbconvert_exporter": "python",
   "pygments_lexer": "ipython3",
   "version": "3.8.10"
  }
 },
 "nbformat": 4,
 "nbformat_minor": 5
}
