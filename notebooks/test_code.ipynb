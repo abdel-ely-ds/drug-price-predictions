{
 "cells": [
  {
   "cell_type": "code",
   "execution_count": 43,
   "id": "868ee659-7282-422b-9a58-26bf49a9cdb1",
   "metadata": {},
   "outputs": [],
   "source": [
    "from typing import List\n",
    "import pandas as pd\n",
    "from sklearn.base import BaseEstimator, TransformerMixin\n",
    "\n",
    "\n",
    "class HighCardTransformer(BaseEstimator, TransformerMixin):\n",
    "    \"\"\"\n",
    "    Encode high cardinality features with a mean/median/quantile value of the price\n",
    "    \"\"\"\n",
    "\n",
    "    def __init__(self, columns: List[str] = None):\n",
    "        self.columns = columns\n",
    "        self.columns_dict = {}\n",
    "\n",
    "    def fit(self, df: pd.DataFrame, agg_func: str = \"mean\"):\n",
    "        for col in self.columns:\n",
    "            col_map = df.groupby(col).price.agg(func=agg_func)\n",
    "            self.columns_dict[col] = col_map\n",
    "        return self\n",
    "\n",
    "    def transform(self, df: pd.DataFrame):\n",
    "        df_copy = df.copy()\n",
    "        for col in self.columns:\n",
    "            df_copy[col + \"_feature\"] = df_copy[col].map(self.columns_dict[col])\n",
    "            df_copy.drop(columns=[col], inplace=True)\n",
    "        return df_copy"
   ]
  },
  {
   "cell_type": "code",
   "execution_count": 44,
   "id": "319a6ddc-1a2e-4995-b2fe-51b9072d7619",
   "metadata": {},
   "outputs": [],
   "source": [
    "import pandas as pd"
   ]
  },
  {
   "cell_type": "code",
   "execution_count": 45,
   "id": "eb6f3281-0a6a-42c3-b662-9f4ee613d290",
   "metadata": {},
   "outputs": [],
   "source": [
    "train_df = pd.read_csv(\"../data/drugs_train.csv\")"
   ]
  },
  {
   "cell_type": "code",
   "execution_count": 46,
   "id": "3372332e-0551-454e-ae61-cb78940bf3d9",
   "metadata": {},
   "outputs": [],
   "source": [
    "high_card_columns = [\"dosage_form\", \"route_of_administration\", \"pharmaceutical_companies\"]\n",
    "\n",
    "hct = HighCardTransformer(columns=high_card_columns)"
   ]
  },
  {
   "cell_type": "code",
   "execution_count": 47,
   "id": "87f3295e-bb89-4af4-9e0e-df80ceaf2af2",
   "metadata": {},
   "outputs": [],
   "source": [
    "from sklearn.model_selection import train_test_split\n",
    "\n",
    "X_train, X_val = train_test_split(train_df)"
   ]
  },
  {
   "cell_type": "code",
   "execution_count": 48,
   "id": "1dba69c0-d979-4be0-8f35-41c59c857331",
   "metadata": {},
   "outputs": [
    {
     "data": {
      "text/html": [
       "<div>\n",
       "<style scoped>\n",
       "    .dataframe tbody tr th:only-of-type {\n",
       "        vertical-align: middle;\n",
       "    }\n",
       "\n",
       "    .dataframe tbody tr th {\n",
       "        vertical-align: top;\n",
       "    }\n",
       "\n",
       "    .dataframe thead th {\n",
       "        text-align: right;\n",
       "    }\n",
       "</style>\n",
       "<table border=\"1\" class=\"dataframe\">\n",
       "  <thead>\n",
       "    <tr style=\"text-align: right;\">\n",
       "      <th></th>\n",
       "      <th>drug_id</th>\n",
       "      <th>description</th>\n",
       "      <th>administrative_status</th>\n",
       "      <th>marketing_status</th>\n",
       "      <th>approved_for_hospital_use</th>\n",
       "      <th>reimbursement_rate</th>\n",
       "      <th>dosage_form</th>\n",
       "      <th>route_of_administration</th>\n",
       "      <th>marketing_authorization_status</th>\n",
       "      <th>marketing_declaration_date</th>\n",
       "      <th>marketing_authorization_date</th>\n",
       "      <th>marketing_authorization_process</th>\n",
       "      <th>pharmaceutical_companies</th>\n",
       "      <th>price</th>\n",
       "    </tr>\n",
       "  </thead>\n",
       "  <tbody>\n",
       "    <tr>\n",
       "      <th>8101</th>\n",
       "      <td>8101_train</td>\n",
       "      <td>3 plaquette(s) PVC-Aluminium de 21 comprimé(s)</td>\n",
       "      <td>Présentation active</td>\n",
       "      <td>Déclaration de commercialisation</td>\n",
       "      <td>oui</td>\n",
       "      <td>65%</td>\n",
       "      <td>comprimé enrobé et  comprimé enrobé et  compri...</td>\n",
       "      <td>orale</td>\n",
       "      <td>Autorisation active</td>\n",
       "      <td>19860101</td>\n",
       "      <td>19850101</td>\n",
       "      <td>Procédure nationale</td>\n",
       "      <td>PFIZER HOLDING FRANCE</td>\n",
       "      <td>3.79</td>\n",
       "    </tr>\n",
       "    <tr>\n",
       "      <th>6698</th>\n",
       "      <td>6698_train</td>\n",
       "      <td>plaquette(s) thermoformée(s) polyamide alumini...</td>\n",
       "      <td>Présentation active</td>\n",
       "      <td>Déclaration d'arrêt de commercialisation</td>\n",
       "      <td>non</td>\n",
       "      <td>65%</td>\n",
       "      <td>comprimé orodispersible</td>\n",
       "      <td>orale</td>\n",
       "      <td>Autorisation active</td>\n",
       "      <td>20130101</td>\n",
       "      <td>20060101</td>\n",
       "      <td>Procédure nationale</td>\n",
       "      <td>RATIOPHARM (ALLEMAGNE)</td>\n",
       "      <td>6.24</td>\n",
       "    </tr>\n",
       "  </tbody>\n",
       "</table>\n",
       "</div>"
      ],
      "text/plain": [
       "         drug_id                                        description  \\\n",
       "8101  8101_train     3 plaquette(s) PVC-Aluminium de 21 comprimé(s)   \n",
       "6698  6698_train  plaquette(s) thermoformée(s) polyamide alumini...   \n",
       "\n",
       "     administrative_status                          marketing_status  \\\n",
       "8101   Présentation active          Déclaration de commercialisation   \n",
       "6698   Présentation active  Déclaration d'arrêt de commercialisation   \n",
       "\n",
       "     approved_for_hospital_use reimbursement_rate  \\\n",
       "8101                       oui                65%   \n",
       "6698                       non                65%   \n",
       "\n",
       "                                            dosage_form  \\\n",
       "8101  comprimé enrobé et  comprimé enrobé et  compri...   \n",
       "6698                            comprimé orodispersible   \n",
       "\n",
       "     route_of_administration marketing_authorization_status  \\\n",
       "8101                   orale            Autorisation active   \n",
       "6698                   orale            Autorisation active   \n",
       "\n",
       "      marketing_declaration_date  marketing_authorization_date  \\\n",
       "8101                    19860101                      19850101   \n",
       "6698                    20130101                      20060101   \n",
       "\n",
       "     marketing_authorization_process pharmaceutical_companies  price  \n",
       "8101             Procédure nationale    PFIZER HOLDING FRANCE   3.79  \n",
       "6698             Procédure nationale   RATIOPHARM (ALLEMAGNE)   6.24  "
      ]
     },
     "execution_count": 48,
     "metadata": {},
     "output_type": "execute_result"
    }
   ],
   "source": [
    "X_train.head(2)"
   ]
  },
  {
   "cell_type": "code",
   "execution_count": 49,
   "id": "a89eeada-339f-4498-a535-18ab501435e4",
   "metadata": {},
   "outputs": [
    {
     "data": {
      "text/plain": [
       "HighCardTransformer(columns=['dosage_form', 'route_of_administration',\n",
       "                             'pharmaceutical_companies'])"
      ]
     },
     "execution_count": 49,
     "metadata": {},
     "output_type": "execute_result"
    }
   ],
   "source": [
    "hct.fit(X_train)"
   ]
  },
  {
   "cell_type": "code",
   "execution_count": 54,
   "id": "07d97461-3793-4dcf-b2b5-7df8023cec74",
   "metadata": {},
   "outputs": [],
   "source": [
    "X_train_tr = hct.transform(X_val)"
   ]
  },
  {
   "cell_type": "code",
   "execution_count": 55,
   "id": "668b4c7e-3c8b-47ba-a5b2-a72bc05c73b5",
   "metadata": {},
   "outputs": [
    {
     "data": {
      "text/html": [
       "<div>\n",
       "<style scoped>\n",
       "    .dataframe tbody tr th:only-of-type {\n",
       "        vertical-align: middle;\n",
       "    }\n",
       "\n",
       "    .dataframe tbody tr th {\n",
       "        vertical-align: top;\n",
       "    }\n",
       "\n",
       "    .dataframe thead th {\n",
       "        text-align: right;\n",
       "    }\n",
       "</style>\n",
       "<table border=\"1\" class=\"dataframe\">\n",
       "  <thead>\n",
       "    <tr style=\"text-align: right;\">\n",
       "      <th></th>\n",
       "      <th>drug_id</th>\n",
       "      <th>description</th>\n",
       "      <th>administrative_status</th>\n",
       "      <th>marketing_status</th>\n",
       "      <th>approved_for_hospital_use</th>\n",
       "      <th>reimbursement_rate</th>\n",
       "      <th>marketing_authorization_status</th>\n",
       "      <th>marketing_declaration_date</th>\n",
       "      <th>marketing_authorization_date</th>\n",
       "      <th>marketing_authorization_process</th>\n",
       "      <th>price</th>\n",
       "      <th>dosage_form_feature</th>\n",
       "      <th>route_of_administration_feature</th>\n",
       "      <th>pharmaceutical_companies_feature</th>\n",
       "    </tr>\n",
       "  </thead>\n",
       "  <tbody>\n",
       "    <tr>\n",
       "      <th>6173</th>\n",
       "      <td>6173_train</td>\n",
       "      <td>1 flacon(s) en verre de 30  ml avec compte-gou...</td>\n",
       "      <td>Présentation active</td>\n",
       "      <td>Déclaration de commercialisation</td>\n",
       "      <td>oui</td>\n",
       "      <td>65%</td>\n",
       "      <td>Autorisation active</td>\n",
       "      <td>19660101</td>\n",
       "      <td>19940101</td>\n",
       "      <td>Procédure nationale</td>\n",
       "      <td>2.73</td>\n",
       "      <td>27.240366</td>\n",
       "      <td>20.418007</td>\n",
       "      <td>12.243590</td>\n",
       "    </tr>\n",
       "    <tr>\n",
       "      <th>1446</th>\n",
       "      <td>1446_train</td>\n",
       "      <td>1 flacon(s) polyéthylène de 90 gélule(s)</td>\n",
       "      <td>Présentation active</td>\n",
       "      <td>Déclaration de commercialisation</td>\n",
       "      <td>oui</td>\n",
       "      <td>65%</td>\n",
       "      <td>Autorisation active</td>\n",
       "      <td>20070101</td>\n",
       "      <td>19960101</td>\n",
       "      <td>Procédure nationale</td>\n",
       "      <td>104.94</td>\n",
       "      <td>17.487500</td>\n",
       "      <td>20.418007</td>\n",
       "      <td>33.409216</td>\n",
       "    </tr>\n",
       "  </tbody>\n",
       "</table>\n",
       "</div>"
      ],
      "text/plain": [
       "         drug_id                                        description  \\\n",
       "6173  6173_train  1 flacon(s) en verre de 30  ml avec compte-gou...   \n",
       "1446  1446_train           1 flacon(s) polyéthylène de 90 gélule(s)   \n",
       "\n",
       "     administrative_status                  marketing_status  \\\n",
       "6173   Présentation active  Déclaration de commercialisation   \n",
       "1446   Présentation active  Déclaration de commercialisation   \n",
       "\n",
       "     approved_for_hospital_use reimbursement_rate  \\\n",
       "6173                       oui                65%   \n",
       "1446                       oui                65%   \n",
       "\n",
       "     marketing_authorization_status  marketing_declaration_date  \\\n",
       "6173            Autorisation active                    19660101   \n",
       "1446            Autorisation active                    20070101   \n",
       "\n",
       "      marketing_authorization_date marketing_authorization_process   price  \\\n",
       "6173                      19940101             Procédure nationale    2.73   \n",
       "1446                      19960101             Procédure nationale  104.94   \n",
       "\n",
       "      dosage_form_feature  route_of_administration_feature  \\\n",
       "6173            27.240366                        20.418007   \n",
       "1446            17.487500                        20.418007   \n",
       "\n",
       "      pharmaceutical_companies_feature  \n",
       "6173                         12.243590  \n",
       "1446                         33.409216  "
      ]
     },
     "execution_count": 55,
     "metadata": {},
     "output_type": "execute_result"
    }
   ],
   "source": [
    "X_train_tr.head(2)"
   ]
  },
  {
   "cell_type": "code",
   "execution_count": 31,
   "id": "087e3721-c41d-418b-bf04-33416c5b70ac",
   "metadata": {},
   "outputs": [
    {
     "name": "stdout",
     "output_type": "stream",
     "text": [
      "   a  price  c\n",
      "0  1     -4 -7\n",
      "1 -2      5 -8\n",
      "2  3      6  9\n"
     ]
    }
   ],
   "source": [
    "import pandas as pd\n",
    "from sklearn.base import BaseEstimator, TransformerMixin\n",
    "from sklearn.pipeline import Pipeline\n",
    "from typing import List\n",
    "import pandas as pd\n",
    "from sklearn.base import BaseEstimator, TransformerMixin\n",
    "\n",
    "\n",
    "class HighCardTransformer(BaseEstimator, TransformerMixin):\n",
    "    \"\"\"\n",
    "    Encode high cardinality features with a mean/median/quantile value of the price\n",
    "    \"\"\"\n",
    "\n",
    "    def __init__(self, columns: List[str] = None):\n",
    "        self.columns = columns\n",
    "        self.columns_dict = {}\n",
    "\n",
    "    def fit(self, df: pd.DataFrame, agg_func: str = \"mean\"):\n",
    "        for col in self.columns:\n",
    "            col_map = df.groupby(col).price.agg(func=agg_func)\n",
    "            self.columns_dict[col] = col_map\n",
    "        return self\n",
    "\n",
    "    def transform(self, df: pd.DataFrame):\n",
    "        df_copy = df.copy()\n",
    "        for col in self.columns:\n",
    "            df_copy[col + \"_feature\"] = df_copy[col].map(self.columns_dict[col])\n",
    "            df_copy.drop(columns=[col], inplace=True)\n",
    "\n",
    "\n",
    "# Use Custom Transformer\n",
    "df = pd.DataFrame({\"a\": [1, -2, 3], \"price\": [-4, 5, 6], \"c\": [-7, -8, 9]})\n",
    "pipe = Pipeline(\n",
    "    steps=[\n",
    "        (\"multiply_cols_by_3\", MultiplyColumns(high_card_columns=[\"a\", \"c\"]))\n",
    "    ]\n",
    ")\n",
    "transformed_df = pipe.fit_transform(df)\n",
    "print(df)"
   ]
  },
  {
   "cell_type": "code",
   "execution_count": null,
   "id": "41c8aebb-a476-49cd-9697-76045f871cd7",
   "metadata": {},
   "outputs": [],
   "source": []
  }
 ],
 "metadata": {
  "kernelspec": {
   "display_name": "Python 3 (ipykernel)",
   "language": "python",
   "name": "python3"
  },
  "language_info": {
   "codemirror_mode": {
    "name": "ipython",
    "version": 3
   },
   "file_extension": ".py",
   "mimetype": "text/x-python",
   "name": "python",
   "nbconvert_exporter": "python",
   "pygments_lexer": "ipython3",
   "version": "3.8.10"
  }
 },
 "nbformat": 4,
 "nbformat_minor": 5
}
