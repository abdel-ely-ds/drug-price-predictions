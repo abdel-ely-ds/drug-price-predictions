{
 "cells": [
  {
   "cell_type": "code",
   "execution_count": 1,
   "id": "97edde15-1258-4097-a617-e262c3c98be7",
   "metadata": {},
   "outputs": [],
   "source": [
    "from drugs import Trainer\n",
    "import pandas as pd"
   ]
  },
  {
   "cell_type": "code",
   "execution_count": 9,
   "id": "f0b66c1c-5e72-4bb1-bfb0-f9eb4ffcc265",
   "metadata": {},
   "outputs": [],
   "source": [
    "trainer = Trainer()"
   ]
  },
  {
   "cell_type": "code",
   "execution_count": 10,
   "id": "a898fe31-6556-4071-813e-c12877d1b337",
   "metadata": {},
   "outputs": [
    {
     "data": {
      "text/plain": [
       "Pipeline(steps=[('text_cleaner',\n",
       "                 TextCleaner(columns=['description', 'administrative_status',\n",
       "                                      'marketing_status', 'dosage_form',\n",
       "                                      'marketing_authorization_status',\n",
       "                                      'marketing_authorization_process',\n",
       "                                      'pharmaceutical_companies'])),\n",
       "                ('date_cleaner',\n",
       "                 DateCleaner(columns=['marketing_declaration_date',\n",
       "                                      'marketing_authorization_date'])),\n",
       "                ('percentage_encoder', Percent...\n",
       "                 DropColumnsCleaner(columns=['drug_id', 'description',\n",
       "                                             'administrative_status',\n",
       "                                             'marketing_status',\n",
       "                                             'approved_for_hospital_use',\n",
       "                                             'reimbursement_rate',\n",
       "                                             'dosage_form',\n",
       "                                             'route_of_administration',\n",
       "                                             'marketing_authorization_status',\n",
       "                                             'marketing_declaration_date',\n",
       "                                             'marketing_authorization_date',\n",
       "                                             'marketing_authorization_process',\n",
       "                                             'pharmaceutical_companies',\n",
       "                                             'price']))])"
      ]
     },
     "execution_count": 10,
     "metadata": {},
     "output_type": "execute_result"
    }
   ],
   "source": [
    "trainer.processing_pipe"
   ]
  },
  {
   "cell_type": "code",
   "execution_count": 11,
   "id": "b82312e5-ee17-4f9b-b26c-ef1845b6df3e",
   "metadata": {},
   "outputs": [],
   "source": [
    "df = pd.read_csv(\"../data/drugs_train.csv\")"
   ]
  },
  {
   "cell_type": "code",
   "execution_count": 57,
   "id": "60f176cf-28cc-4333-8ff1-136f2a60a804",
   "metadata": {},
   "outputs": [
    {
     "data": {
      "text/plain": [
       "reimbursement_rate\n",
       "0%      112.220000\n",
       "100%    179.026342\n",
       "15%      13.904326\n",
       "30%       8.406845\n",
       "65%      24.049047\n",
       "Name: price, dtype: float64"
      ]
     },
     "execution_count": 57,
     "metadata": {},
     "output_type": "execute_result"
    }
   ],
   "source": [
    "df.groupby(\"reimbursement_rate\").price.mean()"
   ]
  },
  {
   "cell_type": "code",
   "execution_count": 58,
   "id": "c8d72c81-4799-4b50-958b-dc87ea723f7f",
   "metadata": {},
   "outputs": [
    {
     "data": {
      "text/plain": [
       "65%     7175\n",
       "30%      656\n",
       "15%      393\n",
       "100%     339\n",
       "0%         1\n",
       "Name: reimbursement_rate, dtype: int64"
      ]
     },
     "execution_count": 58,
     "metadata": {},
     "output_type": "execute_result"
    }
   ],
   "source": [
    "df.reimbursement_rate.value_counts()"
   ]
  },
  {
   "cell_type": "code",
   "execution_count": null,
   "id": "116a1442-1232-4aef-b4c0-4115f3bdeb37",
   "metadata": {},
   "outputs": [],
   "source": []
  },
  {
   "cell_type": "code",
   "execution_count": null,
   "id": "bab4965e-e43c-46fe-8327-17b4713caef0",
   "metadata": {},
   "outputs": [],
   "source": []
  },
  {
   "cell_type": "code",
   "execution_count": 12,
   "id": "e274ad46-feab-4cd9-b083-74bada30743c",
   "metadata": {},
   "outputs": [],
   "source": [
    "from sklearn.model_selection import train_test_split\n",
    "df1, df_test = train_test_split(df, random_state=40, test_size=0.2)"
   ]
  },
  {
   "cell_type": "code",
   "execution_count": 13,
   "id": "1b34044f-92fe-4694-b375-fd493583d423",
   "metadata": {},
   "outputs": [
    {
     "name": "stdout",
     "output_type": "stream",
     "text": [
      "====================================================================================================\n",
      "model scored on train: 0.8499800063820713\n",
      "model scored on val: 0.34487998954439136\n",
      "====================================================================================================\n"
     ]
    }
   ],
   "source": [
    "trainer.train(df1)"
   ]
  },
  {
   "cell_type": "code",
   "execution_count": 26,
   "id": "43da2a31-1e74-4d94-aef3-e6ccd5b90ed3",
   "metadata": {},
   "outputs": [],
   "source": [
    "pred1 = trainer.predict(df_test)"
   ]
  },
  {
   "cell_type": "code",
   "execution_count": 27,
   "id": "42a61478-f4ca-4c6f-a211-452cd8195571",
   "metadata": {},
   "outputs": [],
   "source": [
    "truth1 = df_test[[\"drug_id\", \"price\"]]"
   ]
  },
  {
   "cell_type": "code",
   "execution_count": 28,
   "id": "ea457683-3a26-46e2-b041-38ab2b2979c7",
   "metadata": {},
   "outputs": [],
   "source": [
    "from sklearn.metrics import mean_squared_error"
   ]
  },
  {
   "cell_type": "code",
   "execution_count": 29,
   "id": "cbbed823-38ab-4a93-b427-d922fea68c3f",
   "metadata": {},
   "outputs": [
    {
     "data": {
      "text/plain": [
       "62.12042536312071"
      ]
     },
     "execution_count": 29,
     "metadata": {},
     "output_type": "execute_result"
    }
   ],
   "source": [
    "mean_squared_error(pred1.price, truth1.price, squared=False)"
   ]
  },
  {
   "cell_type": "code",
   "execution_count": 30,
   "id": "9cbb58f8-212b-4e38-b801-af28d5fc943a",
   "metadata": {},
   "outputs": [
    {
     "data": {
      "text/html": [
       "<div>\n",
       "<style scoped>\n",
       "    .dataframe tbody tr th:only-of-type {\n",
       "        vertical-align: middle;\n",
       "    }\n",
       "\n",
       "    .dataframe tbody tr th {\n",
       "        vertical-align: top;\n",
       "    }\n",
       "\n",
       "    .dataframe thead th {\n",
       "        text-align: right;\n",
       "    }\n",
       "</style>\n",
       "<table border=\"1\" class=\"dataframe\">\n",
       "  <thead>\n",
       "    <tr style=\"text-align: right;\">\n",
       "      <th></th>\n",
       "      <th>drug_id</th>\n",
       "      <th>price</th>\n",
       "    </tr>\n",
       "  </thead>\n",
       "  <tbody>\n",
       "    <tr>\n",
       "      <th>3955</th>\n",
       "      <td>3955_train</td>\n",
       "      <td>13.835270</td>\n",
       "    </tr>\n",
       "    <tr>\n",
       "      <th>5939</th>\n",
       "      <td>5939_train</td>\n",
       "      <td>18.072357</td>\n",
       "    </tr>\n",
       "    <tr>\n",
       "      <th>8552</th>\n",
       "      <td>8552_train</td>\n",
       "      <td>15.056615</td>\n",
       "    </tr>\n",
       "    <tr>\n",
       "      <th>7083</th>\n",
       "      <td>7083_train</td>\n",
       "      <td>9.449079</td>\n",
       "    </tr>\n",
       "    <tr>\n",
       "      <th>2465</th>\n",
       "      <td>2465_train</td>\n",
       "      <td>40.350082</td>\n",
       "    </tr>\n",
       "  </tbody>\n",
       "</table>\n",
       "</div>"
      ],
      "text/plain": [
       "         drug_id      price\n",
       "3955  3955_train  13.835270\n",
       "5939  5939_train  18.072357\n",
       "8552  8552_train  15.056615\n",
       "7083  7083_train   9.449079\n",
       "2465  2465_train  40.350082"
      ]
     },
     "execution_count": 30,
     "metadata": {},
     "output_type": "execute_result"
    }
   ],
   "source": [
    "pred1.head()"
   ]
  },
  {
   "cell_type": "code",
   "execution_count": 31,
   "id": "aaca9714-ac27-4967-a8fd-063ab3beac8d",
   "metadata": {},
   "outputs": [
    {
     "data": {
      "text/html": [
       "<div>\n",
       "<style scoped>\n",
       "    .dataframe tbody tr th:only-of-type {\n",
       "        vertical-align: middle;\n",
       "    }\n",
       "\n",
       "    .dataframe tbody tr th {\n",
       "        vertical-align: top;\n",
       "    }\n",
       "\n",
       "    .dataframe thead th {\n",
       "        text-align: right;\n",
       "    }\n",
       "</style>\n",
       "<table border=\"1\" class=\"dataframe\">\n",
       "  <thead>\n",
       "    <tr style=\"text-align: right;\">\n",
       "      <th></th>\n",
       "      <th>drug_id</th>\n",
       "      <th>price</th>\n",
       "    </tr>\n",
       "  </thead>\n",
       "  <tbody>\n",
       "    <tr>\n",
       "      <th>3955</th>\n",
       "      <td>3955_train</td>\n",
       "      <td>8.95</td>\n",
       "    </tr>\n",
       "    <tr>\n",
       "      <th>5939</th>\n",
       "      <td>5939_train</td>\n",
       "      <td>10.65</td>\n",
       "    </tr>\n",
       "    <tr>\n",
       "      <th>8552</th>\n",
       "      <td>8552_train</td>\n",
       "      <td>18.95</td>\n",
       "    </tr>\n",
       "    <tr>\n",
       "      <th>7083</th>\n",
       "      <td>7083_train</td>\n",
       "      <td>24.53</td>\n",
       "    </tr>\n",
       "    <tr>\n",
       "      <th>2465</th>\n",
       "      <td>2465_train</td>\n",
       "      <td>47.80</td>\n",
       "    </tr>\n",
       "  </tbody>\n",
       "</table>\n",
       "</div>"
      ],
      "text/plain": [
       "         drug_id  price\n",
       "3955  3955_train   8.95\n",
       "5939  5939_train  10.65\n",
       "8552  8552_train  18.95\n",
       "7083  7083_train  24.53\n",
       "2465  2465_train  47.80"
      ]
     },
     "execution_count": 31,
     "metadata": {},
     "output_type": "execute_result"
    }
   ],
   "source": [
    "truth1.head()"
   ]
  },
  {
   "cell_type": "code",
   "execution_count": 41,
   "id": "94d7cee6-3fd0-4939-ac63-18d7ddb5be7b",
   "metadata": {},
   "outputs": [
    {
     "data": {
      "text/plain": [
       "<AxesSubplot:>"
      ]
     },
     "execution_count": 41,
     "metadata": {},
     "output_type": "execute_result"
    },
    {
     "data": {
      "image/png": "[encoded data removed]",
      "text/plain": [
       "<Figure size 1440x720 with 1 Axes>"
      ]
     },
     "metadata": {
      "needs_background": "light"
     },
     "output_type": "display_data"
    }
   ],
   "source": [
    "feature_important = trainer.model.get_booster().get_score(importance_type='weight')\n",
    "keys = list(feature_important.keys())\n",
    "values = list(feature_important.values())\n",
    "\n",
    "data = pd.DataFrame(data=values, index=keys, columns=[\"score\"]).sort_values(by = \"score\", ascending=False)\n",
    "data.nlargest(40, columns=\"score\").plot(kind='barh', figsize = (20,10)) ## plot top 40 features"
   ]
  },
  {
   "cell_type": "code",
   "execution_count": 51,
   "id": "30915458-c00b-4d8a-a7c6-40d4b4bda9ec",
   "metadata": {},
   "outputs": [],
   "source": [
    "df1_transformed = trainer.processing_pipe.transform(df_test)"
   ]
  },
  {
   "cell_type": "code",
   "execution_count": 52,
   "id": "1d4f4bc0-72ca-456d-af9c-09d562f9c311",
   "metadata": {},
   "outputs": [],
   "source": [
    "df1_transformed[\"price\"] = df_test.price"
   ]
  },
  {
   "cell_type": "code",
   "execution_count": 53,
   "id": "053faacb-93ec-4480-a7a3-b80c6b6f15ea",
   "metadata": {},
   "outputs": [
    {
     "data": {
      "text/html": [
       "<div>\n",
       "<style scoped>\n",
       "    .dataframe tbody tr th:only-of-type {\n",
       "        vertical-align: middle;\n",
       "    }\n",
       "\n",
       "    .dataframe tbody tr th {\n",
       "        vertical-align: top;\n",
       "    }\n",
       "\n",
       "    .dataframe thead th {\n",
       "        text-align: right;\n",
       "    }\n",
       "</style>\n",
       "<table border=\"1\" class=\"dataframe\">\n",
       "  <thead>\n",
       "    <tr style=\"text-align: right;\">\n",
       "      <th></th>\n",
       "      <th>reimbursement_rate_feature</th>\n",
       "      <th>dosage_form_feature</th>\n",
       "      <th>route_of_administration_feature</th>\n",
       "      <th>pharmaceutical_companies_feature</th>\n",
       "      <th>price</th>\n",
       "    </tr>\n",
       "  </thead>\n",
       "  <tbody>\n",
       "    <tr>\n",
       "      <th>3955</th>\n",
       "      <td>0.65</td>\n",
       "      <td>13.109137</td>\n",
       "      <td>20.367947</td>\n",
       "      <td>14.880000</td>\n",
       "      <td>8.95</td>\n",
       "    </tr>\n",
       "    <tr>\n",
       "      <th>5939</th>\n",
       "      <td>0.65</td>\n",
       "      <td>28.881840</td>\n",
       "      <td>20.367947</td>\n",
       "      <td>16.184327</td>\n",
       "      <td>10.65</td>\n",
       "    </tr>\n",
       "    <tr>\n",
       "      <th>8552</th>\n",
       "      <td>0.65</td>\n",
       "      <td>15.896667</td>\n",
       "      <td>20.367947</td>\n",
       "      <td>11.990101</td>\n",
       "      <td>18.95</td>\n",
       "    </tr>\n",
       "    <tr>\n",
       "      <th>7083</th>\n",
       "      <td>0.65</td>\n",
       "      <td>9.906283</td>\n",
       "      <td>20.367947</td>\n",
       "      <td>11.990101</td>\n",
       "      <td>24.53</td>\n",
       "    </tr>\n",
       "    <tr>\n",
       "      <th>2465</th>\n",
       "      <td>0.65</td>\n",
       "      <td>18.272100</td>\n",
       "      <td>20.367947</td>\n",
       "      <td>25.944091</td>\n",
       "      <td>47.80</td>\n",
       "    </tr>\n",
       "    <tr>\n",
       "      <th>...</th>\n",
       "      <td>...</td>\n",
       "      <td>...</td>\n",
       "      <td>...</td>\n",
       "      <td>...</td>\n",
       "      <td>...</td>\n",
       "    </tr>\n",
       "    <tr>\n",
       "      <th>6657</th>\n",
       "      <td>0.65</td>\n",
       "      <td>8.566154</td>\n",
       "      <td>20.367947</td>\n",
       "      <td>25.020741</td>\n",
       "      <td>2.85</td>\n",
       "    </tr>\n",
       "    <tr>\n",
       "      <th>6306</th>\n",
       "      <td>0.65</td>\n",
       "      <td>31.158289</td>\n",
       "      <td>20.367947</td>\n",
       "      <td>11.990101</td>\n",
       "      <td>16.03</td>\n",
       "    </tr>\n",
       "    <tr>\n",
       "      <th>7252</th>\n",
       "      <td>0.65</td>\n",
       "      <td>18.272100</td>\n",
       "      <td>20.367947</td>\n",
       "      <td>12.873593</td>\n",
       "      <td>4.69</td>\n",
       "    </tr>\n",
       "    <tr>\n",
       "      <th>5246</th>\n",
       "      <td>0.65</td>\n",
       "      <td>23.204590</td>\n",
       "      <td>20.367947</td>\n",
       "      <td>16.184327</td>\n",
       "      <td>4.49</td>\n",
       "    </tr>\n",
       "    <tr>\n",
       "      <th>4003</th>\n",
       "      <td>0.65</td>\n",
       "      <td>NaN</td>\n",
       "      <td>42.898722</td>\n",
       "      <td>11.341863</td>\n",
       "      <td>13.00</td>\n",
       "    </tr>\n",
       "  </tbody>\n",
       "</table>\n",
       "<p>1713 rows × 5 columns</p>\n",
       "</div>"
      ],
      "text/plain": [
       "      reimbursement_rate_feature  dosage_form_feature  \\\n",
       "3955                        0.65            13.109137   \n",
       "5939                        0.65            28.881840   \n",
       "8552                        0.65            15.896667   \n",
       "7083                        0.65             9.906283   \n",
       "2465                        0.65            18.272100   \n",
       "...                          ...                  ...   \n",
       "6657                        0.65             8.566154   \n",
       "6306                        0.65            31.158289   \n",
       "7252                        0.65            18.272100   \n",
       "5246                        0.65            23.204590   \n",
       "4003                        0.65                  NaN   \n",
       "\n",
       "      route_of_administration_feature  pharmaceutical_companies_feature  price  \n",
       "3955                        20.367947                         14.880000   8.95  \n",
       "5939                        20.367947                         16.184327  10.65  \n",
       "8552                        20.367947                         11.990101  18.95  \n",
       "7083                        20.367947                         11.990101  24.53  \n",
       "2465                        20.367947                         25.944091  47.80  \n",
       "...                               ...                               ...    ...  \n",
       "6657                        20.367947                         25.020741   2.85  \n",
       "6306                        20.367947                         11.990101  16.03  \n",
       "7252                        20.367947                         12.873593   4.69  \n",
       "5246                        20.367947                         16.184327   4.49  \n",
       "4003                        42.898722                         11.341863  13.00  \n",
       "\n",
       "[1713 rows x 5 columns]"
      ]
     },
     "execution_count": 53,
     "metadata": {},
     "output_type": "execute_result"
    }
   ],
   "source": [
    "df1_transformed"
   ]
  },
  {
   "cell_type": "code",
   "execution_count": 54,
   "id": "80ac8e42-e99a-4d75-a084-00a6fa204f04",
   "metadata": {},
   "outputs": [
    {
     "data": {
      "text/html": [
       "<div>\n",
       "<style scoped>\n",
       "    .dataframe tbody tr th:only-of-type {\n",
       "        vertical-align: middle;\n",
       "    }\n",
       "\n",
       "    .dataframe tbody tr th {\n",
       "        vertical-align: top;\n",
       "    }\n",
       "\n",
       "    .dataframe thead th {\n",
       "        text-align: right;\n",
       "    }\n",
       "</style>\n",
       "<table border=\"1\" class=\"dataframe\">\n",
       "  <thead>\n",
       "    <tr style=\"text-align: right;\">\n",
       "      <th></th>\n",
       "      <th>reimbursement_rate_feature</th>\n",
       "      <th>dosage_form_feature</th>\n",
       "      <th>route_of_administration_feature</th>\n",
       "      <th>pharmaceutical_companies_feature</th>\n",
       "      <th>price</th>\n",
       "    </tr>\n",
       "  </thead>\n",
       "  <tbody>\n",
       "    <tr>\n",
       "      <th>reimbursement_rate_feature</th>\n",
       "      <td>1.000000</td>\n",
       "      <td>0.157768</td>\n",
       "      <td>0.186765</td>\n",
       "      <td>0.163499</td>\n",
       "      <td>0.251746</td>\n",
       "    </tr>\n",
       "    <tr>\n",
       "      <th>dosage_form_feature</th>\n",
       "      <td>0.157768</td>\n",
       "      <td>1.000000</td>\n",
       "      <td>0.546932</td>\n",
       "      <td>0.289847</td>\n",
       "      <td>0.392613</td>\n",
       "    </tr>\n",
       "    <tr>\n",
       "      <th>route_of_administration_feature</th>\n",
       "      <td>0.186765</td>\n",
       "      <td>0.546932</td>\n",
       "      <td>1.000000</td>\n",
       "      <td>0.373699</td>\n",
       "      <td>0.527571</td>\n",
       "    </tr>\n",
       "    <tr>\n",
       "      <th>pharmaceutical_companies_feature</th>\n",
       "      <td>0.163499</td>\n",
       "      <td>0.289847</td>\n",
       "      <td>0.373699</td>\n",
       "      <td>1.000000</td>\n",
       "      <td>0.488302</td>\n",
       "    </tr>\n",
       "    <tr>\n",
       "      <th>price</th>\n",
       "      <td>0.251746</td>\n",
       "      <td>0.392613</td>\n",
       "      <td>0.527571</td>\n",
       "      <td>0.488302</td>\n",
       "      <td>1.000000</td>\n",
       "    </tr>\n",
       "  </tbody>\n",
       "</table>\n",
       "</div>"
      ],
      "text/plain": [
       "                                  reimbursement_rate_feature  \\\n",
       "reimbursement_rate_feature                          1.000000   \n",
       "dosage_form_feature                                 0.157768   \n",
       "route_of_administration_feature                     0.186765   \n",
       "pharmaceutical_companies_feature                    0.163499   \n",
       "price                                               0.251746   \n",
       "\n",
       "                                  dosage_form_feature  \\\n",
       "reimbursement_rate_feature                   0.157768   \n",
       "dosage_form_feature                          1.000000   \n",
       "route_of_administration_feature              0.546932   \n",
       "pharmaceutical_companies_feature             0.289847   \n",
       "price                                        0.392613   \n",
       "\n",
       "                                  route_of_administration_feature  \\\n",
       "reimbursement_rate_feature                               0.186765   \n",
       "dosage_form_feature                                      0.546932   \n",
       "route_of_administration_feature                          1.000000   \n",
       "pharmaceutical_companies_feature                         0.373699   \n",
       "price                                                    0.527571   \n",
       "\n",
       "                                  pharmaceutical_companies_feature     price  \n",
       "reimbursement_rate_feature                                0.163499  0.251746  \n",
       "dosage_form_feature                                       0.289847  0.392613  \n",
       "route_of_administration_feature                           0.373699  0.527571  \n",
       "pharmaceutical_companies_feature                          1.000000  0.488302  \n",
       "price                                                     0.488302  1.000000  "
      ]
     },
     "execution_count": 54,
     "metadata": {},
     "output_type": "execute_result"
    }
   ],
   "source": [
    "df1_transformed.corr()"
   ]
  },
  {
   "cell_type": "code",
   "execution_count": 56,
   "id": "c2b016f0-e526-434e-b82f-88ce9da6f82a",
   "metadata": {},
   "outputs": [
    {
     "data": {
      "text/plain": [
       "0.65    1438\n",
       "0.30     135\n",
       "0.15      71\n",
       "1.00      69\n",
       "Name: reimbursement_rate_feature, dtype: int64"
      ]
     },
     "execution_count": 56,
     "metadata": {},
     "output_type": "execute_result"
    }
   ],
   "source": [
    "df1_transformed.reimbursement_rate_feature.value_counts()"
   ]
  },
  {
   "cell_type": "code",
   "execution_count": null,
   "id": "6b972638-fe1e-4804-8fe2-3e8ea6f14bee",
   "metadata": {},
   "outputs": [],
   "source": []
  }
 ],
 "metadata": {
  "kernelspec": {
   "display_name": "Python 3 (ipykernel)",
   "language": "python",
   "name": "python3"
  },
  "language_info": {
   "codemirror_mode": {
    "name": "ipython",
    "version": 3
   },
   "file_extension": ".py",
   "mimetype": "text/x-python",
   "name": "python",
   "nbconvert_exporter": "python",
   "pygments_lexer": "ipython3",
   "version": "3.8.10"
  }
 },
 "nbformat": 4,
 "nbformat_minor": 5
}
