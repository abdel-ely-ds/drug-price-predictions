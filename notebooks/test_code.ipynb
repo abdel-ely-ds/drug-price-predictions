{
 "cells": [
  {
   "cell_type": "code",
   "execution_count": 1,
   "id": "97edde15-1258-4097-a617-e262c3c98be7",
   "metadata": {},
   "outputs": [],
   "source": [
    "from drugs import Drugs\n",
    "import pandas as pd"
   ]
  },
  {
   "cell_type": "code",
   "execution_count": 2,
   "id": "b82312e5-ee17-4f9b-b26c-ef1845b6df3e",
   "metadata": {},
   "outputs": [],
   "source": [
    "df = pd.read_csv(\"../data/drugs_train.csv\")"
   ]
  },
  {
   "cell_type": "code",
   "execution_count": 3,
   "id": "5bcec177-d4ee-4e74-8238-4d580fdb2b76",
   "metadata": {},
   "outputs": [],
   "source": [
    "df_ingredient= pd.read_csv(\"../data/active_ingredients.csv\")"
   ]
  },
  {
   "cell_type": "code",
   "execution_count": 18,
   "id": "1c2b3644-2209-4928-aef6-22106253ae04",
   "metadata": {},
   "outputs": [
    {
     "data": {
      "text/html": [
       "<div>\n",
       "<style scoped>\n",
       "    .dataframe tbody tr th:only-of-type {\n",
       "        vertical-align: middle;\n",
       "    }\n",
       "\n",
       "    .dataframe tbody tr th {\n",
       "        vertical-align: top;\n",
       "    }\n",
       "\n",
       "    .dataframe thead th {\n",
       "        text-align: right;\n",
       "    }\n",
       "</style>\n",
       "<table border=\"1\" class=\"dataframe\">\n",
       "  <thead>\n",
       "    <tr style=\"text-align: right;\">\n",
       "      <th></th>\n",
       "      <th>drug_id</th>\n",
       "      <th>description</th>\n",
       "      <th>administrative_status</th>\n",
       "      <th>marketing_status</th>\n",
       "      <th>approved_for_hospital_use</th>\n",
       "      <th>reimbursement_rate</th>\n",
       "      <th>dosage_form</th>\n",
       "      <th>route_of_administration</th>\n",
       "      <th>marketing_authorization_status</th>\n",
       "      <th>marketing_declaration_date</th>\n",
       "      <th>marketing_authorization_date</th>\n",
       "      <th>marketing_authorization_process</th>\n",
       "      <th>pharmaceutical_companies</th>\n",
       "      <th>price</th>\n",
       "      <th>active_ingredient</th>\n",
       "    </tr>\n",
       "  </thead>\n",
       "  <tbody>\n",
       "    <tr>\n",
       "      <th>0</th>\n",
       "      <td>2850_train</td>\n",
       "      <td>plaquette(s) thermoformée(s) aluminium polyami...</td>\n",
       "      <td>Présentation active</td>\n",
       "      <td>Déclaration de commercialisation</td>\n",
       "      <td>oui</td>\n",
       "      <td>65%</td>\n",
       "      <td>comprimé sécable</td>\n",
       "      <td>orale</td>\n",
       "      <td>Autorisation active</td>\n",
       "      <td>20140101</td>\n",
       "      <td>20020101</td>\n",
       "      <td>Procédure nationale</td>\n",
       "      <td>RATIOPHARM (ALLEMAGNE)</td>\n",
       "      <td>2.64</td>\n",
       "      <td>MALÉATE D'ÉNALAPRIL</td>\n",
       "    </tr>\n",
       "    <tr>\n",
       "      <th>1</th>\n",
       "      <td>3258_train</td>\n",
       "      <td>1 seringue(s) préremplie(s) polycyclooléfine -...</td>\n",
       "      <td>Présentation active</td>\n",
       "      <td>Déclaration de commercialisation</td>\n",
       "      <td>oui</td>\n",
       "      <td>100%</td>\n",
       "      <td>poudre et  solvant pour solution injectable</td>\n",
       "      <td>sous-cutanée</td>\n",
       "      <td>Autorisation active</td>\n",
       "      <td>20060101</td>\n",
       "      <td>20050101</td>\n",
       "      <td>Procédure de reconnaissance mutuelle</td>\n",
       "      <td>ASTELLAS PHARMA</td>\n",
       "      <td>121.52</td>\n",
       "      <td>LEUPRORÉLINE</td>\n",
       "    </tr>\n",
       "    <tr>\n",
       "      <th>2</th>\n",
       "      <td>3258_train</td>\n",
       "      <td>1 seringue(s) préremplie(s) polycyclooléfine -...</td>\n",
       "      <td>Présentation active</td>\n",
       "      <td>Déclaration de commercialisation</td>\n",
       "      <td>oui</td>\n",
       "      <td>100%</td>\n",
       "      <td>poudre et  solvant pour solution injectable</td>\n",
       "      <td>sous-cutanée</td>\n",
       "      <td>Autorisation active</td>\n",
       "      <td>20060101</td>\n",
       "      <td>20050101</td>\n",
       "      <td>Procédure de reconnaissance mutuelle</td>\n",
       "      <td>ASTELLAS PHARMA</td>\n",
       "      <td>121.52</td>\n",
       "      <td>ACÉTATE DE LEUPRORÉLINE</td>\n",
       "    </tr>\n",
       "    <tr>\n",
       "      <th>3</th>\n",
       "      <td>7437_train</td>\n",
       "      <td>flacon(s) polyéthylène haute densité (PEHD) de...</td>\n",
       "      <td>Présentation active</td>\n",
       "      <td>Déclaration de commercialisation</td>\n",
       "      <td>oui</td>\n",
       "      <td>65%</td>\n",
       "      <td>gélule gastro-résistant(e)</td>\n",
       "      <td>orale</td>\n",
       "      <td>Autorisation active</td>\n",
       "      <td>20140101</td>\n",
       "      <td>20100101</td>\n",
       "      <td>Procédure nationale</td>\n",
       "      <td>ARROW GENERIQUES</td>\n",
       "      <td>3.94</td>\n",
       "      <td>OMÉPRAZOLE</td>\n",
       "    </tr>\n",
       "    <tr>\n",
       "      <th>4</th>\n",
       "      <td>7443_train</td>\n",
       "      <td>1 flacon(s) en verre brun avec cuillère-mesure...</td>\n",
       "      <td>Présentation active</td>\n",
       "      <td>Déclaration de commercialisation</td>\n",
       "      <td>oui</td>\n",
       "      <td>65%</td>\n",
       "      <td>poudre pour suspension buvable</td>\n",
       "      <td>orale</td>\n",
       "      <td>Autorisation active</td>\n",
       "      <td>20050101</td>\n",
       "      <td>19960101</td>\n",
       "      <td>Procédure nationale</td>\n",
       "      <td>SANDOZ</td>\n",
       "      <td>1.38</td>\n",
       "      <td>AMOXICILLINE ANHYDRE</td>\n",
       "    </tr>\n",
       "    <tr>\n",
       "      <th>...</th>\n",
       "      <td>...</td>\n",
       "      <td>...</td>\n",
       "      <td>...</td>\n",
       "      <td>...</td>\n",
       "      <td>...</td>\n",
       "      <td>...</td>\n",
       "      <td>...</td>\n",
       "      <td>...</td>\n",
       "      <td>...</td>\n",
       "      <td>...</td>\n",
       "      <td>...</td>\n",
       "      <td>...</td>\n",
       "      <td>...</td>\n",
       "      <td>...</td>\n",
       "      <td>...</td>\n",
       "    </tr>\n",
       "    <tr>\n",
       "      <th>11054</th>\n",
       "      <td>3603_train</td>\n",
       "      <td>1 flacon(s) en verre - 1 seringue(s) prérempli...</td>\n",
       "      <td>Présentation active</td>\n",
       "      <td>Déclaration de commercialisation</td>\n",
       "      <td>oui</td>\n",
       "      <td>65%</td>\n",
       "      <td>poudre et  suspension pour suspension injectable</td>\n",
       "      <td>intramusculaire</td>\n",
       "      <td>Autorisation active</td>\n",
       "      <td>20060101</td>\n",
       "      <td>20000101</td>\n",
       "      <td>Procédure centralisée</td>\n",
       "      <td>GLAXOSMITHKLINE BIOLOGICALS</td>\n",
       "      <td>38.76</td>\n",
       "      <td>VIRUS POLIOMYÉLITIQUE SOUCHE MEF-1 DE TYPE 2 ...</td>\n",
       "    </tr>\n",
       "    <tr>\n",
       "      <th>11055</th>\n",
       "      <td>5959_train</td>\n",
       "      <td>pilulier(s) polyéthylène haute densité (PEHD) ...</td>\n",
       "      <td>Présentation active</td>\n",
       "      <td>Déclaration d'arrêt de commercialisation</td>\n",
       "      <td>non</td>\n",
       "      <td>65%</td>\n",
       "      <td>gélule gastro-résistant(e)</td>\n",
       "      <td>orale</td>\n",
       "      <td>Autorisation active</td>\n",
       "      <td>20140101</td>\n",
       "      <td>20030101</td>\n",
       "      <td>Procédure nationale</td>\n",
       "      <td>TEVA SANTE</td>\n",
       "      <td>1.88</td>\n",
       "      <td>OMÉPRAZOLE</td>\n",
       "    </tr>\n",
       "    <tr>\n",
       "      <th>11056</th>\n",
       "      <td>5426_train</td>\n",
       "      <td>1 seringue(s) backstop en verre préremplie(s) ...</td>\n",
       "      <td>Présentation active</td>\n",
       "      <td>Déclaration de commercialisation</td>\n",
       "      <td>oui</td>\n",
       "      <td>65%</td>\n",
       "      <td>suspension injectable</td>\n",
       "      <td>intramusculaire,sous-cutanée</td>\n",
       "      <td>Autorisation active</td>\n",
       "      <td>20010101</td>\n",
       "      <td>19940101</td>\n",
       "      <td>Procédure de reconnaissance mutuelle</td>\n",
       "      <td>GLAXOSMITHKLINE</td>\n",
       "      <td>17.01</td>\n",
       "      <td>ANTIGÈNE  DE SURFACE DE L'HÉPATITE B RECOMBINA...</td>\n",
       "    </tr>\n",
       "    <tr>\n",
       "      <th>11057</th>\n",
       "      <td>7608_train</td>\n",
       "      <td>plaquette(s) thermoformée(s) PVC PVDC aluminiu...</td>\n",
       "      <td>Présentation active</td>\n",
       "      <td>Déclaration de commercialisation</td>\n",
       "      <td>oui</td>\n",
       "      <td>15%</td>\n",
       "      <td>gélule</td>\n",
       "      <td>orale</td>\n",
       "      <td>Autorisation active</td>\n",
       "      <td>20110101</td>\n",
       "      <td>20100101</td>\n",
       "      <td>Procédure décentralisée</td>\n",
       "      <td>MYLAN SAS</td>\n",
       "      <td>29.45</td>\n",
       "      <td>RIVASTIGMINE (HYDROGÉNOTARTRATE DE)</td>\n",
       "    </tr>\n",
       "    <tr>\n",
       "      <th>11058</th>\n",
       "      <td>7608_train</td>\n",
       "      <td>plaquette(s) thermoformée(s) PVC PVDC aluminiu...</td>\n",
       "      <td>Présentation active</td>\n",
       "      <td>Déclaration de commercialisation</td>\n",
       "      <td>oui</td>\n",
       "      <td>15%</td>\n",
       "      <td>gélule</td>\n",
       "      <td>orale</td>\n",
       "      <td>Autorisation active</td>\n",
       "      <td>20110101</td>\n",
       "      <td>20100101</td>\n",
       "      <td>Procédure décentralisée</td>\n",
       "      <td>MYLAN SAS</td>\n",
       "      <td>29.45</td>\n",
       "      <td>RIVASTIGMINE BASE</td>\n",
       "    </tr>\n",
       "  </tbody>\n",
       "</table>\n",
       "<p>11059 rows × 15 columns</p>\n",
       "</div>"
      ],
      "text/plain": [
       "          drug_id                                        description  \\\n",
       "0      2850_train  plaquette(s) thermoformée(s) aluminium polyami...   \n",
       "1      3258_train  1 seringue(s) préremplie(s) polycyclooléfine -...   \n",
       "2      3258_train  1 seringue(s) préremplie(s) polycyclooléfine -...   \n",
       "3      7437_train  flacon(s) polyéthylène haute densité (PEHD) de...   \n",
       "4      7443_train  1 flacon(s) en verre brun avec cuillère-mesure...   \n",
       "...           ...                                                ...   \n",
       "11054  3603_train  1 flacon(s) en verre - 1 seringue(s) prérempli...   \n",
       "11055  5959_train  pilulier(s) polyéthylène haute densité (PEHD) ...   \n",
       "11056  5426_train  1 seringue(s) backstop en verre préremplie(s) ...   \n",
       "11057  7608_train  plaquette(s) thermoformée(s) PVC PVDC aluminiu...   \n",
       "11058  7608_train  plaquette(s) thermoformée(s) PVC PVDC aluminiu...   \n",
       "\n",
       "      administrative_status                          marketing_status  \\\n",
       "0       Présentation active          Déclaration de commercialisation   \n",
       "1       Présentation active          Déclaration de commercialisation   \n",
       "2       Présentation active          Déclaration de commercialisation   \n",
       "3       Présentation active          Déclaration de commercialisation   \n",
       "4       Présentation active          Déclaration de commercialisation   \n",
       "...                     ...                                       ...   \n",
       "11054   Présentation active          Déclaration de commercialisation   \n",
       "11055   Présentation active  Déclaration d'arrêt de commercialisation   \n",
       "11056   Présentation active          Déclaration de commercialisation   \n",
       "11057   Présentation active          Déclaration de commercialisation   \n",
       "11058   Présentation active          Déclaration de commercialisation   \n",
       "\n",
       "      approved_for_hospital_use reimbursement_rate  \\\n",
       "0                           oui                65%   \n",
       "1                           oui               100%   \n",
       "2                           oui               100%   \n",
       "3                           oui                65%   \n",
       "4                           oui                65%   \n",
       "...                         ...                ...   \n",
       "11054                       oui                65%   \n",
       "11055                       non                65%   \n",
       "11056                       oui                65%   \n",
       "11057                       oui                15%   \n",
       "11058                       oui                15%   \n",
       "\n",
       "                                            dosage_form  \\\n",
       "0                                      comprimé sécable   \n",
       "1           poudre et  solvant pour solution injectable   \n",
       "2           poudre et  solvant pour solution injectable   \n",
       "3                            gélule gastro-résistant(e)   \n",
       "4                        poudre pour suspension buvable   \n",
       "...                                                 ...   \n",
       "11054  poudre et  suspension pour suspension injectable   \n",
       "11055                        gélule gastro-résistant(e)   \n",
       "11056                             suspension injectable   \n",
       "11057                                            gélule   \n",
       "11058                                            gélule   \n",
       "\n",
       "            route_of_administration marketing_authorization_status  \\\n",
       "0                             orale            Autorisation active   \n",
       "1                      sous-cutanée            Autorisation active   \n",
       "2                      sous-cutanée            Autorisation active   \n",
       "3                             orale            Autorisation active   \n",
       "4                             orale            Autorisation active   \n",
       "...                             ...                            ...   \n",
       "11054               intramusculaire            Autorisation active   \n",
       "11055                         orale            Autorisation active   \n",
       "11056  intramusculaire,sous-cutanée            Autorisation active   \n",
       "11057                         orale            Autorisation active   \n",
       "11058                         orale            Autorisation active   \n",
       "\n",
       "       marketing_declaration_date  marketing_authorization_date  \\\n",
       "0                        20140101                      20020101   \n",
       "1                        20060101                      20050101   \n",
       "2                        20060101                      20050101   \n",
       "3                        20140101                      20100101   \n",
       "4                        20050101                      19960101   \n",
       "...                           ...                           ...   \n",
       "11054                    20060101                      20000101   \n",
       "11055                    20140101                      20030101   \n",
       "11056                    20010101                      19940101   \n",
       "11057                    20110101                      20100101   \n",
       "11058                    20110101                      20100101   \n",
       "\n",
       "            marketing_authorization_process      pharmaceutical_companies  \\\n",
       "0                       Procédure nationale        RATIOPHARM (ALLEMAGNE)   \n",
       "1      Procédure de reconnaissance mutuelle               ASTELLAS PHARMA   \n",
       "2      Procédure de reconnaissance mutuelle               ASTELLAS PHARMA   \n",
       "3                       Procédure nationale              ARROW GENERIQUES   \n",
       "4                       Procédure nationale                        SANDOZ   \n",
       "...                                     ...                           ...   \n",
       "11054                 Procédure centralisée   GLAXOSMITHKLINE BIOLOGICALS   \n",
       "11055                   Procédure nationale                    TEVA SANTE   \n",
       "11056  Procédure de reconnaissance mutuelle               GLAXOSMITHKLINE   \n",
       "11057               Procédure décentralisée                     MYLAN SAS   \n",
       "11058               Procédure décentralisée                     MYLAN SAS   \n",
       "\n",
       "        price                                  active_ingredient  \n",
       "0        2.64                                MALÉATE D'ÉNALAPRIL  \n",
       "1      121.52                                       LEUPRORÉLINE  \n",
       "2      121.52                            ACÉTATE DE LEUPRORÉLINE  \n",
       "3        3.94                                         OMÉPRAZOLE  \n",
       "4        1.38                               AMOXICILLINE ANHYDRE  \n",
       "...       ...                                                ...  \n",
       "11054   38.76   VIRUS POLIOMYÉLITIQUE SOUCHE MEF-1 DE TYPE 2 ...  \n",
       "11055    1.88                                         OMÉPRAZOLE  \n",
       "11056   17.01  ANTIGÈNE  DE SURFACE DE L'HÉPATITE B RECOMBINA...  \n",
       "11057   29.45                RIVASTIGMINE (HYDROGÉNOTARTRATE DE)  \n",
       "11058   29.45                                  RIVASTIGMINE BASE  \n",
       "\n",
       "[11059 rows x 15 columns]"
      ]
     },
     "execution_count": 18,
     "metadata": {},
     "output_type": "execute_result"
    }
   ],
   "source": [
    "df_train.merge(df_ingredient)"
   ]
  },
  {
   "cell_type": "code",
   "execution_count": 4,
   "id": "e274ad46-feab-4cd9-b083-74bada30743c",
   "metadata": {},
   "outputs": [],
   "source": [
    "from sklearn.model_selection import train_test_split\n",
    "df_train, df_test = train_test_split(df, random_state=40, test_size=0.2)\n",
    "ngredient_train = df_ingredient[df_ingredient.drug_id.isin(df_train.drug_id)]\n",
    "ingredienti_test = df_ingredient[df_ingredient.drug_id.isin(df_test.drug_id)]"
   ]
  },
  {
   "cell_type": "code",
   "execution_count": 5,
   "id": "32132ab8-a520-40b0-bb4c-e4c0830526a8",
   "metadata": {},
   "outputs": [
    {
     "data": {
      "text/plain": [
       "6851"
      ]
     },
     "execution_count": 5,
     "metadata": {},
     "output_type": "execute_result"
    }
   ],
   "source": [
    "df_train.drug_id.nunique()"
   ]
  },
  {
   "cell_type": "code",
   "execution_count": 6,
   "id": "03b41876-2ed9-449f-b56c-71c221b6fde0",
   "metadata": {},
   "outputs": [
    {
     "data": {
      "text/plain": [
       "6851"
      ]
     },
     "execution_count": 6,
     "metadata": {},
     "output_type": "execute_result"
    }
   ],
   "source": [
    "ingredient_train.drug_id.nunique()"
   ]
  },
  {
   "cell_type": "code",
   "execution_count": 17,
   "id": "103c9270-f96a-46fe-bbfd-ab99f99dd0aa",
   "metadata": {},
   "outputs": [
    {
     "data": {
      "text/plain": [
       "(11059, 15)"
      ]
     },
     "execution_count": 17,
     "metadata": {},
     "output_type": "execute_result"
    }
   ],
   "source": [
    "df_full_train.shape"
   ]
  },
  {
   "cell_type": "code",
   "execution_count": 7,
   "id": "3dadc046-c9f8-4b12-a836-5ad42c58cffb",
   "metadata": {},
   "outputs": [],
   "source": [
    "df_full_train = df_train.merge(ingredient_train)"
   ]
  },
  {
   "cell_type": "code",
   "execution_count": 8,
   "id": "88b28e25-309f-4b2f-ad33-1fb706557589",
   "metadata": {},
   "outputs": [],
   "source": [
    "df_full_test = df_test.merge(ingredient_test)"
   ]
  },
  {
   "cell_type": "code",
   "execution_count": 9,
   "id": "9e882edb-4d40-4150-a492-5f60f180a3e5",
   "metadata": {},
   "outputs": [],
   "source": [
    "drugs = Drugs()"
   ]
  },
  {
   "cell_type": "code",
   "execution_count": 10,
   "id": "2e1aab68-78a7-4109-beff-b407a178da5a",
   "metadata": {},
   "outputs": [],
   "source": [
    "pipe = drugs.processing_pipe"
   ]
  },
  {
   "cell_type": "code",
   "execution_count": 11,
   "id": "8955a29d-e005-4597-a9af-2d2adf177cf9",
   "metadata": {},
   "outputs": [
    {
     "data": {
      "text/plain": [
       "Pipeline(steps=[('text_cleaner',\n",
       "                 TextCleaner(columns=['description', 'administrative_status',\n",
       "                                      'marketing_status', 'dosage_form',\n",
       "                                      'marketing_authorization_status',\n",
       "                                      'marketing_authorization_process',\n",
       "                                      'pharmaceutical_companies'])),\n",
       "                ('date_cleaner',\n",
       "                 DateCleaner(columns=['marketing_declaration_date',\n",
       "                                      'marketing_authorization_date'])),\n",
       "                ('percentage_encoder', Percent...\n",
       "                 DropColumnsCleaner(columns=['drug_id', 'description',\n",
       "                                             'administrative_status',\n",
       "                                             'marketing_status',\n",
       "                                             'approved_for_hospital_use',\n",
       "                                             'reimbursement_rate',\n",
       "                                             'dosage_form',\n",
       "                                             'route_of_administration',\n",
       "                                             'marketing_authorization_status',\n",
       "                                             'marketing_declaration_date',\n",
       "                                             'marketing_authorization_date',\n",
       "                                             'marketing_authorization_process',\n",
       "                                             'pharmaceutical_companies',\n",
       "                                             'price']))])"
      ]
     },
     "execution_count": 11,
     "metadata": {},
     "output_type": "execute_result"
    }
   ],
   "source": [
    "pipe.fit(df_full_train)"
   ]
  },
  {
   "cell_type": "code",
   "execution_count": 12,
   "id": "42f59858-d12c-4401-8a3a-a4df2bfaf5b4",
   "metadata": {},
   "outputs": [
    {
     "data": {
      "text/plain": [
       "Pipeline(steps=[('text_cleaner',\n",
       "                 TextCleaner(columns=['description', 'administrative_status',\n",
       "                                      'marketing_status', 'dosage_form',\n",
       "                                      'marketing_authorization_status',\n",
       "                                      'marketing_authorization_process',\n",
       "                                      'pharmaceutical_companies'])),\n",
       "                ('date_cleaner',\n",
       "                 DateCleaner(columns=['marketing_declaration_date',\n",
       "                                      'marketing_authorization_date'])),\n",
       "                ('percentage_encoder', Percent...\n",
       "                 DropColumnsCleaner(columns=['drug_id', 'description',\n",
       "                                             'administrative_status',\n",
       "                                             'marketing_status',\n",
       "                                             'approved_for_hospital_use',\n",
       "                                             'reimbursement_rate',\n",
       "                                             'dosage_form',\n",
       "                                             'route_of_administration',\n",
       "                                             'marketing_authorization_status',\n",
       "                                             'marketing_declaration_date',\n",
       "                                             'marketing_authorization_date',\n",
       "                                             'marketing_authorization_process',\n",
       "                                             'pharmaceutical_companies',\n",
       "                                             'price']))])"
      ]
     },
     "execution_count": 12,
     "metadata": {},
     "output_type": "execute_result"
    }
   ],
   "source": [
    "pipe.fit(df_full_train)"
   ]
  },
  {
   "cell_type": "code",
   "execution_count": 13,
   "id": "0b0cbe16-da4f-4861-a5c5-c8c29970a6cd",
   "metadata": {},
   "outputs": [],
   "source": [
    "x = pipe.transform(df_full_train)"
   ]
  },
  {
   "cell_type": "code",
   "execution_count": 14,
   "id": "2602836c-c929-46ac-be7f-3245a3c7eb40",
   "metadata": {},
   "outputs": [
    {
     "data": {
      "text/plain": [
       "(6851, 8)"
      ]
     },
     "execution_count": 14,
     "metadata": {},
     "output_type": "execute_result"
    }
   ],
   "source": [
    "x.shape"
   ]
  },
  {
   "cell_type": "code",
   "execution_count": 15,
   "id": "5d1c27b5-66a5-4547-aa9c-730e62a1c9ff",
   "metadata": {
    "tags": []
   },
   "outputs": [
    {
     "name": "stdout",
     "output_type": "stream",
     "text": [
      "====================================================================================================\n",
      "RMSE SCORE ON TRAIN: 22.731697288122028\n",
      "RMSE SCORE ON VAL: 63.126889142198976\n",
      "====================================================================================================\n"
     ]
    }
   ],
   "source": [
    "drugs.fit(df_full_train)"
   ]
  },
  {
   "cell_type": "code",
   "execution_count": null,
   "id": "3ffa21e7-e38e-4063-9152-3db3863d3fcf",
   "metadata": {},
   "outputs": [],
   "source": []
  }
 ],
 "metadata": {
  "kernelspec": {
   "display_name": "Python 3 (ipykernel)",
   "language": "python",
   "name": "python3"
  },
  "language_info": {
   "codemirror_mode": {
    "name": "ipython",
    "version": 3
   },
   "file_extension": ".py",
   "mimetype": "text/x-python",
   "name": "python",
   "nbconvert_exporter": "python",
   "pygments_lexer": "ipython3",
   "version": "3.8.10"
  }
 },
 "nbformat": 4,
 "nbformat_minor": 5
}
