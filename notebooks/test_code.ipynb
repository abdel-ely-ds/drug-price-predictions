{
 "cells": [
  {
   "cell_type": "code",
   "execution_count": 1,
   "id": "97edde15-1258-4097-a617-e262c3c98be7",
   "metadata": {},
   "outputs": [],
   "source": [
    "from drugs import Drugs\n",
    "import pandas as pd"
   ]
  },
  {
   "cell_type": "code",
   "execution_count": 2,
   "id": "b82312e5-ee17-4f9b-b26c-ef1845b6df3e",
   "metadata": {},
   "outputs": [],
   "source": [
    "df = pd.read_csv(\"../data/drugs_train.csv\")"
   ]
  },
  {
   "cell_type": "code",
   "execution_count": 3,
   "id": "5bcec177-d4ee-4e74-8238-4d580fdb2b76",
   "metadata": {},
   "outputs": [],
   "source": [
    "df_ingredient= pd.read_csv(\"../data/active_ingredients.csv\")"
   ]
  },
  {
   "cell_type": "code",
   "execution_count": 4,
   "id": "e274ad46-feab-4cd9-b083-74bada30743c",
   "metadata": {},
   "outputs": [],
   "source": [
    "from sklearn.model_selection import train_test_split\n",
    "df_train, df_test = train_test_split(df, random_state=40, test_size=0.2)"
   ]
  },
  {
   "cell_type": "code",
   "execution_count": 5,
   "id": "32132ab8-a520-40b0-bb4c-e4c0830526a8",
   "metadata": {},
   "outputs": [
    {
     "data": {
      "text/plain": [
       "(6851, 1713)"
      ]
     },
     "execution_count": 5,
     "metadata": {},
     "output_type": "execute_result"
    }
   ],
   "source": [
    "len(df_train), len(df_test)"
   ]
  },
  {
   "cell_type": "code",
   "execution_count": 6,
   "id": "330514d7-e5c4-456c-a059-3cdbf30f89a6",
   "metadata": {},
   "outputs": [],
   "source": [
    "df_ingredient_train = df_ingredient[df_ingredient.drug_id.isin(df_train.drug_id)]\n",
    "df_ingredient_val = df_ingredient[df_ingredient.drug_id.isin(df_test.drug_id)]"
   ]
  },
  {
   "cell_type": "code",
   "execution_count": 7,
   "id": "20f88398-6154-47f7-8789-5079ca1a8a2b",
   "metadata": {},
   "outputs": [
    {
     "data": {
      "text/plain": [
       "(6851, 1713)"
      ]
     },
     "execution_count": 7,
     "metadata": {},
     "output_type": "execute_result"
    }
   ],
   "source": [
    "df_ingredient_train.drug_id.nunique(), df_ingredient_val.drug_id.nunique()"
   ]
  },
  {
   "cell_type": "code",
   "execution_count": 8,
   "id": "9e882edb-4d40-4150-a492-5f60f180a3e5",
   "metadata": {},
   "outputs": [],
   "source": [
    "drugs = Drugs()"
   ]
  },
  {
   "cell_type": "code",
   "execution_count": 11,
   "id": "3ffa21e7-e38e-4063-9152-3db3863d3fcf",
   "metadata": {
    "tags": []
   },
   "outputs": [
    {
     "name": "stdout",
     "output_type": "stream",
     "text": [
      "[0]\tvalidation_0-rmse:65.33997\tvalidation_1-rmse:75.41024\n",
      "[1]\tvalidation_0-rmse:51.10884\tvalidation_1-rmse:69.76710\n",
      "[2]\tvalidation_0-rmse:41.73246\tvalidation_1-rmse:66.66173\n",
      "[3]\tvalidation_0-rmse:35.34375\tvalidation_1-rmse:65.33466\n",
      "[4]\tvalidation_0-rmse:31.42314\tvalidation_1-rmse:64.46288\n",
      "[5]\tvalidation_0-rmse:28.83915\tvalidation_1-rmse:64.03953\n",
      "[6]\tvalidation_0-rmse:27.25506\tvalidation_1-rmse:63.74276\n",
      "[7]\tvalidation_0-rmse:26.21535\tvalidation_1-rmse:63.75871\n",
      "[8]\tvalidation_0-rmse:25.44148\tvalidation_1-rmse:63.57790\n",
      "[9]\tvalidation_0-rmse:25.05099\tvalidation_1-rmse:63.47045\n",
      "[10]\tvalidation_0-rmse:24.50150\tvalidation_1-rmse:63.36183\n",
      "[11]\tvalidation_0-rmse:23.97293\tvalidation_1-rmse:63.39420\n",
      "[12]\tvalidation_0-rmse:23.63574\tvalidation_1-rmse:63.31099\n",
      "[13]\tvalidation_0-rmse:23.30477\tvalidation_1-rmse:63.40172\n",
      "[14]\tvalidation_0-rmse:23.22497\tvalidation_1-rmse:63.40575\n",
      "[15]\tvalidation_0-rmse:23.18578\tvalidation_1-rmse:63.37044\n",
      "[16]\tvalidation_0-rmse:22.99711\tvalidation_1-rmse:63.77304\n",
      "[17]\tvalidation_0-rmse:22.88139\tvalidation_1-rmse:63.82311\n",
      "[18]\tvalidation_0-rmse:22.78108\tvalidation_1-rmse:64.15724\n",
      "[19]\tvalidation_0-rmse:22.62121\tvalidation_1-rmse:64.12260\n",
      "[20]\tvalidation_0-rmse:22.45498\tvalidation_1-rmse:64.08170\n",
      "[21]\tvalidation_0-rmse:22.43555\tvalidation_1-rmse:64.07807\n",
      "[22]\tvalidation_0-rmse:22.35678\tvalidation_1-rmse:64.09547\n",
      "[23]\tvalidation_0-rmse:22.16914\tvalidation_1-rmse:64.31042\n",
      "[24]\tvalidation_0-rmse:22.13318\tvalidation_1-rmse:64.33398\n",
      "[25]\tvalidation_0-rmse:22.12666\tvalidation_1-rmse:64.32727\n",
      "[26]\tvalidation_0-rmse:21.87326\tvalidation_1-rmse:64.11986\n",
      "[27]\tvalidation_0-rmse:21.86372\tvalidation_1-rmse:64.13846\n",
      "[28]\tvalidation_0-rmse:21.74829\tvalidation_1-rmse:64.11523\n",
      "[29]\tvalidation_0-rmse:21.60063\tvalidation_1-rmse:64.19202\n",
      "[30]\tvalidation_0-rmse:21.51815\tvalidation_1-rmse:64.13364\n",
      "[31]\tvalidation_0-rmse:21.46836\tvalidation_1-rmse:64.15966\n",
      "[32]\tvalidation_0-rmse:21.39616\tvalidation_1-rmse:64.08469\n"
     ]
    }
   ],
   "source": [
    "drugs.fit(df=df_train, df_ingredient=df_ingredient_train, val_df=df_test, val_df_ingredient=df_ingredient_val)"
   ]
  }
 ],
 "metadata": {
  "kernelspec": {
   "display_name": "Python 3 (ipykernel)",
   "language": "python",
   "name": "python3"
  },
  "language_info": {
   "codemirror_mode": {
    "name": "ipython",
    "version": 3
   },
   "file_extension": ".py",
   "mimetype": "text/x-python",
   "name": "python",
   "nbconvert_exporter": "python",
   "pygments_lexer": "ipython3",
   "version": "3.8.10"
  }
 },
 "nbformat": 4,
 "nbformat_minor": 5
}
