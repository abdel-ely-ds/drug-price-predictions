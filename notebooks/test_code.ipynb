{
 "cells": [
  {
   "cell_type": "code",
   "execution_count": 1,
   "id": "97edde15-1258-4097-a617-e262c3c98be7",
   "metadata": {},
   "outputs": [],
   "source": [
    "from drugs import Trainer\n",
    "import pandas as pd"
   ]
  },
  {
   "cell_type": "code",
   "execution_count": 2,
   "id": "f0b66c1c-5e72-4bb1-bfb0-f9eb4ffcc265",
   "metadata": {},
   "outputs": [],
   "source": [
    "trainer = Trainer()"
   ]
  },
  {
   "cell_type": "code",
   "execution_count": 3,
   "id": "a898fe31-6556-4071-813e-c12877d1b337",
   "metadata": {},
   "outputs": [
    {
     "data": {
      "text/plain": [
       "Pipeline(steps=[('text_cleaner',\n",
       "                 TextCleaner(columns=['description', 'administrative_status',\n",
       "                                      'marketing_status', 'dosage_form',\n",
       "                                      'marketing_authorization_status',\n",
       "                                      'marketing_authorization_process',\n",
       "                                      'pharmaceutical_companies'])),\n",
       "                ('date_cleaner',\n",
       "                 DateCleaner(columns=['marketing_declaration_date',\n",
       "                                      'marketing_authorization_date'])),\n",
       "                ('percentage_encoder', Percent...\n",
       "                 DropColumnsCleaner(columns=['drug_id', 'description',\n",
       "                                             'administrative_status',\n",
       "                                             'marketing_status',\n",
       "                                             'approved_for_hospital_use',\n",
       "                                             'reimbursement_rate',\n",
       "                                             'dosage_form',\n",
       "                                             'route_of_administration',\n",
       "                                             'marketing_authorization_status',\n",
       "                                             'marketing_declaration_date',\n",
       "                                             'marketing_authorization_date',\n",
       "                                             'marketing_authorization_process',\n",
       "                                             'pharmaceutical_companies',\n",
       "                                             'price']))])"
      ]
     },
     "execution_count": 3,
     "metadata": {},
     "output_type": "execute_result"
    }
   ],
   "source": [
    "trainer.processing_pipe"
   ]
  },
  {
   "cell_type": "code",
   "execution_count": 4,
   "id": "b82312e5-ee17-4f9b-b26c-ef1845b6df3e",
   "metadata": {},
   "outputs": [],
   "source": [
    "df = pd.read_csv(\"../data/drugs_train.csv\")"
   ]
  },
  {
   "cell_type": "code",
   "execution_count": 5,
   "id": "60f176cf-28cc-4333-8ff1-136f2a60a804",
   "metadata": {},
   "outputs": [
    {
     "data": {
      "text/plain": [
       "reimbursement_rate\n",
       "0%      112.220000\n",
       "100%    179.026342\n",
       "15%      13.904326\n",
       "30%       8.406845\n",
       "65%      24.049047\n",
       "Name: price, dtype: float64"
      ]
     },
     "execution_count": 5,
     "metadata": {},
     "output_type": "execute_result"
    }
   ],
   "source": [
    "df.groupby(\"reimbursement_rate\").price.mean()"
   ]
  },
  {
   "cell_type": "code",
   "execution_count": 6,
   "id": "c8d72c81-4799-4b50-958b-dc87ea723f7f",
   "metadata": {},
   "outputs": [
    {
     "data": {
      "text/plain": [
       "65%     7175\n",
       "30%      656\n",
       "15%      393\n",
       "100%     339\n",
       "0%         1\n",
       "Name: reimbursement_rate, dtype: int64"
      ]
     },
     "execution_count": 6,
     "metadata": {},
     "output_type": "execute_result"
    }
   ],
   "source": [
    "df.reimbursement_rate.value_counts()"
   ]
  },
  {
   "cell_type": "code",
   "execution_count": null,
   "id": "116a1442-1232-4aef-b4c0-4115f3bdeb37",
   "metadata": {},
   "outputs": [],
   "source": []
  },
  {
   "cell_type": "code",
   "execution_count": null,
   "id": "bab4965e-e43c-46fe-8327-17b4713caef0",
   "metadata": {},
   "outputs": [],
   "source": []
  },
  {
   "cell_type": "code",
   "execution_count": 7,
   "id": "e274ad46-feab-4cd9-b083-74bada30743c",
   "metadata": {},
   "outputs": [],
   "source": [
    "from sklearn.model_selection import train_test_split\n",
    "df1, df_test = train_test_split(df, random_state=40, test_size=0.2)"
   ]
  },
  {
   "cell_type": "code",
   "execution_count": 21,
   "id": "1b34044f-92fe-4694-b375-fd493583d423",
   "metadata": {},
   "outputs": [
    {
     "name": "stdout",
     "output_type": "stream",
     "text": [
      "====================================================================================================\n",
      "model scored on train: 0.8499800063820713\n",
      "model scored on val: 0.34487998954439136\n",
      "====================================================================================================\n"
     ]
    }
   ],
   "source": [
    "trainer.train(df1)"
   ]
  },
  {
   "cell_type": "code",
   "execution_count": null,
   "id": "b343903f-f630-4c58-af96-b62ae62d8f5e",
   "metadata": {},
   "outputs": [],
   "source": []
  }
 ],
 "metadata": {
  "kernelspec": {
   "display_name": "Python 3 (ipykernel)",
   "language": "python",
   "name": "python3"
  },
  "language_info": {
   "codemirror_mode": {
    "name": "ipython",
    "version": 3
   },
   "file_extension": ".py",
   "mimetype": "text/x-python",
   "name": "python",
   "nbconvert_exporter": "python",
   "pygments_lexer": "ipython3",
   "version": "3.8.10"
  }
 },
 "nbformat": 4,
 "nbformat_minor": 5
}
