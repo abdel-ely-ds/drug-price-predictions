{
 "cells": [
  {
   "cell_type": "code",
   "execution_count": 1,
   "id": "97edde15-1258-4097-a617-e262c3c98be7",
   "metadata": {},
   "outputs": [],
   "source": [
    "from drugs import Drugs\n",
    "import pandas as pd"
   ]
  },
  {
   "cell_type": "code",
   "execution_count": 2,
   "id": "b82312e5-ee17-4f9b-b26c-ef1845b6df3e",
   "metadata": {},
   "outputs": [],
   "source": [
    "df = pd.read_csv(\"../data/drugs_train.csv\")"
   ]
  },
  {
   "cell_type": "code",
   "execution_count": 3,
   "id": "5bcec177-d4ee-4e74-8238-4d580fdb2b76",
   "metadata": {},
   "outputs": [],
   "source": [
    "df_ingredient= pd.read_csv(\"../data/active_ingredients.csv\")"
   ]
  },
  {
   "cell_type": "code",
   "execution_count": 4,
   "id": "e274ad46-feab-4cd9-b083-74bada30743c",
   "metadata": {},
   "outputs": [],
   "source": [
    "from sklearn.model_selection import train_test_split\n",
    "df_train, df_test = train_test_split(df, random_state=40, test_size=0.2)"
   ]
  },
  {
   "cell_type": "code",
   "execution_count": 5,
   "id": "32132ab8-a520-40b0-bb4c-e4c0830526a8",
   "metadata": {},
   "outputs": [
    {
     "data": {
      "text/plain": [
       "(6851, 1713)"
      ]
     },
     "execution_count": 5,
     "metadata": {},
     "output_type": "execute_result"
    }
   ],
   "source": [
    "len(df_train), len(df_test)"
   ]
  },
  {
   "cell_type": "code",
   "execution_count": 6,
   "id": "330514d7-e5c4-456c-a059-3cdbf30f89a6",
   "metadata": {},
   "outputs": [],
   "source": [
    "df_ingredient_train = df_ingredient[df_ingredient.drug_id.isin(df_train.drug_id)]\n",
    "df_ingredient_val = df_ingredient[df_ingredient.drug_id.isin(df_test.drug_id)]"
   ]
  },
  {
   "cell_type": "code",
   "execution_count": 7,
   "id": "20f88398-6154-47f7-8789-5079ca1a8a2b",
   "metadata": {},
   "outputs": [
    {
     "data": {
      "text/plain": [
       "(6851, 1713)"
      ]
     },
     "execution_count": 7,
     "metadata": {},
     "output_type": "execute_result"
    }
   ],
   "source": [
    "df_ingredient_train.drug_id.nunique(), df_ingredient_val.drug_id.nunique()"
   ]
  },
  {
   "cell_type": "code",
   "execution_count": 8,
   "id": "4ae8228c-29cb-4491-b9ff-57aeb28c1e38",
   "metadata": {},
   "outputs": [],
   "source": [
    "from drugs.transformers.cleaners import DateCleaner"
   ]
  },
  {
   "cell_type": "code",
   "execution_count": 9,
   "id": "323f1a4b-36c7-4c45-b537-19a5fa986918",
   "metadata": {},
   "outputs": [],
   "source": [
    "dc = DateCleaner()"
   ]
  },
  {
   "cell_type": "code",
   "execution_count": 10,
   "id": "0f93b43e-7e40-4934-92dc-5c6e2986a8e0",
   "metadata": {},
   "outputs": [
    {
     "data": {
      "text/html": [
       "<style>#sk-container-id-1 {color: black;background-color: white;}#sk-container-id-1 pre{padding: 0;}#sk-container-id-1 div.sk-toggleable {background-color: white;}#sk-container-id-1 label.sk-toggleable__label {cursor: pointer;display: block;width: 100%;margin-bottom: 0;padding: 0.3em;box-sizing: border-box;text-align: center;}#sk-container-id-1 label.sk-toggleable__label-arrow:before {content: \"▸\";float: left;margin-right: 0.25em;color: #696969;}#sk-container-id-1 label.sk-toggleable__label-arrow:hover:before {color: black;}#sk-container-id-1 div.sk-estimator:hover label.sk-toggleable__label-arrow:before {color: black;}#sk-container-id-1 div.sk-toggleable__content {max-height: 0;max-width: 0;overflow: hidden;text-align: left;background-color: #f0f8ff;}#sk-container-id-1 div.sk-toggleable__content pre {margin: 0.2em;color: black;border-radius: 0.25em;background-color: #f0f8ff;}#sk-container-id-1 input.sk-toggleable__control:checked~div.sk-toggleable__content {max-height: 200px;max-width: 100%;overflow: auto;}#sk-container-id-1 input.sk-toggleable__control:checked~label.sk-toggleable__label-arrow:before {content: \"▾\";}#sk-container-id-1 div.sk-estimator input.sk-toggleable__control:checked~label.sk-toggleable__label {background-color: #d4ebff;}#sk-container-id-1 div.sk-label input.sk-toggleable__control:checked~label.sk-toggleable__label {background-color: #d4ebff;}#sk-container-id-1 input.sk-hidden--visually {border: 0;clip: rect(1px 1px 1px 1px);clip: rect(1px, 1px, 1px, 1px);height: 1px;margin: -1px;overflow: hidden;padding: 0;position: absolute;width: 1px;}#sk-container-id-1 div.sk-estimator {font-family: monospace;background-color: #f0f8ff;border: 1px dotted black;border-radius: 0.25em;box-sizing: border-box;margin-bottom: 0.5em;}#sk-container-id-1 div.sk-estimator:hover {background-color: #d4ebff;}#sk-container-id-1 div.sk-parallel-item::after {content: \"\";width: 100%;border-bottom: 1px solid gray;flex-grow: 1;}#sk-container-id-1 div.sk-label:hover label.sk-toggleable__label {background-color: #d4ebff;}#sk-container-id-1 div.sk-serial::before {content: \"\";position: absolute;border-left: 1px solid gray;box-sizing: border-box;top: 0;bottom: 0;left: 50%;z-index: 0;}#sk-container-id-1 div.sk-serial {display: flex;flex-direction: column;align-items: center;background-color: white;padding-right: 0.2em;padding-left: 0.2em;position: relative;}#sk-container-id-1 div.sk-item {position: relative;z-index: 1;}#sk-container-id-1 div.sk-parallel {display: flex;align-items: stretch;justify-content: center;background-color: white;position: relative;}#sk-container-id-1 div.sk-item::before, #sk-container-id-1 div.sk-parallel-item::before {content: \"\";position: absolute;border-left: 1px solid gray;box-sizing: border-box;top: 0;bottom: 0;left: 50%;z-index: -1;}#sk-container-id-1 div.sk-parallel-item {display: flex;flex-direction: column;z-index: 1;position: relative;background-color: white;}#sk-container-id-1 div.sk-parallel-item:first-child::after {align-self: flex-end;width: 50%;}#sk-container-id-1 div.sk-parallel-item:last-child::after {align-self: flex-start;width: 50%;}#sk-container-id-1 div.sk-parallel-item:only-child::after {width: 0;}#sk-container-id-1 div.sk-dashed-wrapped {border: 1px dashed gray;margin: 0 0.4em 0.5em 0.4em;box-sizing: border-box;padding-bottom: 0.4em;background-color: white;}#sk-container-id-1 div.sk-label label {font-family: monospace;font-weight: bold;display: inline-block;line-height: 1.2em;}#sk-container-id-1 div.sk-label-container {text-align: center;}#sk-container-id-1 div.sk-container {/* jupyter's `normalize.less` sets `[hidden] { display: none; }` but bootstrap.min.css set `[hidden] { display: none !important; }` so we also need the `!important` here to be able to override the default hidden behavior on the sphinx rendered scikit-learn.org. See: https://github.com/scikit-learn/scikit-learn/issues/21755 */display: inline-block !important;position: relative;}#sk-container-id-1 div.sk-text-repr-fallback {display: none;}</style><div id=\"sk-container-id-1\" class=\"sk-top-container\"><div class=\"sk-text-repr-fallback\"><pre>DateCleaner(columns=[&#x27;marketing_declaration_date&#x27;,\n",
       "                     &#x27;marketing_authorization_date&#x27;])</pre><b>In a Jupyter environment, please rerun this cell to show the HTML representation or trust the notebook. <br />On GitHub, the HTML representation is unable to render, please try loading this page with nbviewer.org.</b></div><div class=\"sk-container\" hidden><div class=\"sk-item\"><div class=\"sk-estimator sk-toggleable\"><input class=\"sk-toggleable__control sk-hidden--visually\" id=\"sk-estimator-id-1\" type=\"checkbox\" checked><label for=\"sk-estimator-id-1\" class=\"sk-toggleable__label sk-toggleable__label-arrow\">DateCleaner</label><div class=\"sk-toggleable__content\"><pre>DateCleaner(columns=[&#x27;marketing_declaration_date&#x27;,\n",
       "                     &#x27;marketing_authorization_date&#x27;])</pre></div></div></div></div></div>"
      ],
      "text/plain": [
       "DateCleaner(columns=['marketing_declaration_date',\n",
       "                     'marketing_authorization_date'])"
      ]
     },
     "execution_count": 10,
     "metadata": {},
     "output_type": "execute_result"
    }
   ],
   "source": [
    "dc.fit(df_train)"
   ]
  },
  {
   "cell_type": "code",
   "execution_count": 14,
   "id": "9ee6c0ba-1b4a-4c2f-a118-17676bf9b474",
   "metadata": {},
   "outputs": [],
   "source": [
    "df_train[\"marketing_year\"] = dc.transform(df_train).marketing_declaration_date.dt.year"
   ]
  },
  {
   "cell_type": "code",
   "execution_count": 15,
   "id": "3ce21bcf-0f83-48ad-802f-0f508a836ae2",
   "metadata": {},
   "outputs": [],
   "source": [
    "df_test[\"marketing_year\"] = dc.transform(df_test).marketing_declaration_date.dt.year"
   ]
  },
  {
   "cell_type": "code",
   "execution_count": 16,
   "id": "9e882edb-4d40-4150-a492-5f60f180a3e5",
   "metadata": {},
   "outputs": [],
   "source": [
    "drugs = Drugs()"
   ]
  },
  {
   "cell_type": "code",
   "execution_count": 17,
   "id": "3ffa21e7-e38e-4063-9152-3db3863d3fcf",
   "metadata": {
    "tags": []
   },
   "outputs": [
    {
     "name": "stdout",
     "output_type": "stream",
     "text": [
      "[0]\tvalidation_0-rmse:65.33352\tvalidation_1-rmse:75.42414\n",
      "[1]\tvalidation_0-rmse:51.09486\tvalidation_1-rmse:69.75438\n",
      "[2]\tvalidation_0-rmse:41.67842\tvalidation_1-rmse:66.65321\n",
      "[3]\tvalidation_0-rmse:35.33067\tvalidation_1-rmse:65.01506\n",
      "[4]\tvalidation_0-rmse:31.38548\tvalidation_1-rmse:64.07679\n",
      "[5]\tvalidation_0-rmse:28.66481\tvalidation_1-rmse:63.87166\n",
      "[6]\tvalidation_0-rmse:26.86477\tvalidation_1-rmse:63.60971\n",
      "[7]\tvalidation_0-rmse:25.64212\tvalidation_1-rmse:63.65264\n",
      "[8]\tvalidation_0-rmse:24.89903\tvalidation_1-rmse:63.44543\n",
      "[9]\tvalidation_0-rmse:24.35698\tvalidation_1-rmse:63.32104\n",
      "[10]\tvalidation_0-rmse:23.83222\tvalidation_1-rmse:63.33661\n"
     ]
    },
    {
     "name": "stderr",
     "output_type": "stream",
     "text": [
      "/home/abdelelyds/.local/lib/python3.8/site-packages/xgboost/sklearn.py:793: UserWarning: `early_stopping_rounds` in `fit` method is deprecated for better compatibility with scikit-learn, use `early_stopping_rounds` in constructor or`set_params` instead.\n",
      "  warnings.warn(\n"
     ]
    },
    {
     "name": "stdout",
     "output_type": "stream",
     "text": [
      "[11]\tvalidation_0-rmse:23.26013\tvalidation_1-rmse:63.18276\n",
      "[12]\tvalidation_0-rmse:22.93439\tvalidation_1-rmse:63.19687\n",
      "[13]\tvalidation_0-rmse:22.50980\tvalidation_1-rmse:63.28567\n",
      "[14]\tvalidation_0-rmse:22.45200\tvalidation_1-rmse:63.28036\n",
      "[15]\tvalidation_0-rmse:22.22274\tvalidation_1-rmse:63.27269\n",
      "[16]\tvalidation_0-rmse:22.13327\tvalidation_1-rmse:63.21740\n",
      "[17]\tvalidation_0-rmse:21.92282\tvalidation_1-rmse:63.18637\n",
      "[18]\tvalidation_0-rmse:21.89897\tvalidation_1-rmse:63.19907\n",
      "[19]\tvalidation_0-rmse:21.80971\tvalidation_1-rmse:63.18070\n",
      "[20]\tvalidation_0-rmse:21.48265\tvalidation_1-rmse:63.14510\n",
      "[21]\tvalidation_0-rmse:21.36356\tvalidation_1-rmse:63.11806\n",
      "[22]\tvalidation_0-rmse:21.04641\tvalidation_1-rmse:63.11114\n",
      "[23]\tvalidation_0-rmse:20.71957\tvalidation_1-rmse:63.17054\n",
      "[24]\tvalidation_0-rmse:20.55719\tvalidation_1-rmse:63.25639\n",
      "[25]\tvalidation_0-rmse:20.16420\tvalidation_1-rmse:63.28451\n",
      "[26]\tvalidation_0-rmse:20.08212\tvalidation_1-rmse:63.39876\n",
      "[27]\tvalidation_0-rmse:19.99787\tvalidation_1-rmse:63.49984\n",
      "[28]\tvalidation_0-rmse:19.68654\tvalidation_1-rmse:63.58551\n",
      "[29]\tvalidation_0-rmse:19.42370\tvalidation_1-rmse:63.57161\n",
      "[30]\tvalidation_0-rmse:19.33580\tvalidation_1-rmse:63.54207\n",
      "[31]\tvalidation_0-rmse:19.26531\tvalidation_1-rmse:63.48387\n",
      "[32]\tvalidation_0-rmse:19.19619\tvalidation_1-rmse:63.59095\n",
      "[33]\tvalidation_0-rmse:19.16853\tvalidation_1-rmse:63.56076\n",
      "[34]\tvalidation_0-rmse:18.93041\tvalidation_1-rmse:63.67978\n",
      "[35]\tvalidation_0-rmse:18.74426\tvalidation_1-rmse:63.74780\n",
      "[36]\tvalidation_0-rmse:18.73460\tvalidation_1-rmse:63.77483\n",
      "[37]\tvalidation_0-rmse:18.73142\tvalidation_1-rmse:63.78532\n",
      "[38]\tvalidation_0-rmse:18.57608\tvalidation_1-rmse:63.90228\n",
      "[39]\tvalidation_0-rmse:18.51121\tvalidation_1-rmse:63.89182\n",
      "[40]\tvalidation_0-rmse:18.50322\tvalidation_1-rmse:63.88391\n",
      "[41]\tvalidation_0-rmse:18.46596\tvalidation_1-rmse:63.90920\n",
      "[42]\tvalidation_0-rmse:18.41928\tvalidation_1-rmse:63.92903\n"
     ]
    }
   ],
   "source": [
    "drugs.fit(df=df_train, df_ingredient=df_ingredient_train, val_df=df_test, val_df_ingredient=df_ingredient_val)"
   ]
  },
  {
   "cell_type": "code",
   "execution_count": null,
   "id": "d5468dfc-ccce-47ba-b027-8cd223faab1d",
   "metadata": {},
   "outputs": [],
   "source": []
  }
 ],
 "metadata": {
  "kernelspec": {
   "display_name": "Python 3 (ipykernel)",
   "language": "python",
   "name": "python3"
  },
  "language_info": {
   "codemirror_mode": {
    "name": "ipython",
    "version": 3
   },
   "file_extension": ".py",
   "mimetype": "text/x-python",
   "name": "python",
   "nbconvert_exporter": "python",
   "pygments_lexer": "ipython3",
   "version": "3.8.10"
  }
 },
 "nbformat": 4,
 "nbformat_minor": 5
}
