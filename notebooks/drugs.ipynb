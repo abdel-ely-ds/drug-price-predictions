{
 "cells": [
  {
   "cell_type": "code",
   "execution_count": 1,
   "id": "97edde15-1258-4097-a617-e262c3c98be7",
   "metadata": {},
   "outputs": [],
   "source": [
    "from drugs import Drugs\n",
    "import pandas as pd\n",
    "from drugs.utils.constants import SEED\n",
    "from sklearn.metrics import mean_squared_error"
   ]
  },
  {
   "cell_type": "code",
   "execution_count": 2,
   "id": "b82312e5-ee17-4f9b-b26c-ef1845b6df3e",
   "metadata": {},
   "outputs": [],
   "source": [
    "df = pd.read_csv(\"../data/drugs_train.csv\")"
   ]
  },
  {
   "cell_type": "code",
   "execution_count": 3,
   "id": "c936b1b8-77c0-4ba3-8834-047bab2ac462",
   "metadata": {},
   "outputs": [
    {
     "data": {
      "text/plain": [
       "8564"
      ]
     },
     "execution_count": 3,
     "metadata": {},
     "output_type": "execute_result"
    }
   ],
   "source": [
    "len(df)"
   ]
  },
  {
   "cell_type": "code",
   "execution_count": 4,
   "id": "5bcec177-d4ee-4e74-8238-4d580fdb2b76",
   "metadata": {},
   "outputs": [],
   "source": [
    "df_ingredient= pd.read_csv(\"../data/active_ingredients.csv\")"
   ]
  },
  {
   "cell_type": "code",
   "execution_count": 5,
   "id": "e274ad46-feab-4cd9-b083-74bada30743c",
   "metadata": {},
   "outputs": [],
   "source": [
    "from sklearn.model_selection import train_test_split\n",
    "train_df, val_df = train_test_split(df, random_state=SEED, test_size=0.2)"
   ]
  },
  {
   "cell_type": "code",
   "execution_count": 6,
   "id": "32132ab8-a520-40b0-bb4c-e4c0830526a8",
   "metadata": {},
   "outputs": [
    {
     "data": {
      "text/plain": [
       "(6851, 1713)"
      ]
     },
     "execution_count": 6,
     "metadata": {},
     "output_type": "execute_result"
    }
   ],
   "source": [
    "len(train_df), len(val_df)"
   ]
  },
  {
   "cell_type": "code",
   "execution_count": 7,
   "id": "330514d7-e5c4-456c-a059-3cdbf30f89a6",
   "metadata": {},
   "outputs": [],
   "source": [
    "train_df_ingredient= df_ingredient[df_ingredient.drug_id.isin(train_df.drug_id)]\n",
    "val_df_ingredient = df_ingredient[df_ingredient.drug_id.isin(val_df.drug_id)]"
   ]
  },
  {
   "cell_type": "code",
   "execution_count": 8,
   "id": "20f88398-6154-47f7-8789-5079ca1a8a2b",
   "metadata": {},
   "outputs": [
    {
     "data": {
      "text/plain": [
       "(6851, 1713)"
      ]
     },
     "execution_count": 8,
     "metadata": {},
     "output_type": "execute_result"
    }
   ],
   "source": [
    "train_df_ingredient.drug_id.nunique(), val_df_ingredient.drug_id.nunique()"
   ]
  },
  {
   "cell_type": "code",
   "execution_count": 9,
   "id": "8d3c062f-7266-4a68-a84d-da716f336d11",
   "metadata": {},
   "outputs": [],
   "source": [
    "drugs = Drugs()"
   ]
  },
  {
   "cell_type": "code",
   "execution_count": 10,
   "id": "824ca222-6938-4dd3-8e6c-c0e025cfa40d",
   "metadata": {
    "tags": []
   },
   "outputs": [],
   "source": [
    "drugs.fit(\n",
    "    df=train_df,\n",
    "    df_ingredient=train_df_ingredient,\n",
    ")"
   ]
  },
  {
   "cell_type": "code",
   "execution_count": 11,
   "id": "19bdd920-e1d4-4246-b17e-8c29f5e60444",
   "metadata": {},
   "outputs": [
    {
     "data": {
      "text/plain": [
       "41.75796198173945"
      ]
     },
     "execution_count": 11,
     "metadata": {},
     "output_type": "execute_result"
    }
   ],
   "source": [
    "mean_squared_error(drugs.predict(train_df, train_df_ingredient).price, train_df.price, squared=False)"
   ]
  },
  {
   "cell_type": "code",
   "execution_count": 12,
   "id": "bde8cd59-146b-4612-b16c-40e8183070c4",
   "metadata": {},
   "outputs": [
    {
     "data": {
      "text/plain": [
       "51.92542635198279"
      ]
     },
     "execution_count": 12,
     "metadata": {},
     "output_type": "execute_result"
    }
   ],
   "source": [
    "mean_squared_error(drugs.predict(val_df, val_df_ingredient).price, val_df.price, squared=False)"
   ]
  },
  {
   "cell_type": "code",
   "execution_count": 13,
   "id": "ddd81398-ee45-45f5-bb21-4bf6f7187d19",
   "metadata": {},
   "outputs": [
    {
     "name": "stdout",
     "output_type": "stream",
     "text": [
      "RMSE: 52.5808216435548\n"
     ]
    }
   ],
   "source": [
    "import os\n",
    "\n",
    "import pandas as pd\n",
    "from sklearn.metrics import mean_squared_error\n",
    "from sklearn.model_selection import train_test_split\n",
    "\n",
    "from drugs import Drugs\n",
    "from drugs.utils.constants import DRUG_ID, PRICE, SEED\n",
    "\n",
    "df = pd.read_csv(os.path.join(\"../data/\", \"drugs_train.csv\"))\n",
    "df_ingredient = pd.read_csv(os.path.join(\"../data/\", \"active_ingredients.csv\"))\n",
    "\n",
    "train_df, val_df = train_test_split(df, random_state=SEED, test_size=0.2)\n",
    "\n",
    "train_df_ingredient = df_ingredient[df_ingredient[DRUG_ID].isin(train_df[DRUG_ID])]\n",
    "val_df_ingredient = df_ingredient[df_ingredient[DRUG_ID].isin(val_df[DRUG_ID])]\n",
    "\n",
    "drugs = Drugs()\n",
    "drugs.fit(\n",
    "    df=train_df,\n",
    "    df_ingredient=train_df_ingredient\n",
    ")\n",
    "preds = drugs.predict(val_df, val_df_ingredient)[PRICE]\n",
    "print(f\"RMSE: {mean_squared_error(preds, val_df[PRICE], squared=False)}\")"
   ]
  },
  {
   "cell_type": "code",
   "execution_count": null,
   "id": "39eb7847-edbf-4aaf-9bbd-b9c84702bd46",
   "metadata": {},
   "outputs": [],
   "source": []
  }
 ],
 "metadata": {
  "kernelspec": {
   "display_name": "Python 3 (ipykernel)",
   "language": "python",
   "name": "python3"
  },
  "language_info": {
   "codemirror_mode": {
    "name": "ipython",
    "version": 3
   },
   "file_extension": ".py",
   "mimetype": "text/x-python",
   "name": "python",
   "nbconvert_exporter": "python",
   "pygments_lexer": "ipython3",
   "version": "3.8.10"
  }
 },
 "nbformat": 4,
 "nbformat_minor": 5
}
