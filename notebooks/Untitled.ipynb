{
 "cells": [
  {
   "cell_type": "code",
   "execution_count": 1,
   "id": "167d31bc-42ad-4d65-ad5b-6d6e58bc9db9",
   "metadata": {},
   "outputs": [],
   "source": [
    "import pandas as pd\n",
    "from xgboost import XGBRegressor\n",
    "from sklearn.ensemble import RandomForestRegressor"
   ]
  },
  {
   "cell_type": "code",
   "execution_count": 2,
   "id": "b30ecab3-5a34-464e-bba7-dadc70a99ae9",
   "metadata": {},
   "outputs": [],
   "source": [
    "train_df = pd.read_csv(\"../data/drugs_train.csv\")"
   ]
  },
  {
   "cell_type": "code",
   "execution_count": 3,
   "id": "e5832ec6-ac88-46d6-b1d9-116ace6b76d5",
   "metadata": {},
   "outputs": [
    {
     "data": {
      "text/html": [
       "<div>\n",
       "<style scoped>\n",
       "    .dataframe tbody tr th:only-of-type {\n",
       "        vertical-align: middle;\n",
       "    }\n",
       "\n",
       "    .dataframe tbody tr th {\n",
       "        vertical-align: top;\n",
       "    }\n",
       "\n",
       "    .dataframe thead th {\n",
       "        text-align: right;\n",
       "    }\n",
       "</style>\n",
       "<table border=\"1\" class=\"dataframe\">\n",
       "  <thead>\n",
       "    <tr style=\"text-align: right;\">\n",
       "      <th></th>\n",
       "      <th>drug_id</th>\n",
       "      <th>description</th>\n",
       "      <th>administrative_status</th>\n",
       "      <th>marketing_status</th>\n",
       "      <th>approved_for_hospital_use</th>\n",
       "      <th>reimbursement_rate</th>\n",
       "      <th>dosage_form</th>\n",
       "      <th>route_of_administration</th>\n",
       "      <th>marketing_authorization_status</th>\n",
       "      <th>marketing_declaration_date</th>\n",
       "      <th>marketing_authorization_date</th>\n",
       "      <th>marketing_authorization_process</th>\n",
       "      <th>pharmaceutical_companies</th>\n",
       "      <th>price</th>\n",
       "    </tr>\n",
       "  </thead>\n",
       "  <tbody>\n",
       "    <tr>\n",
       "      <th>0</th>\n",
       "      <td>0_train</td>\n",
       "      <td>3 plaquette(s) thermoformée(s) PVC-Aluminium d...</td>\n",
       "      <td>Présentation active</td>\n",
       "      <td>Déclaration de commercialisation</td>\n",
       "      <td>oui</td>\n",
       "      <td>65%</td>\n",
       "      <td>comprimé pelliculé</td>\n",
       "      <td>orale</td>\n",
       "      <td>Autorisation active</td>\n",
       "      <td>20140101</td>\n",
       "      <td>20140101</td>\n",
       "      <td>Procédure décentralisée</td>\n",
       "      <td>MAJORELLE LUXEMBOURG SOPARFI (LUXEMBOURG)</td>\n",
       "      <td>2.83</td>\n",
       "    </tr>\n",
       "    <tr>\n",
       "      <th>1</th>\n",
       "      <td>1_train</td>\n",
       "      <td>plaquette(s) thermoformée(s) aluminium de 28 c...</td>\n",
       "      <td>Présentation active</td>\n",
       "      <td>Déclaration de commercialisation</td>\n",
       "      <td>oui</td>\n",
       "      <td>65%</td>\n",
       "      <td>comprimé à croquer</td>\n",
       "      <td>orale</td>\n",
       "      <td>Autorisation active</td>\n",
       "      <td>20130101</td>\n",
       "      <td>20090101</td>\n",
       "      <td>Procédure de reconnaissance mutuelle</td>\n",
       "      <td>TEVA SANTE</td>\n",
       "      <td>14.30</td>\n",
       "    </tr>\n",
       "  </tbody>\n",
       "</table>\n",
       "</div>"
      ],
      "text/plain": [
       "   drug_id                                        description  \\\n",
       "0  0_train  3 plaquette(s) thermoformée(s) PVC-Aluminium d...   \n",
       "1  1_train  plaquette(s) thermoformée(s) aluminium de 28 c...   \n",
       "\n",
       "  administrative_status                  marketing_status  \\\n",
       "0   Présentation active  Déclaration de commercialisation   \n",
       "1   Présentation active  Déclaration de commercialisation   \n",
       "\n",
       "  approved_for_hospital_use reimbursement_rate         dosage_form  \\\n",
       "0                       oui                65%  comprimé pelliculé   \n",
       "1                       oui                65%  comprimé à croquer   \n",
       "\n",
       "  route_of_administration marketing_authorization_status  \\\n",
       "0                   orale            Autorisation active   \n",
       "1                   orale            Autorisation active   \n",
       "\n",
       "   marketing_declaration_date  marketing_authorization_date  \\\n",
       "0                    20140101                      20140101   \n",
       "1                    20130101                      20090101   \n",
       "\n",
       "        marketing_authorization_process  \\\n",
       "0               Procédure décentralisée   \n",
       "1  Procédure de reconnaissance mutuelle   \n",
       "\n",
       "                     pharmaceutical_companies  price  \n",
       "0   MAJORELLE LUXEMBOURG SOPARFI (LUXEMBOURG)   2.83  \n",
       "1                                  TEVA SANTE  14.30  "
      ]
     },
     "execution_count": 3,
     "metadata": {},
     "output_type": "execute_result"
    }
   ],
   "source": [
    "train_df.head(2)"
   ]
  },
  {
   "cell_type": "code",
   "execution_count": 4,
   "id": "e771b8f7-3f85-4376-b637-d8795be0696e",
   "metadata": {},
   "outputs": [
    {
     "data": {
      "text/plain": [
       "(8564, 14)"
      ]
     },
     "execution_count": 4,
     "metadata": {},
     "output_type": "execute_result"
    }
   ],
   "source": [
    "train_df.shape"
   ]
  },
  {
   "cell_type": "code",
   "execution_count": 5,
   "id": "b969b494-e0ed-445d-b320-dd730b94ec55",
   "metadata": {},
   "outputs": [
    {
     "data": {
      "text/plain": [
       "8564"
      ]
     },
     "execution_count": 5,
     "metadata": {},
     "output_type": "execute_result"
    }
   ],
   "source": [
    "train_df.drug_id.nunique()"
   ]
  },
  {
   "cell_type": "code",
   "execution_count": 6,
   "id": "859ec998-15f7-4513-9b4d-723699f1ff6b",
   "metadata": {},
   "outputs": [
    {
     "data": {
      "text/plain": [
       "Présentation active     8554\n",
       "Présentation abrogée      10\n",
       "Name: administrative_status, dtype: int64"
      ]
     },
     "execution_count": 6,
     "metadata": {},
     "output_type": "execute_result"
    }
   ],
   "source": [
    "train_df.administrative_status.value_counts()"
   ]
  },
  {
   "cell_type": "code",
   "execution_count": 7,
   "id": "64e0a0d9-626a-41f2-919b-d0d5b6202ebb",
   "metadata": {},
   "outputs": [
    {
     "data": {
      "text/plain": [
       "Déclaration de commercialisation                                      7262\n",
       "Déclaration d'arrêt de commercialisation                              1250\n",
       "Arrêt de commercialisation (le médicament n'a plus d'autorisation)      51\n",
       "Déclaration de suspension de commercialisation                           1\n",
       "Name: marketing_status, dtype: int64"
      ]
     },
     "execution_count": 7,
     "metadata": {},
     "output_type": "execute_result"
    }
   ],
   "source": [
    "train_df.marketing_status.value_counts()"
   ]
  },
  {
   "cell_type": "code",
   "execution_count": 8,
   "id": "bd7eabf6-fad2-4aef-99e1-36cb628ce66f",
   "metadata": {},
   "outputs": [
    {
     "data": {
      "text/plain": [
       "oui    7022\n",
       "non    1542\n",
       "Name: approved_for_hospital_use, dtype: int64"
      ]
     },
     "execution_count": 8,
     "metadata": {},
     "output_type": "execute_result"
    }
   ],
   "source": [
    "train_df.approved_for_hospital_use.value_counts()"
   ]
  },
  {
   "cell_type": "code",
   "execution_count": 9,
   "id": "352585fe-d0de-46f3-8227-3bccc3aa9213",
   "metadata": {},
   "outputs": [
    {
     "data": {
      "text/plain": [
       "65%     7175\n",
       "30%      656\n",
       "15%      393\n",
       "100%     339\n",
       "0%         1\n",
       "Name: reimbursement_rate, dtype: int64"
      ]
     },
     "execution_count": 9,
     "metadata": {},
     "output_type": "execute_result"
    }
   ],
   "source": [
    "train_df.reimbursement_rate.value_counts()"
   ]
  },
  {
   "cell_type": "code",
   "execution_count": 10,
   "id": "f5a75205-be68-4ef1-bd2f-866d18b80614",
   "metadata": {},
   "outputs": [
    {
     "data": {
      "text/plain": [
       "comprimé pelliculé               1931\n",
       "comprimé                         1017\n",
       "comprimé sécable                  812\n",
       "comprimé pelliculé sécable        669\n",
       "gélule                            639\n",
       "solution injectable               496\n",
       "gélule gastro-résistant(e)        256\n",
       "gélule à libération prolongée     175\n",
       "comprimé gastro-résistant(e)      160\n",
       "comprimé orodispersible           136\n",
       "Name: dosage_form, dtype: int64"
      ]
     },
     "execution_count": 10,
     "metadata": {},
     "output_type": "execute_result"
    }
   ],
   "source": [
    "train_df.dosage_form.value_counts().head(10)"
   ]
  },
  {
   "cell_type": "code",
   "execution_count": 11,
   "id": "c45aabee-c7b9-4b15-aef4-2ff6a5798f5a",
   "metadata": {},
   "outputs": [
    {
     "data": {
      "text/plain": [
       "orale                                                                                                         6948\n",
       "cutanée                                                                                                        225\n",
       "intraveineuse                                                                                                  224\n",
       "sous-cutanée                                                                                                   177\n",
       "ophtalmique                                                                                                    162\n",
       "                                                                                                              ... \n",
       "intramusculaire,intrathécale,intraveineuse                                                                       1\n",
       "intra-articulaire,périarticulaire,péridurale,voie parentérale autre                                              1\n",
       "endocanalaire,intra-artérielle,intraveineuse                                                                     1\n",
       "endosinusale,intra-articulaire,intralésionnelle,intramusculaire,intraveineuse,périarticulaire,périoculaire       1\n",
       "intra-murale,intramusculaire,intraveineuse                                                                       1\n",
       "Name: route_of_administration, Length: 75, dtype: int64"
      ]
     },
     "execution_count": 11,
     "metadata": {},
     "output_type": "execute_result"
    }
   ],
   "source": [
    "train_df.route_of_administration.value_counts()"
   ]
  },
  {
   "cell_type": "code",
   "execution_count": 12,
   "id": "b6381bba-a353-4eca-adb7-4e92b05eb96e",
   "metadata": {},
   "outputs": [
    {
     "data": {
      "text/plain": [
       "Autorisation active      8169\n",
       "Autorisation abrogée      314\n",
       "Autorisation archivée      75\n",
       "Autorisation retirée        6\n",
       "Name: marketing_authorization_status, dtype: int64"
      ]
     },
     "execution_count": 12,
     "metadata": {},
     "output_type": "execute_result"
    }
   ],
   "source": [
    "train_df.marketing_authorization_status.value_counts()"
   ]
  },
  {
   "cell_type": "code",
   "execution_count": 13,
   "id": "a2049d6c-bc97-4670-b09a-635c08ec5fbf",
   "metadata": {},
   "outputs": [
    {
     "data": {
      "text/plain": [
       " TEVA SANTE               777\n",
       " SANOFI AVENTIS FRANCE    571\n",
       " MYLAN SAS                567\n",
       " BIOGARAN                 496\n",
       " SANDOZ                   456\n",
       "                         ... \n",
       " LABCATAL                   1\n",
       " GEDEON RICHTER             1\n",
       " LABORATOIRE UNITHER        1\n",
       " TERALI                     1\n",
       " LABORATOIRES DOLIAGE       1\n",
       "Name: pharmaceutical_companies, Length: 325, dtype: int64"
      ]
     },
     "execution_count": 13,
     "metadata": {},
     "output_type": "execute_result"
    }
   ],
   "source": [
    "train_df.pharmaceutical_companies.value_counts()"
   ]
  },
  {
   "cell_type": "code",
   "execution_count": 14,
   "id": "39a59371-3b58-4ef1-ad7e-8bfd61a9b3b1",
   "metadata": {},
   "outputs": [],
   "source": [
    "import numpy as np\n",
    "import pandas as pd\n",
    "df_y = np.log1p(train_df.price)"
   ]
  },
  {
   "cell_type": "code",
   "execution_count": 15,
   "id": "344779b4-a6ab-4081-badc-c608b78ad091",
   "metadata": {},
   "outputs": [
    {
     "data": {
      "text/plain": [
       "count    8564.000000\n",
       "mean        2.441039\n",
       "std         1.144582\n",
       "min         0.470004\n",
       "25%         1.597365\n",
       "50%         2.190536\n",
       "75%         3.050694\n",
       "max         6.899108\n",
       "Name: price, dtype: float64"
      ]
     },
     "execution_count": 15,
     "metadata": {},
     "output_type": "execute_result"
    }
   ],
   "source": [
    "df_y.describe()"
   ]
  },
  {
   "cell_type": "code",
   "execution_count": 16,
   "id": "ab2b3bd1-8482-4a8a-9f6a-1ea24ecc6f54",
   "metadata": {},
   "outputs": [
    {
     "ename": "NameError",
     "evalue": "name 'df_x' is not defined",
     "output_type": "error",
     "traceback": [
      "\u001b[0;31m---------------------------------------------------------------------------\u001b[0m",
      "\u001b[0;31mNameError\u001b[0m                                 Traceback (most recent call last)",
      "\u001b[0;32m/tmp/ipykernel_3476/2597969425.py\u001b[0m in \u001b[0;36m<module>\u001b[0;34m\u001b[0m\n\u001b[1;32m      2\u001b[0m \u001b[0;32mfrom\u001b[0m \u001b[0msklearn\u001b[0m\u001b[0;34m.\u001b[0m\u001b[0mmodel_selection\u001b[0m \u001b[0;32mimport\u001b[0m \u001b[0mtrain_test_split\u001b[0m\u001b[0;34m\u001b[0m\u001b[0;34m\u001b[0m\u001b[0m\n\u001b[1;32m      3\u001b[0m \u001b[0;34m\u001b[0m\u001b[0m\n\u001b[0;32m----> 4\u001b[0;31m \u001b[0mX_train\u001b[0m\u001b[0;34m,\u001b[0m \u001b[0mX_test\u001b[0m\u001b[0;34m,\u001b[0m \u001b[0mY_train\u001b[0m\u001b[0;34m,\u001b[0m \u001b[0mY_test\u001b[0m \u001b[0;34m=\u001b[0m \u001b[0mtrain_test_split\u001b[0m\u001b[0;34m(\u001b[0m\u001b[0mdf_x\u001b[0m\u001b[0;34m,\u001b[0m \u001b[0mdf_y\u001b[0m\u001b[0;34m,\u001b[0m \u001b[0mtest_size\u001b[0m \u001b[0;34m=\u001b[0m \u001b[0;36m.20\u001b[0m\u001b[0;34m,\u001b[0m \u001b[0mrandom_state\u001b[0m \u001b[0;34m=\u001b[0m \u001b[0;36m40\u001b[0m\u001b[0;34m)\u001b[0m\u001b[0;34m\u001b[0m\u001b[0;34m\u001b[0m\u001b[0m\n\u001b[0m\u001b[1;32m      5\u001b[0m \u001b[0;34m\u001b[0m\u001b[0m\n\u001b[1;32m      6\u001b[0m \u001b[0mregr\u001b[0m \u001b[0;34m=\u001b[0m \u001b[0mlinear_model\u001b[0m\u001b[0;34m.\u001b[0m\u001b[0mLinearRegression\u001b[0m\u001b[0;34m(\u001b[0m\u001b[0;34m)\u001b[0m \u001b[0;31m# Do not use fit_intercept = False if you have removed 1 column after dummy encoding\u001b[0m\u001b[0;34m\u001b[0m\u001b[0;34m\u001b[0m\u001b[0m\n",
      "\u001b[0;31mNameError\u001b[0m: name 'df_x' is not defined"
     ]
    }
   ],
   "source": [
    "from sklearn import linear_model\n",
    "from sklearn.model_selection import train_test_split\n",
    "\n",
    "X_train, X_test, Y_train, Y_test = train_test_split(df_x, df_y, test_size = .20, random_state = 40)\n",
    "\n",
    "regr = linear_model.LinearRegression() # Do not use fit_intercept = False if you have removed 1 column after dummy encoding\n",
    "regr.fit(X_train, Y_train)\n",
    "predicted = regr.predict(X_test)"
   ]
  },
  {
   "cell_type": "code",
   "execution_count": 17,
   "id": "ba81e30f-8368-4f38-87ee-bba881c6cecf",
   "metadata": {},
   "outputs": [
    {
     "ename": "NameError",
     "evalue": "name 'predicted' is not defined",
     "output_type": "error",
     "traceback": [
      "\u001b[0;31m---------------------------------------------------------------------------\u001b[0m",
      "\u001b[0;31mNameError\u001b[0m                                 Traceback (most recent call last)",
      "\u001b[0;32m/tmp/ipykernel_3476/252832472.py\u001b[0m in \u001b[0;36m<module>\u001b[0;34m\u001b[0m\n\u001b[1;32m      1\u001b[0m \u001b[0;32mfrom\u001b[0m \u001b[0msklearn\u001b[0m\u001b[0;34m.\u001b[0m\u001b[0mmetrics\u001b[0m \u001b[0;32mimport\u001b[0m \u001b[0mmean_absolute_error\u001b[0m\u001b[0;34m,\u001b[0m \u001b[0mmean_squared_error\u001b[0m\u001b[0;34m,\u001b[0m \u001b[0mmedian_absolute_error\u001b[0m\u001b[0;34m\u001b[0m\u001b[0;34m\u001b[0m\u001b[0m\n\u001b[0;32m----> 2\u001b[0;31m \u001b[0mmean_absolute_error\u001b[0m\u001b[0;34m(\u001b[0m\u001b[0mnp\u001b[0m\u001b[0;34m.\u001b[0m\u001b[0mexpm1\u001b[0m\u001b[0;34m(\u001b[0m\u001b[0mpredicted\u001b[0m\u001b[0;34m)\u001b[0m\u001b[0;34m,\u001b[0m \u001b[0mnp\u001b[0m\u001b[0;34m.\u001b[0m\u001b[0mexpm1\u001b[0m\u001b[0;34m(\u001b[0m\u001b[0mY_test\u001b[0m\u001b[0;34m)\u001b[0m\u001b[0;34m)\u001b[0m\u001b[0;34m\u001b[0m\u001b[0;34m\u001b[0m\u001b[0m\n\u001b[0m",
      "\u001b[0;31mNameError\u001b[0m: name 'predicted' is not defined"
     ]
    }
   ],
   "source": [
    "from sklearn.metrics import mean_absolute_error, mean_squared_error, median_absolute_error\n",
    "mean_absolute_error(np.expm1(predicted), np.expm1(Y_test))"
   ]
  },
  {
   "cell_type": "markdown",
   "id": "67aa8ebd-56db-44c7-960e-375dacfd91e2",
   "metadata": {},
   "source": [
    "## XGBOOST"
   ]
  },
  {
   "cell_type": "code",
   "execution_count": 344,
   "id": "3c818a4c-e6fe-47b4-84bd-7b87f67729ad",
   "metadata": {},
   "outputs": [],
   "source": [
    "X, y = train_df.drop(columns=[\"price\"]), train_df.price"
   ]
  },
  {
   "cell_type": "code",
   "execution_count": 345,
   "id": "25160f5e-3795-4703-a7f1-8d0ee5ddecd1",
   "metadata": {},
   "outputs": [
    {
     "data": {
      "text/html": [
       "<div>\n",
       "<style scoped>\n",
       "    .dataframe tbody tr th:only-of-type {\n",
       "        vertical-align: middle;\n",
       "    }\n",
       "\n",
       "    .dataframe tbody tr th {\n",
       "        vertical-align: top;\n",
       "    }\n",
       "\n",
       "    .dataframe thead th {\n",
       "        text-align: right;\n",
       "    }\n",
       "</style>\n",
       "<table border=\"1\" class=\"dataframe\">\n",
       "  <thead>\n",
       "    <tr style=\"text-align: right;\">\n",
       "      <th></th>\n",
       "      <th>drug_id</th>\n",
       "      <th>description</th>\n",
       "      <th>administrative_status</th>\n",
       "      <th>marketing_status</th>\n",
       "      <th>approved_for_hospital_use</th>\n",
       "      <th>reimbursement_rate</th>\n",
       "      <th>dosage_form</th>\n",
       "      <th>route_of_administration</th>\n",
       "      <th>marketing_authorization_status</th>\n",
       "      <th>marketing_declaration_date</th>\n",
       "      <th>marketing_authorization_date</th>\n",
       "      <th>marketing_authorization_process</th>\n",
       "      <th>pharmaceutical_companies</th>\n",
       "    </tr>\n",
       "  </thead>\n",
       "  <tbody>\n",
       "    <tr>\n",
       "      <th>0</th>\n",
       "      <td>0_train</td>\n",
       "      <td>3 plaquette(s) thermoformée(s) PVC-Aluminium d...</td>\n",
       "      <td>Présentation active</td>\n",
       "      <td>Déclaration de commercialisation</td>\n",
       "      <td>oui</td>\n",
       "      <td>65%</td>\n",
       "      <td>comprimé pelliculé</td>\n",
       "      <td>orale</td>\n",
       "      <td>Autorisation active</td>\n",
       "      <td>20140101</td>\n",
       "      <td>20140101</td>\n",
       "      <td>Procédure décentralisée</td>\n",
       "      <td>MAJORELLE LUXEMBOURG SOPARFI (LUXEMBOURG)</td>\n",
       "    </tr>\n",
       "    <tr>\n",
       "      <th>1</th>\n",
       "      <td>1_train</td>\n",
       "      <td>plaquette(s) thermoformée(s) aluminium de 28 c...</td>\n",
       "      <td>Présentation active</td>\n",
       "      <td>Déclaration de commercialisation</td>\n",
       "      <td>oui</td>\n",
       "      <td>65%</td>\n",
       "      <td>comprimé à croquer</td>\n",
       "      <td>orale</td>\n",
       "      <td>Autorisation active</td>\n",
       "      <td>20130101</td>\n",
       "      <td>20090101</td>\n",
       "      <td>Procédure de reconnaissance mutuelle</td>\n",
       "      <td>TEVA SANTE</td>\n",
       "    </tr>\n",
       "  </tbody>\n",
       "</table>\n",
       "</div>"
      ],
      "text/plain": [
       "   drug_id                                        description  \\\n",
       "0  0_train  3 plaquette(s) thermoformée(s) PVC-Aluminium d...   \n",
       "1  1_train  plaquette(s) thermoformée(s) aluminium de 28 c...   \n",
       "\n",
       "  administrative_status                  marketing_status  \\\n",
       "0   Présentation active  Déclaration de commercialisation   \n",
       "1   Présentation active  Déclaration de commercialisation   \n",
       "\n",
       "  approved_for_hospital_use reimbursement_rate         dosage_form  \\\n",
       "0                       oui                65%  comprimé pelliculé   \n",
       "1                       oui                65%  comprimé à croquer   \n",
       "\n",
       "  route_of_administration marketing_authorization_status  \\\n",
       "0                   orale            Autorisation active   \n",
       "1                   orale            Autorisation active   \n",
       "\n",
       "   marketing_declaration_date  marketing_authorization_date  \\\n",
       "0                    20140101                      20140101   \n",
       "1                    20130101                      20090101   \n",
       "\n",
       "        marketing_authorization_process  \\\n",
       "0               Procédure décentralisée   \n",
       "1  Procédure de reconnaissance mutuelle   \n",
       "\n",
       "                     pharmaceutical_companies  \n",
       "0   MAJORELLE LUXEMBOURG SOPARFI (LUXEMBOURG)  \n",
       "1                                  TEVA SANTE  "
      ]
     },
     "execution_count": 345,
     "metadata": {},
     "output_type": "execute_result"
    }
   ],
   "source": [
    "X.head(2)"
   ]
  },
  {
   "cell_type": "code",
   "execution_count": 346,
   "id": "a9b1f639-1bc6-498f-8f42-59e6127c0791",
   "metadata": {},
   "outputs": [
    {
     "data": {
      "text/plain": [
       "8564"
      ]
     },
     "execution_count": 346,
     "metadata": {},
     "output_type": "execute_result"
    }
   ],
   "source": [
    "X.drug_id.nunique()"
   ]
  },
  {
   "cell_type": "code",
   "execution_count": 347,
   "id": "86f8ae81-db4e-4caa-8e8a-364134419366",
   "metadata": {},
   "outputs": [
    {
     "data": {
      "text/plain": [
       "Index(['drug_id', 'description', 'administrative_status', 'marketing_status',\n",
       "       'approved_for_hospital_use', 'reimbursement_rate', 'dosage_form',\n",
       "       'route_of_administration', 'marketing_authorization_status',\n",
       "       'marketing_declaration_date', 'marketing_authorization_date',\n",
       "       'marketing_authorization_process', 'pharmaceutical_companies'],\n",
       "      dtype='object')"
      ]
     },
     "execution_count": 347,
     "metadata": {},
     "output_type": "execute_result"
    }
   ],
   "source": [
    "X.columns"
   ]
  },
  {
   "cell_type": "code",
   "execution_count": 348,
   "id": "2c5e5029-6c90-4803-966a-34496f271a79",
   "metadata": {},
   "outputs": [
    {
     "data": {
      "text/plain": [
       "count    8564.000000\n",
       "mean       28.530284\n",
       "std        81.394061\n",
       "min         0.600000\n",
       "25%         3.940000\n",
       "50%         7.940000\n",
       "75%        20.130000\n",
       "max       990.390000\n",
       "Name: price, dtype: float64"
      ]
     },
     "execution_count": 348,
     "metadata": {},
     "output_type": "execute_result"
    }
   ],
   "source": [
    "y.describe()"
   ]
  },
  {
   "cell_type": "code",
   "execution_count": 349,
   "id": "3aab8a2c-116e-4770-a39e-0b1f99285a8d",
   "metadata": {},
   "outputs": [
    {
     "data": {
      "text/html": [
       "<div>\n",
       "<style scoped>\n",
       "    .dataframe tbody tr th:only-of-type {\n",
       "        vertical-align: middle;\n",
       "    }\n",
       "\n",
       "    .dataframe tbody tr th {\n",
       "        vertical-align: top;\n",
       "    }\n",
       "\n",
       "    .dataframe thead th {\n",
       "        text-align: right;\n",
       "    }\n",
       "</style>\n",
       "<table border=\"1\" class=\"dataframe\">\n",
       "  <thead>\n",
       "    <tr style=\"text-align: right;\">\n",
       "      <th></th>\n",
       "      <th>drug_id</th>\n",
       "      <th>description</th>\n",
       "      <th>administrative_status</th>\n",
       "      <th>marketing_status</th>\n",
       "      <th>approved_for_hospital_use</th>\n",
       "      <th>reimbursement_rate</th>\n",
       "      <th>dosage_form</th>\n",
       "      <th>route_of_administration</th>\n",
       "      <th>marketing_authorization_status</th>\n",
       "      <th>marketing_declaration_date</th>\n",
       "      <th>marketing_authorization_date</th>\n",
       "      <th>marketing_authorization_process</th>\n",
       "      <th>pharmaceutical_companies</th>\n",
       "    </tr>\n",
       "  </thead>\n",
       "  <tbody>\n",
       "    <tr>\n",
       "      <th>0</th>\n",
       "      <td>0_train</td>\n",
       "      <td>3 plaquette(s) thermoformée(s) PVC-Aluminium d...</td>\n",
       "      <td>Présentation active</td>\n",
       "      <td>Déclaration de commercialisation</td>\n",
       "      <td>oui</td>\n",
       "      <td>65%</td>\n",
       "      <td>comprimé pelliculé</td>\n",
       "      <td>orale</td>\n",
       "      <td>Autorisation active</td>\n",
       "      <td>20140101</td>\n",
       "      <td>20140101</td>\n",
       "      <td>Procédure décentralisée</td>\n",
       "      <td>MAJORELLE LUXEMBOURG SOPARFI (LUXEMBOURG)</td>\n",
       "    </tr>\n",
       "    <tr>\n",
       "      <th>1</th>\n",
       "      <td>1_train</td>\n",
       "      <td>plaquette(s) thermoformée(s) aluminium de 28 c...</td>\n",
       "      <td>Présentation active</td>\n",
       "      <td>Déclaration de commercialisation</td>\n",
       "      <td>oui</td>\n",
       "      <td>65%</td>\n",
       "      <td>comprimé à croquer</td>\n",
       "      <td>orale</td>\n",
       "      <td>Autorisation active</td>\n",
       "      <td>20130101</td>\n",
       "      <td>20090101</td>\n",
       "      <td>Procédure de reconnaissance mutuelle</td>\n",
       "      <td>TEVA SANTE</td>\n",
       "    </tr>\n",
       "    <tr>\n",
       "      <th>2</th>\n",
       "      <td>2_train</td>\n",
       "      <td>plaquette(s) thermoformée(s) PVC-aluminium de ...</td>\n",
       "      <td>Présentation active</td>\n",
       "      <td>Déclaration de commercialisation</td>\n",
       "      <td>oui</td>\n",
       "      <td>65%</td>\n",
       "      <td>gélule à libération prolongée</td>\n",
       "      <td>orale</td>\n",
       "      <td>Autorisation active</td>\n",
       "      <td>20000101</td>\n",
       "      <td>19960101</td>\n",
       "      <td>Procédure nationale</td>\n",
       "      <td>MYLAN SAS</td>\n",
       "    </tr>\n",
       "  </tbody>\n",
       "</table>\n",
       "</div>"
      ],
      "text/plain": [
       "   drug_id                                        description  \\\n",
       "0  0_train  3 plaquette(s) thermoformée(s) PVC-Aluminium d...   \n",
       "1  1_train  plaquette(s) thermoformée(s) aluminium de 28 c...   \n",
       "2  2_train  plaquette(s) thermoformée(s) PVC-aluminium de ...   \n",
       "\n",
       "  administrative_status                  marketing_status  \\\n",
       "0   Présentation active  Déclaration de commercialisation   \n",
       "1   Présentation active  Déclaration de commercialisation   \n",
       "2   Présentation active  Déclaration de commercialisation   \n",
       "\n",
       "  approved_for_hospital_use reimbursement_rate                    dosage_form  \\\n",
       "0                       oui                65%             comprimé pelliculé   \n",
       "1                       oui                65%             comprimé à croquer   \n",
       "2                       oui                65%  gélule à libération prolongée   \n",
       "\n",
       "  route_of_administration marketing_authorization_status  \\\n",
       "0                   orale            Autorisation active   \n",
       "1                   orale            Autorisation active   \n",
       "2                   orale            Autorisation active   \n",
       "\n",
       "   marketing_declaration_date  marketing_authorization_date  \\\n",
       "0                    20140101                      20140101   \n",
       "1                    20130101                      20090101   \n",
       "2                    20000101                      19960101   \n",
       "\n",
       "        marketing_authorization_process  \\\n",
       "0               Procédure décentralisée   \n",
       "1  Procédure de reconnaissance mutuelle   \n",
       "2                   Procédure nationale   \n",
       "\n",
       "                     pharmaceutical_companies  \n",
       "0   MAJORELLE LUXEMBOURG SOPARFI (LUXEMBOURG)  \n",
       "1                                  TEVA SANTE  \n",
       "2                                   MYLAN SAS  "
      ]
     },
     "execution_count": 349,
     "metadata": {},
     "output_type": "execute_result"
    }
   ],
   "source": [
    "X.head(3)"
   ]
  },
  {
   "cell_type": "code",
   "execution_count": 350,
   "id": "42b46556-6cdf-4dad-8541-b48a2694fd0c",
   "metadata": {},
   "outputs": [],
   "source": [
    "X[\"marketing_declaration_date\"] = pd.to_datetime(X.marketing_declaration_date, format=\"%Y%m%d\")\n",
    "X[\"marketing_authorization_date\"] = pd.to_datetime(X.marketing_authorization_date, format=\"%Y%m%d\")\n",
    "\n",
    "X[\"marketing_days_elapsed\"] = X[\"marketing_declaration_date\"] - X[\"marketing_authorization_date\"]\n",
    "X[\"marketing_days_elapsed\"] = abs(X[\"marketing_days_elapsed\"].dt.days)"
   ]
  },
  {
   "cell_type": "code",
   "execution_count": 351,
   "id": "df1a5c13-5223-4402-828b-38bd2f0fd270",
   "metadata": {},
   "outputs": [],
   "source": [
    "X[\"reimbursement_rate\"] = X.reimbursement_rate.str.replace(\"%\", \"\")\n",
    "X[\"reimbursement_rate\"] = X[\"reimbursement_rate\"].astype(int)\n",
    "X[\"reimbursement_rate\"] /= 100"
   ]
  },
  {
   "cell_type": "code",
   "execution_count": 352,
   "id": "6f11c3af-f390-4f63-8108-9338551efa73",
   "metadata": {},
   "outputs": [
    {
     "data": {
      "text/plain": [
       "0    0.65\n",
       "1    0.65\n",
       "2    0.65\n",
       "3    0.65\n",
       "4    1.00\n",
       "Name: reimbursement_rate, dtype: float64"
      ]
     },
     "execution_count": 352,
     "metadata": {},
     "output_type": "execute_result"
    }
   ],
   "source": [
    "X.reimbursement_rate.head()"
   ]
  },
  {
   "cell_type": "code",
   "execution_count": 353,
   "id": "5acf01ea-b247-4232-a713-81b0f9731118",
   "metadata": {},
   "outputs": [],
   "source": [
    "X.administrative_status = X.administrative_status.apply(lambda x: 1 if \"active\" in x else 0)"
   ]
  },
  {
   "cell_type": "code",
   "execution_count": 354,
   "id": "a36bea08-8f37-432c-8da9-c4fc936a7adf",
   "metadata": {},
   "outputs": [],
   "source": [
    "X.approved_for_hospital_use = X.approved_for_hospital_use.apply(lambda x: 1 if \"oui\" in x else 0)"
   ]
  },
  {
   "cell_type": "code",
   "execution_count": 355,
   "id": "70817a01-8a65-4d81-9ef9-063c8c6ba4c8",
   "metadata": {},
   "outputs": [],
   "source": [
    "X[\"year\"] = X.marketing_declaration_date.dt.year"
   ]
  },
  {
   "cell_type": "code",
   "execution_count": 335,
   "id": "cc188c0f-db66-47e9-be52-89be90fbda35",
   "metadata": {},
   "outputs": [],
   "source": [
    "X[\"pharmaceutical_companies\"] =X[\"pharmaceutical_companies\"].str.split(',')  "
   ]
  },
  {
   "cell_type": "code",
   "execution_count": 336,
   "id": "08550a5e-6000-4bbf-8d9f-28626f5c7488",
   "metadata": {},
   "outputs": [],
   "source": [
    "X = X.explode(\"pharmaceutical_companies\")"
   ]
  },
  {
   "cell_type": "code",
   "execution_count": 337,
   "id": "2ddd11b5-71e1-401c-a969-47c24b3a6dff",
   "metadata": {},
   "outputs": [
    {
     "data": {
      "text/html": [
       "<div>\n",
       "<style scoped>\n",
       "    .dataframe tbody tr th:only-of-type {\n",
       "        vertical-align: middle;\n",
       "    }\n",
       "\n",
       "    .dataframe tbody tr th {\n",
       "        vertical-align: top;\n",
       "    }\n",
       "\n",
       "    .dataframe thead th {\n",
       "        text-align: right;\n",
       "    }\n",
       "</style>\n",
       "<table border=\"1\" class=\"dataframe\">\n",
       "  <thead>\n",
       "    <tr style=\"text-align: right;\">\n",
       "      <th></th>\n",
       "      <th>drug_id</th>\n",
       "      <th>description</th>\n",
       "      <th>administrative_status</th>\n",
       "      <th>marketing_status</th>\n",
       "      <th>approved_for_hospital_use</th>\n",
       "      <th>reimbursement_rate</th>\n",
       "      <th>dosage_form</th>\n",
       "      <th>route_of_administration</th>\n",
       "      <th>marketing_authorization_status</th>\n",
       "      <th>marketing_declaration_date</th>\n",
       "      <th>marketing_authorization_date</th>\n",
       "      <th>marketing_authorization_process</th>\n",
       "      <th>pharmaceutical_companies</th>\n",
       "      <th>marketing_days_elapsed</th>\n",
       "      <th>year</th>\n",
       "    </tr>\n",
       "  </thead>\n",
       "  <tbody>\n",
       "    <tr>\n",
       "      <th>0</th>\n",
       "      <td>0_train</td>\n",
       "      <td>3 plaquette(s) thermoformée(s) PVC-Aluminium d...</td>\n",
       "      <td>1</td>\n",
       "      <td>Déclaration de commercialisation</td>\n",
       "      <td>1</td>\n",
       "      <td>0.65</td>\n",
       "      <td>comprimé pelliculé</td>\n",
       "      <td>orale</td>\n",
       "      <td>Autorisation active</td>\n",
       "      <td>2014-01-01</td>\n",
       "      <td>2014-01-01</td>\n",
       "      <td>Procédure décentralisée</td>\n",
       "      <td>MAJORELLE LUXEMBOURG SOPARFI (LUXEMBOURG)</td>\n",
       "      <td>0</td>\n",
       "      <td>2014</td>\n",
       "    </tr>\n",
       "    <tr>\n",
       "      <th>1</th>\n",
       "      <td>1_train</td>\n",
       "      <td>plaquette(s) thermoformée(s) aluminium de 28 c...</td>\n",
       "      <td>1</td>\n",
       "      <td>Déclaration de commercialisation</td>\n",
       "      <td>1</td>\n",
       "      <td>0.65</td>\n",
       "      <td>comprimé à croquer</td>\n",
       "      <td>orale</td>\n",
       "      <td>Autorisation active</td>\n",
       "      <td>2013-01-01</td>\n",
       "      <td>2009-01-01</td>\n",
       "      <td>Procédure de reconnaissance mutuelle</td>\n",
       "      <td>TEVA SANTE</td>\n",
       "      <td>1461</td>\n",
       "      <td>2013</td>\n",
       "    </tr>\n",
       "  </tbody>\n",
       "</table>\n",
       "</div>"
      ],
      "text/plain": [
       "   drug_id                                        description  \\\n",
       "0  0_train  3 plaquette(s) thermoformée(s) PVC-Aluminium d...   \n",
       "1  1_train  plaquette(s) thermoformée(s) aluminium de 28 c...   \n",
       "\n",
       "   administrative_status                  marketing_status  \\\n",
       "0                      1  Déclaration de commercialisation   \n",
       "1                      1  Déclaration de commercialisation   \n",
       "\n",
       "   approved_for_hospital_use  reimbursement_rate         dosage_form  \\\n",
       "0                          1                0.65  comprimé pelliculé   \n",
       "1                          1                0.65  comprimé à croquer   \n",
       "\n",
       "  route_of_administration marketing_authorization_status  \\\n",
       "0                   orale            Autorisation active   \n",
       "1                   orale            Autorisation active   \n",
       "\n",
       "  marketing_declaration_date marketing_authorization_date  \\\n",
       "0                 2014-01-01                   2014-01-01   \n",
       "1                 2013-01-01                   2009-01-01   \n",
       "\n",
       "        marketing_authorization_process  \\\n",
       "0               Procédure décentralisée   \n",
       "1  Procédure de reconnaissance mutuelle   \n",
       "\n",
       "                     pharmaceutical_companies  marketing_days_elapsed  year  \n",
       "0   MAJORELLE LUXEMBOURG SOPARFI (LUXEMBOURG)                       0  2014  \n",
       "1                                  TEVA SANTE                    1461  2013  "
      ]
     },
     "execution_count": 337,
     "metadata": {},
     "output_type": "execute_result"
    }
   ],
   "source": [
    "X.head(2)"
   ]
  },
  {
   "cell_type": "code",
   "execution_count": 338,
   "id": "b37f0906-ab63-4fa2-9d28-a623596d7dac",
   "metadata": {},
   "outputs": [
    {
     "data": {
      "text/plain": [
       "(8566, 15)"
      ]
     },
     "execution_count": 338,
     "metadata": {},
     "output_type": "execute_result"
    }
   ],
   "source": [
    "X.shape"
   ]
  },
  {
   "cell_type": "code",
   "execution_count": 356,
   "id": "66bc506c-7683-49b5-bcb8-19e6c21575ef",
   "metadata": {},
   "outputs": [],
   "source": [
    "#y_log = np.log1p(y)\n",
    "y_log = (y - y.mean()) / y.std()"
   ]
  },
  {
   "cell_type": "code",
   "execution_count": 357,
   "id": "c38dc52e-1cca-4c9b-b193-fbf70194db06",
   "metadata": {},
   "outputs": [],
   "source": [
    "X = X.drop(columns=[\"drug_id\", \"description\", 'marketing_declaration_date', 'marketing_authorization_date'])"
   ]
  },
  {
   "cell_type": "code",
   "execution_count": 358,
   "id": "62928060-6cb1-4a92-8a3c-948f1da4e6db",
   "metadata": {},
   "outputs": [],
   "source": [
    "dups = X[X.duplicated(keep=False)]"
   ]
  },
  {
   "cell_type": "code",
   "execution_count": 362,
   "id": "23861de9-e677-4a28-8481-c08f8656f63e",
   "metadata": {},
   "outputs": [],
   "source": [
    "dups.reset_index(inplace=True)\n",
    "y_bis = y.reset_index()"
   ]
  },
  {
   "cell_type": "code",
   "execution_count": 364,
   "id": "0da1c075-a118-48c7-870b-a7a5f880a814",
   "metadata": {},
   "outputs": [],
   "source": [
    "dups = dups.merge(y_bis)"
   ]
  },
  {
   "cell_type": "code",
   "execution_count": 366,
   "id": "bac8936b-b08d-4deb-a78f-c7cd5468814b",
   "metadata": {},
   "outputs": [
    {
     "data": {
      "text/html": [
       "<div>\n",
       "<style scoped>\n",
       "    .dataframe tbody tr th:only-of-type {\n",
       "        vertical-align: middle;\n",
       "    }\n",
       "\n",
       "    .dataframe tbody tr th {\n",
       "        vertical-align: top;\n",
       "    }\n",
       "\n",
       "    .dataframe thead th {\n",
       "        text-align: right;\n",
       "    }\n",
       "</style>\n",
       "<table border=\"1\" class=\"dataframe\">\n",
       "  <thead>\n",
       "    <tr style=\"text-align: right;\">\n",
       "      <th></th>\n",
       "      <th>index</th>\n",
       "      <th>administrative_status</th>\n",
       "      <th>marketing_status</th>\n",
       "      <th>approved_for_hospital_use</th>\n",
       "      <th>reimbursement_rate</th>\n",
       "      <th>dosage_form</th>\n",
       "      <th>route_of_administration</th>\n",
       "      <th>marketing_authorization_status</th>\n",
       "      <th>marketing_authorization_process</th>\n",
       "      <th>pharmaceutical_companies</th>\n",
       "      <th>marketing_days_elapsed</th>\n",
       "      <th>year</th>\n",
       "      <th>price</th>\n",
       "    </tr>\n",
       "  </thead>\n",
       "  <tbody>\n",
       "    <tr>\n",
       "      <th>0</th>\n",
       "      <td>0</td>\n",
       "      <td>1</td>\n",
       "      <td>Déclaration de commercialisation</td>\n",
       "      <td>1</td>\n",
       "      <td>0.65</td>\n",
       "      <td>comprimé pelliculé</td>\n",
       "      <td>orale</td>\n",
       "      <td>Autorisation active</td>\n",
       "      <td>Procédure décentralisée</td>\n",
       "      <td>MAJORELLE LUXEMBOURG SOPARFI (LUXEMBOURG)</td>\n",
       "      <td>0</td>\n",
       "      <td>2014</td>\n",
       "      <td>2.83</td>\n",
       "    </tr>\n",
       "    <tr>\n",
       "      <th>1</th>\n",
       "      <td>2</td>\n",
       "      <td>1</td>\n",
       "      <td>Déclaration de commercialisation</td>\n",
       "      <td>1</td>\n",
       "      <td>0.65</td>\n",
       "      <td>gélule à libération prolongée</td>\n",
       "      <td>orale</td>\n",
       "      <td>Autorisation active</td>\n",
       "      <td>Procédure nationale</td>\n",
       "      <td>MYLAN SAS</td>\n",
       "      <td>1461</td>\n",
       "      <td>2000</td>\n",
       "      <td>5.66</td>\n",
       "    </tr>\n",
       "    <tr>\n",
       "      <th>2</th>\n",
       "      <td>3</td>\n",
       "      <td>1</td>\n",
       "      <td>Déclaration de commercialisation</td>\n",
       "      <td>1</td>\n",
       "      <td>0.65</td>\n",
       "      <td>granulés à libération prolongée</td>\n",
       "      <td>orale</td>\n",
       "      <td>Autorisation active</td>\n",
       "      <td>Procédure nationale</td>\n",
       "      <td>SANOFI AVENTIS FRANCE</td>\n",
       "      <td>366</td>\n",
       "      <td>2005</td>\n",
       "      <td>24.27</td>\n",
       "    </tr>\n",
       "    <tr>\n",
       "      <th>3</th>\n",
       "      <td>7</td>\n",
       "      <td>1</td>\n",
       "      <td>Déclaration de commercialisation</td>\n",
       "      <td>1</td>\n",
       "      <td>0.65</td>\n",
       "      <td>comprimé</td>\n",
       "      <td>orale</td>\n",
       "      <td>Autorisation active</td>\n",
       "      <td>Procédure de reconnaissance mutuelle</td>\n",
       "      <td>SANDOZ</td>\n",
       "      <td>0</td>\n",
       "      <td>2006</td>\n",
       "      <td>6.58</td>\n",
       "    </tr>\n",
       "  </tbody>\n",
       "</table>\n",
       "</div>"
      ],
      "text/plain": [
       "   index  administrative_status                  marketing_status  \\\n",
       "0      0                      1  Déclaration de commercialisation   \n",
       "1      2                      1  Déclaration de commercialisation   \n",
       "2      3                      1  Déclaration de commercialisation   \n",
       "3      7                      1  Déclaration de commercialisation   \n",
       "\n",
       "   approved_for_hospital_use  reimbursement_rate  \\\n",
       "0                          1                0.65   \n",
       "1                          1                0.65   \n",
       "2                          1                0.65   \n",
       "3                          1                0.65   \n",
       "\n",
       "                       dosage_form route_of_administration  \\\n",
       "0               comprimé pelliculé                   orale   \n",
       "1    gélule à libération prolongée                   orale   \n",
       "2  granulés à libération prolongée                   orale   \n",
       "3                         comprimé                   orale   \n",
       "\n",
       "  marketing_authorization_status       marketing_authorization_process  \\\n",
       "0            Autorisation active               Procédure décentralisée   \n",
       "1            Autorisation active                   Procédure nationale   \n",
       "2            Autorisation active                   Procédure nationale   \n",
       "3            Autorisation active  Procédure de reconnaissance mutuelle   \n",
       "\n",
       "                     pharmaceutical_companies  marketing_days_elapsed  year  \\\n",
       "0   MAJORELLE LUXEMBOURG SOPARFI (LUXEMBOURG)                       0  2014   \n",
       "1                                   MYLAN SAS                    1461  2000   \n",
       "2                       SANOFI AVENTIS FRANCE                     366  2005   \n",
       "3                                      SANDOZ                       0  2006   \n",
       "\n",
       "   price  \n",
       "0   2.83  \n",
       "1   5.66  \n",
       "2  24.27  \n",
       "3   6.58  "
      ]
     },
     "execution_count": 366,
     "metadata": {},
     "output_type": "execute_result"
    }
   ],
   "source": [
    "dups.head(4)"
   ]
  },
  {
   "cell_type": "code",
   "execution_count": 360,
   "id": "c72d66d1-4cdd-4e33-b46e-7486ed217345",
   "metadata": {},
   "outputs": [
    {
     "data": {
      "text/plain": [
       "0         2.83\n",
       "1        14.30\n",
       "2         5.66\n",
       "3        24.27\n",
       "4        59.94\n",
       "         ...  \n",
       "8559     43.50\n",
       "8560    781.37\n",
       "8561      3.94\n",
       "8562     14.21\n",
       "8563      4.82\n",
       "Name: price, Length: 8564, dtype: float64"
      ]
     },
     "execution_count": 360,
     "metadata": {},
     "output_type": "execute_result"
    }
   ],
   "source": [
    "y"
   ]
  },
  {
   "cell_type": "code",
   "execution_count": null,
   "id": "f7e53827-1c89-4ea6-b1cc-1a677c5edadf",
   "metadata": {},
   "outputs": [],
   "source": []
  },
  {
   "cell_type": "code",
   "execution_count": null,
   "id": "098daf3b-9c2b-4d1e-849c-17fe2d32d7b9",
   "metadata": {},
   "outputs": [],
   "source": []
  },
  {
   "cell_type": "code",
   "execution_count": 243,
   "id": "f7bb6efa-b645-4304-a24b-2e414daf4ae2",
   "metadata": {},
   "outputs": [],
   "source": [
    "X.drop_duplicates(inplace=True)"
   ]
  },
  {
   "cell_type": "code",
   "execution_count": 244,
   "id": "304650bf-9b8a-4029-b274-6c42fc1ac03f",
   "metadata": {},
   "outputs": [
    {
     "data": {
      "text/plain": [
       "(5583, 11)"
      ]
     },
     "execution_count": 244,
     "metadata": {},
     "output_type": "execute_result"
    }
   ],
   "source": [
    "X.shape"
   ]
  },
  {
   "cell_type": "code",
   "execution_count": 240,
   "id": "fef5199d-f53d-4b43-8b3e-f6ce7c7f11b6",
   "metadata": {},
   "outputs": [
    {
     "data": {
      "text/plain": [
       "Index(['administrative_status', 'marketing_status',\n",
       "       'approved_for_hospital_use', 'reimbursement_rate', 'dosage_form',\n",
       "       'route_of_administration', 'marketing_authorization_status',\n",
       "       'marketing_authorization_process', 'pharmaceutical_companies',\n",
       "       'marketing_days_elapsed', 'year'],\n",
       "      dtype='object')"
      ]
     },
     "execution_count": 240,
     "metadata": {},
     "output_type": "execute_result"
    }
   ],
   "source": [
    "X.columns"
   ]
  },
  {
   "cell_type": "code",
   "execution_count": 241,
   "id": "62d7065f-42ff-48d3-8747-3ec132565554",
   "metadata": {},
   "outputs": [],
   "source": [
    "one_hot_columns = [\"marketing_status\", \n",
    "                   \"marketing_authorization_status\",\n",
    "                   \"marketing_authorization_process\"\n",
    "                  ]\n",
    "\n",
    "high_dim_columns = [\"dosage_form\", \"route_of_administration\", \"pharmaceutical_companies\"]\n",
    "\n",
    "bins_columns = [\"marketing_days_elapsed\"]\n",
    "nums_columns = [\"reimbursement_rate\"]"
   ]
  },
  {
   "cell_type": "code",
   "execution_count": 181,
   "id": "63596775-e502-424d-bdf6-25f53f97bd4a",
   "metadata": {},
   "outputs": [],
   "source": [
    "## Random variable\n",
    "n = len(X)\n",
    "mu, sigma = 0, 0.1 \n",
    "s = np.random.normal(mu, sigma, n)\n",
    "X[\"random\"] = s"
   ]
  },
  {
   "cell_type": "code",
   "execution_count": 153,
   "id": "72fb2155-a628-49f9-95a7-89f66794e9d3",
   "metadata": {},
   "outputs": [
    {
     "data": {
      "text/plain": [
       "Index(['administrative_status', 'marketing_status',\n",
       "       'approved_for_hospital_use', 'reimbursement_rate', 'dosage_form',\n",
       "       'route_of_administration', 'marketing_authorization_status',\n",
       "       'marketing_authorization_process', 'pharmaceutical_companies',\n",
       "       'marketing_days_elapsed', 'year', 'random'],\n",
       "      dtype='object')"
      ]
     },
     "execution_count": 153,
     "metadata": {},
     "output_type": "execute_result"
    }
   ],
   "source": [
    "X.columns"
   ]
  },
  {
   "cell_type": "code",
   "execution_count": 182,
   "id": "6f572eea-be7a-48dc-9957-12578359334b",
   "metadata": {},
   "outputs": [],
   "source": [
    "from xgboost import XGBRegressor\n",
    "from sklearn.compose import ColumnTransformer\n",
    "from sklearn.preprocessing import OneHotEncoder, KBinsDiscretizer\n",
    "from category_encoders import MEstimateEncoder\n",
    "import warnings\n",
    "warnings.filterwarnings(\"ignore\")\n",
    "from sklearn.model_selection import train_test_split\n",
    "\n",
    "X_train, X_test, Y_train, Y_test = train_test_split(X, \n",
    "                                                    y_log, test_size = .20, random_state = 40)"
   ]
  },
  {
   "cell_type": "code",
   "execution_count": 183,
   "id": "f6921eca-21c1-45fc-ba8d-6ca1ddbf6b16",
   "metadata": {
    "tags": []
   },
   "outputs": [],
   "source": [
    "X_train[\"price\"] = Y_train\n",
    "X_test[\"price\"] = Y_test"
   ]
  },
  {
   "cell_type": "code",
   "execution_count": 184,
   "id": "f0ace75f-4db2-4303-a01d-4e07a55f90c2",
   "metadata": {
    "tags": []
   },
   "outputs": [],
   "source": [
    "for hdc in high_dim_columns:\n",
    "    mean_price = X_train.groupby(hdc).price.mean()\n",
    "    median_price = X_train.groupby(hdc).price.median()\n",
    "    qauntile_75_price = X_train.groupby(hdc).price.quantile(0.75)\n",
    "    \n",
    "    X_train[hdc + \"_mean\"] = X_train[hdc].map(mean_price)\n",
    "    X_test[hdc + \"_mean\"] = X_test[hdc].map(mean_price)\n",
    "    X_test[hdc + \"_mean\"].fillna(median_price.mean(), inplace=True)\n",
    "    #X_train[hdc + \"_median\"] = X_train[hdc].map(median_price)\n",
    "    #X_test[hdc + \"_median\"] = X_test[hdc].map(median_price)\n",
    "    #X_train[hdc + \"_q75\"] = X_train[hdc].map(qauntile_75_price)\n",
    "    #X_test[hdc + \"_q75\"] = X_test[hdc].map(qauntile_75_price)\n",
    "    \n"
   ]
  },
  {
   "cell_type": "code",
   "execution_count": 185,
   "id": "b9e46ffc-2a93-4701-a94f-0ce82d259a75",
   "metadata": {},
   "outputs": [
    {
     "data": {
      "text/html": [
       "<div>\n",
       "<style scoped>\n",
       "    .dataframe tbody tr th:only-of-type {\n",
       "        vertical-align: middle;\n",
       "    }\n",
       "\n",
       "    .dataframe tbody tr th {\n",
       "        vertical-align: top;\n",
       "    }\n",
       "\n",
       "    .dataframe thead th {\n",
       "        text-align: right;\n",
       "    }\n",
       "</style>\n",
       "<table border=\"1\" class=\"dataframe\">\n",
       "  <thead>\n",
       "    <tr style=\"text-align: right;\">\n",
       "      <th></th>\n",
       "      <th>administrative_status</th>\n",
       "      <th>marketing_status</th>\n",
       "      <th>approved_for_hospital_use</th>\n",
       "      <th>reimbursement_rate</th>\n",
       "      <th>dosage_form</th>\n",
       "      <th>route_of_administration</th>\n",
       "      <th>marketing_authorization_status</th>\n",
       "      <th>marketing_authorization_process</th>\n",
       "      <th>pharmaceutical_companies</th>\n",
       "      <th>marketing_days_elapsed</th>\n",
       "      <th>year</th>\n",
       "      <th>random</th>\n",
       "      <th>price</th>\n",
       "      <th>dosage_form_mean</th>\n",
       "      <th>route_of_administration_mean</th>\n",
       "      <th>pharmaceutical_companies_mean</th>\n",
       "    </tr>\n",
       "  </thead>\n",
       "  <tbody>\n",
       "    <tr>\n",
       "      <th>2850</th>\n",
       "      <td>1</td>\n",
       "      <td>Déclaration de commercialisation</td>\n",
       "      <td>1</td>\n",
       "      <td>0.65</td>\n",
       "      <td>comprimé sécable</td>\n",
       "      <td>orale</td>\n",
       "      <td>Autorisation active</td>\n",
       "      <td>Procédure nationale</td>\n",
       "      <td>RATIOPHARM (ALLEMAGNE)</td>\n",
       "      <td>4383</td>\n",
       "      <td>2014</td>\n",
       "      <td>0.048037</td>\n",
       "      <td>1.291984</td>\n",
       "      <td>2.033428</td>\n",
       "      <td>2.35611</td>\n",
       "      <td>2.303321</td>\n",
       "    </tr>\n",
       "    <tr>\n",
       "      <th>3258</th>\n",
       "      <td>1</td>\n",
       "      <td>Déclaration de commercialisation</td>\n",
       "      <td>1</td>\n",
       "      <td>1.00</td>\n",
       "      <td>poudre et  solvant pour solution injectable</td>\n",
       "      <td>sous-cutanée</td>\n",
       "      <td>Autorisation active</td>\n",
       "      <td>Procédure de reconnaissance mutuelle</td>\n",
       "      <td>ASTELLAS PHARMA</td>\n",
       "      <td>365</td>\n",
       "      <td>2006</td>\n",
       "      <td>-0.006457</td>\n",
       "      <td>4.808274</td>\n",
       "      <td>4.108457</td>\n",
       "      <td>4.91321</td>\n",
       "      <td>2.178918</td>\n",
       "    </tr>\n",
       "  </tbody>\n",
       "</table>\n",
       "</div>"
      ],
      "text/plain": [
       "      administrative_status                  marketing_status  \\\n",
       "2850                      1  Déclaration de commercialisation   \n",
       "3258                      1  Déclaration de commercialisation   \n",
       "\n",
       "      approved_for_hospital_use  reimbursement_rate  \\\n",
       "2850                          1                0.65   \n",
       "3258                          1                1.00   \n",
       "\n",
       "                                      dosage_form route_of_administration  \\\n",
       "2850                             comprimé sécable                   orale   \n",
       "3258  poudre et  solvant pour solution injectable            sous-cutanée   \n",
       "\n",
       "     marketing_authorization_status       marketing_authorization_process  \\\n",
       "2850            Autorisation active                   Procédure nationale   \n",
       "3258            Autorisation active  Procédure de reconnaissance mutuelle   \n",
       "\n",
       "     pharmaceutical_companies  marketing_days_elapsed  year    random  \\\n",
       "2850   RATIOPHARM (ALLEMAGNE)                    4383  2014  0.048037   \n",
       "3258          ASTELLAS PHARMA                     365  2006 -0.006457   \n",
       "\n",
       "         price  dosage_form_mean  route_of_administration_mean  \\\n",
       "2850  1.291984          2.033428                       2.35611   \n",
       "3258  4.808274          4.108457                       4.91321   \n",
       "\n",
       "      pharmaceutical_companies_mean  \n",
       "2850                       2.303321  \n",
       "3258                       2.178918  "
      ]
     },
     "execution_count": 185,
     "metadata": {},
     "output_type": "execute_result"
    }
   ],
   "source": [
    "X_train.head(2)"
   ]
  },
  {
   "cell_type": "code",
   "execution_count": 186,
   "id": "5ea6e3d3-ba54-4a51-b284-4870bc29863d",
   "metadata": {},
   "outputs": [
    {
     "data": {
      "text/html": [
       "<div>\n",
       "<style scoped>\n",
       "    .dataframe tbody tr th:only-of-type {\n",
       "        vertical-align: middle;\n",
       "    }\n",
       "\n",
       "    .dataframe tbody tr th {\n",
       "        vertical-align: top;\n",
       "    }\n",
       "\n",
       "    .dataframe thead th {\n",
       "        text-align: right;\n",
       "    }\n",
       "</style>\n",
       "<table border=\"1\" class=\"dataframe\">\n",
       "  <thead>\n",
       "    <tr style=\"text-align: right;\">\n",
       "      <th></th>\n",
       "      <th>administrative_status</th>\n",
       "      <th>marketing_status</th>\n",
       "      <th>approved_for_hospital_use</th>\n",
       "      <th>reimbursement_rate</th>\n",
       "      <th>dosage_form</th>\n",
       "      <th>route_of_administration</th>\n",
       "      <th>marketing_authorization_status</th>\n",
       "      <th>marketing_authorization_process</th>\n",
       "      <th>pharmaceutical_companies</th>\n",
       "      <th>marketing_days_elapsed</th>\n",
       "      <th>year</th>\n",
       "      <th>random</th>\n",
       "      <th>price</th>\n",
       "      <th>dosage_form_mean</th>\n",
       "      <th>route_of_administration_mean</th>\n",
       "      <th>pharmaceutical_companies_mean</th>\n",
       "    </tr>\n",
       "  </thead>\n",
       "  <tbody>\n",
       "    <tr>\n",
       "      <th>3955</th>\n",
       "      <td>1</td>\n",
       "      <td>Déclaration de commercialisation</td>\n",
       "      <td>1</td>\n",
       "      <td>0.65</td>\n",
       "      <td>comprimé pelliculé sécable</td>\n",
       "      <td>orale</td>\n",
       "      <td>Autorisation active</td>\n",
       "      <td>Procédure de reconnaissance mutuelle</td>\n",
       "      <td>CHIESI</td>\n",
       "      <td>730</td>\n",
       "      <td>1992</td>\n",
       "      <td>-0.091842</td>\n",
       "      <td>2.297573</td>\n",
       "      <td>2.283879</td>\n",
       "      <td>2.35611</td>\n",
       "      <td>2.580888</td>\n",
       "    </tr>\n",
       "    <tr>\n",
       "      <th>5939</th>\n",
       "      <td>1</td>\n",
       "      <td>Déclaration de commercialisation</td>\n",
       "      <td>1</td>\n",
       "      <td>0.65</td>\n",
       "      <td>gélule</td>\n",
       "      <td>orale</td>\n",
       "      <td>Autorisation active</td>\n",
       "      <td>Procédure nationale</td>\n",
       "      <td>MYLAN SAS</td>\n",
       "      <td>8035</td>\n",
       "      <td>2015</td>\n",
       "      <td>-0.114097</td>\n",
       "      <td>2.455306</td>\n",
       "      <td>2.480157</td>\n",
       "      <td>2.35611</td>\n",
       "      <td>2.270858</td>\n",
       "    </tr>\n",
       "  </tbody>\n",
       "</table>\n",
       "</div>"
      ],
      "text/plain": [
       "      administrative_status                  marketing_status  \\\n",
       "3955                      1  Déclaration de commercialisation   \n",
       "5939                      1  Déclaration de commercialisation   \n",
       "\n",
       "      approved_for_hospital_use  reimbursement_rate  \\\n",
       "3955                          1                0.65   \n",
       "5939                          1                0.65   \n",
       "\n",
       "                     dosage_form route_of_administration  \\\n",
       "3955  comprimé pelliculé sécable                   orale   \n",
       "5939                      gélule                   orale   \n",
       "\n",
       "     marketing_authorization_status       marketing_authorization_process  \\\n",
       "3955            Autorisation active  Procédure de reconnaissance mutuelle   \n",
       "5939            Autorisation active                   Procédure nationale   \n",
       "\n",
       "     pharmaceutical_companies  marketing_days_elapsed  year    random  \\\n",
       "3955                   CHIESI                     730  1992 -0.091842   \n",
       "5939                MYLAN SAS                    8035  2015 -0.114097   \n",
       "\n",
       "         price  dosage_form_mean  route_of_administration_mean  \\\n",
       "3955  2.297573          2.283879                       2.35611   \n",
       "5939  2.455306          2.480157                       2.35611   \n",
       "\n",
       "      pharmaceutical_companies_mean  \n",
       "3955                       2.580888  \n",
       "5939                       2.270858  "
      ]
     },
     "execution_count": 186,
     "metadata": {},
     "output_type": "execute_result"
    }
   ],
   "source": [
    "X_test.head(2)"
   ]
  },
  {
   "cell_type": "code",
   "execution_count": 187,
   "id": "7285337b-da2b-41c4-ad0d-7880702b869b",
   "metadata": {},
   "outputs": [
    {
     "data": {
      "text/plain": [
       "True"
      ]
     },
     "execution_count": 187,
     "metadata": {},
     "output_type": "execute_result"
    }
   ],
   "source": [
    "len(X_test.columns) == len(X_train.columns)"
   ]
  },
  {
   "cell_type": "code",
   "execution_count": 188,
   "id": "b1a24f5e-a145-4cb9-888d-b1b41f4bb2fb",
   "metadata": {},
   "outputs": [],
   "source": [
    "corr = X_train.corr()"
   ]
  },
  {
   "cell_type": "code",
   "execution_count": 189,
   "id": "e360e0ee-e7a7-4d68-bf0b-c2b91c6af015",
   "metadata": {},
   "outputs": [
    {
     "data": {
      "text/html": [
       "<div>\n",
       "<style scoped>\n",
       "    .dataframe tbody tr th:only-of-type {\n",
       "        vertical-align: middle;\n",
       "    }\n",
       "\n",
       "    .dataframe tbody tr th {\n",
       "        vertical-align: top;\n",
       "    }\n",
       "\n",
       "    .dataframe thead th {\n",
       "        text-align: right;\n",
       "    }\n",
       "</style>\n",
       "<table border=\"1\" class=\"dataframe\">\n",
       "  <thead>\n",
       "    <tr style=\"text-align: right;\">\n",
       "      <th></th>\n",
       "      <th>administrative_status</th>\n",
       "      <th>approved_for_hospital_use</th>\n",
       "      <th>reimbursement_rate</th>\n",
       "      <th>marketing_days_elapsed</th>\n",
       "      <th>year</th>\n",
       "      <th>random</th>\n",
       "      <th>price</th>\n",
       "      <th>dosage_form_mean</th>\n",
       "      <th>route_of_administration_mean</th>\n",
       "      <th>pharmaceutical_companies_mean</th>\n",
       "    </tr>\n",
       "  </thead>\n",
       "  <tbody>\n",
       "    <tr>\n",
       "      <th>administrative_status</th>\n",
       "      <td>NaN</td>\n",
       "      <td>NaN</td>\n",
       "      <td>NaN</td>\n",
       "      <td>NaN</td>\n",
       "      <td>NaN</td>\n",
       "      <td>NaN</td>\n",
       "      <td>NaN</td>\n",
       "      <td>NaN</td>\n",
       "      <td>NaN</td>\n",
       "      <td>NaN</td>\n",
       "    </tr>\n",
       "    <tr>\n",
       "      <th>approved_for_hospital_use</th>\n",
       "      <td>NaN</td>\n",
       "      <td>NaN</td>\n",
       "      <td>NaN</td>\n",
       "      <td>NaN</td>\n",
       "      <td>NaN</td>\n",
       "      <td>NaN</td>\n",
       "      <td>NaN</td>\n",
       "      <td>NaN</td>\n",
       "      <td>NaN</td>\n",
       "      <td>NaN</td>\n",
       "    </tr>\n",
       "    <tr>\n",
       "      <th>reimbursement_rate</th>\n",
       "      <td>NaN</td>\n",
       "      <td>NaN</td>\n",
       "      <td>NaN</td>\n",
       "      <td>NaN</td>\n",
       "      <td>NaN</td>\n",
       "      <td>NaN</td>\n",
       "      <td>NaN</td>\n",
       "      <td>NaN</td>\n",
       "      <td>NaN</td>\n",
       "      <td>NaN</td>\n",
       "    </tr>\n",
       "    <tr>\n",
       "      <th>marketing_days_elapsed</th>\n",
       "      <td>NaN</td>\n",
       "      <td>NaN</td>\n",
       "      <td>NaN</td>\n",
       "      <td>NaN</td>\n",
       "      <td>NaN</td>\n",
       "      <td>NaN</td>\n",
       "      <td>NaN</td>\n",
       "      <td>NaN</td>\n",
       "      <td>NaN</td>\n",
       "      <td>NaN</td>\n",
       "    </tr>\n",
       "    <tr>\n",
       "      <th>year</th>\n",
       "      <td>NaN</td>\n",
       "      <td>NaN</td>\n",
       "      <td>NaN</td>\n",
       "      <td>NaN</td>\n",
       "      <td>NaN</td>\n",
       "      <td>NaN</td>\n",
       "      <td>NaN</td>\n",
       "      <td>NaN</td>\n",
       "      <td>NaN</td>\n",
       "      <td>NaN</td>\n",
       "    </tr>\n",
       "    <tr>\n",
       "      <th>random</th>\n",
       "      <td>NaN</td>\n",
       "      <td>NaN</td>\n",
       "      <td>NaN</td>\n",
       "      <td>NaN</td>\n",
       "      <td>NaN</td>\n",
       "      <td>NaN</td>\n",
       "      <td>NaN</td>\n",
       "      <td>NaN</td>\n",
       "      <td>NaN</td>\n",
       "      <td>NaN</td>\n",
       "    </tr>\n",
       "    <tr>\n",
       "      <th>price</th>\n",
       "      <td>NaN</td>\n",
       "      <td>NaN</td>\n",
       "      <td>NaN</td>\n",
       "      <td>NaN</td>\n",
       "      <td>NaN</td>\n",
       "      <td>NaN</td>\n",
       "      <td>NaN</td>\n",
       "      <td>NaN</td>\n",
       "      <td>NaN</td>\n",
       "      <td>NaN</td>\n",
       "    </tr>\n",
       "    <tr>\n",
       "      <th>dosage_form_mean</th>\n",
       "      <td>NaN</td>\n",
       "      <td>NaN</td>\n",
       "      <td>NaN</td>\n",
       "      <td>NaN</td>\n",
       "      <td>NaN</td>\n",
       "      <td>NaN</td>\n",
       "      <td>NaN</td>\n",
       "      <td>NaN</td>\n",
       "      <td>NaN</td>\n",
       "      <td>NaN</td>\n",
       "    </tr>\n",
       "    <tr>\n",
       "      <th>route_of_administration_mean</th>\n",
       "      <td>NaN</td>\n",
       "      <td>NaN</td>\n",
       "      <td>NaN</td>\n",
       "      <td>NaN</td>\n",
       "      <td>NaN</td>\n",
       "      <td>NaN</td>\n",
       "      <td>NaN</td>\n",
       "      <td>NaN</td>\n",
       "      <td>NaN</td>\n",
       "      <td>NaN</td>\n",
       "    </tr>\n",
       "    <tr>\n",
       "      <th>pharmaceutical_companies_mean</th>\n",
       "      <td>NaN</td>\n",
       "      <td>NaN</td>\n",
       "      <td>NaN</td>\n",
       "      <td>NaN</td>\n",
       "      <td>NaN</td>\n",
       "      <td>NaN</td>\n",
       "      <td>NaN</td>\n",
       "      <td>NaN</td>\n",
       "      <td>NaN</td>\n",
       "      <td>NaN</td>\n",
       "    </tr>\n",
       "  </tbody>\n",
       "</table>\n",
       "</div>"
      ],
      "text/plain": [
       "                               administrative_status  \\\n",
       "administrative_status                            NaN   \n",
       "approved_for_hospital_use                        NaN   \n",
       "reimbursement_rate                               NaN   \n",
       "marketing_days_elapsed                           NaN   \n",
       "year                                             NaN   \n",
       "random                                           NaN   \n",
       "price                                            NaN   \n",
       "dosage_form_mean                                 NaN   \n",
       "route_of_administration_mean                     NaN   \n",
       "pharmaceutical_companies_mean                    NaN   \n",
       "\n",
       "                               approved_for_hospital_use  reimbursement_rate  \\\n",
       "administrative_status                                NaN                 NaN   \n",
       "approved_for_hospital_use                            NaN                 NaN   \n",
       "reimbursement_rate                                   NaN                 NaN   \n",
       "marketing_days_elapsed                               NaN                 NaN   \n",
       "year                                                 NaN                 NaN   \n",
       "random                                               NaN                 NaN   \n",
       "price                                                NaN                 NaN   \n",
       "dosage_form_mean                                     NaN                 NaN   \n",
       "route_of_administration_mean                         NaN                 NaN   \n",
       "pharmaceutical_companies_mean                        NaN                 NaN   \n",
       "\n",
       "                               marketing_days_elapsed  year  random  price  \\\n",
       "administrative_status                             NaN   NaN     NaN    NaN   \n",
       "approved_for_hospital_use                         NaN   NaN     NaN    NaN   \n",
       "reimbursement_rate                                NaN   NaN     NaN    NaN   \n",
       "marketing_days_elapsed                            NaN   NaN     NaN    NaN   \n",
       "year                                              NaN   NaN     NaN    NaN   \n",
       "random                                            NaN   NaN     NaN    NaN   \n",
       "price                                             NaN   NaN     NaN    NaN   \n",
       "dosage_form_mean                                  NaN   NaN     NaN    NaN   \n",
       "route_of_administration_mean                      NaN   NaN     NaN    NaN   \n",
       "pharmaceutical_companies_mean                     NaN   NaN     NaN    NaN   \n",
       "\n",
       "                               dosage_form_mean  route_of_administration_mean  \\\n",
       "administrative_status                       NaN                           NaN   \n",
       "approved_for_hospital_use                   NaN                           NaN   \n",
       "reimbursement_rate                          NaN                           NaN   \n",
       "marketing_days_elapsed                      NaN                           NaN   \n",
       "year                                        NaN                           NaN   \n",
       "random                                      NaN                           NaN   \n",
       "price                                       NaN                           NaN   \n",
       "dosage_form_mean                            NaN                           NaN   \n",
       "route_of_administration_mean                NaN                           NaN   \n",
       "pharmaceutical_companies_mean               NaN                           NaN   \n",
       "\n",
       "                               pharmaceutical_companies_mean  \n",
       "administrative_status                                    NaN  \n",
       "approved_for_hospital_use                                NaN  \n",
       "reimbursement_rate                                       NaN  \n",
       "marketing_days_elapsed                                   NaN  \n",
       "year                                                     NaN  \n",
       "random                                                   NaN  \n",
       "price                                                    NaN  \n",
       "dosage_form_mean                                         NaN  \n",
       "route_of_administration_mean                             NaN  \n",
       "pharmaceutical_companies_mean                            NaN  "
      ]
     },
     "execution_count": 189,
     "metadata": {},
     "output_type": "execute_result"
    }
   ],
   "source": [
    "corr[(corr >= 0.85) & (corr < 1.0)]"
   ]
  },
  {
   "cell_type": "code",
   "execution_count": 190,
   "id": "720dd9d5-478b-44e5-972e-1f2db65e1f9b",
   "metadata": {},
   "outputs": [],
   "source": [
    "drop_columns = high_dim_columns + [\"price\"]\n",
    "X_train.drop(columns=drop_columns, inplace=True)\n",
    "X_test.drop(columns=drop_columns, inplace=True)"
   ]
  },
  {
   "cell_type": "code",
   "execution_count": 191,
   "id": "66ae0a6f-7b58-4250-870e-bef3afa93d34",
   "metadata": {},
   "outputs": [],
   "source": [
    "full_pipeline = ColumnTransformer(transformers=[\n",
    "    ('onehot', OneHotEncoder(handle_unknown='ignore'), one_hot_columns), \n",
    "    ('bins', KBinsDiscretizer(n_bins=20, strategy='uniform', encode='ordinal'), bins_columns),\n",
    "], remainder='passthrough')\n",
    "\n",
    "encoder = full_pipeline.fit(X_train)\n",
    "X_train = encoder.transform(X_train)\n",
    "X_test = encoder.transform(X_test)"
   ]
  },
  {
   "cell_type": "code",
   "execution_count": 192,
   "id": "bd4be5a8-b843-4012-aff9-3b28309f67bb",
   "metadata": {},
   "outputs": [
    {
     "data": {
      "text/plain": [
       "RandomForestRegressor(max_depth=7, n_estimators=10, n_jobs=-1,\n",
       "                      random_state=2022)"
      ]
     },
     "execution_count": 192,
     "metadata": {},
     "output_type": "execute_result"
    }
   ],
   "source": [
    "model = RandomForestRegressor(random_state=2022, n_estimators=10, max_depth=7, n_jobs=-1)\n",
    "model.fit(X_train, Y_train)"
   ]
  },
  {
   "cell_type": "code",
   "execution_count": 77,
   "id": "f6903dad-e73a-4636-a3b9-dc9574d94068",
   "metadata": {},
   "outputs": [
    {
     "data": {
      "text/plain": [
       "XGBRegressor(base_score=0.5, booster='gbtree', colsample_bylevel=1,\n",
       "             colsample_bynode=1, colsample_bytree=1, enable_categorical=False,\n",
       "             gamma=0, gpu_id=-1, importance_type=None,\n",
       "             interaction_constraints='', learning_rate=0.300000012,\n",
       "             max_delta_step=0, max_depth=7, min_child_weight=1, missing=nan,\n",
       "             monotone_constraints='()', n_estimators=10, n_jobs=4,\n",
       "             num_parallel_tree=1, predictor='auto', random_state=0,\n",
       "             reg_alpha=0.1, reg_lambda=0.001, scale_pos_weight=1, subsample=1,\n",
       "             tree_method='exact', validate_parameters=1, verbosity=1)"
      ]
     },
     "execution_count": 77,
     "metadata": {},
     "output_type": "execute_result"
    }
   ],
   "source": [
    "# train the model\n",
    "model = XGBRegressor(n_estimators=10, max_depth=7, verbosity=1, reg_lambda=0.001, reg_alpha=0.1)\n",
    "model.fit(X_train, Y_train)"
   ]
  },
  {
   "cell_type": "code",
   "execution_count": 194,
   "id": "73252312-e23c-4079-8842-8425daca0948",
   "metadata": {},
   "outputs": [
    {
     "name": "stdout",
     "output_type": "stream",
     "text": [
      "**************************************************\n",
      "train\n",
      "rmse: 48.30560046155937\n",
      "**************************************************\n",
      "val\n",
      "rmse: 63.764568588539284\n"
     ]
    }
   ],
   "source": [
    "from sklearn.metrics import mean_squared_error\n",
    "d = {\"train\": [X_train, Y_train], \"val\": [X_test, Y_test]}\n",
    "for k in d:\n",
    "    print(\"*\"*50)\n",
    "    print(k)\n",
    "    preds = np.expm1(model.predict(d[k][0]))\n",
    "    truth = np.expm1(d[k][1])\n",
    "    rmse = mean_squared_error(preds, truth, squared=False)\n",
    "    print(f\"rmse: {rmse}\")\n"
   ]
  },
  {
   "cell_type": "code",
   "execution_count": 146,
   "id": "2e80f0d5-d12a-4f2f-b782-bc1d0a16d911",
   "metadata": {},
   "outputs": [
    {
     "data": {
      "text/plain": [
       "array([ 0.09172695,  0.06602025, -0.0201813 , ...,  0.24365119,\n",
       "       -0.03880444, -0.06609945])"
      ]
     },
     "execution_count": 146,
     "metadata": {},
     "output_type": "execute_result"
    }
   ],
   "source": [
    "X_train[:, -4]"
   ]
  },
  {
   "cell_type": "code",
   "execution_count": 125,
   "id": "c4504912-fa3a-47bd-a0b9-5a3aaab5cf1f",
   "metadata": {},
   "outputs": [],
   "source": [
    "from matplotlib import pyplot as plt\n",
    "plt.rcParams.update({'figure.figsize': (12.0, 8.0)})\n",
    "plt.rcParams.update({'font.size': 14})"
   ]
  },
  {
   "cell_type": "code",
   "execution_count": 126,
   "id": "ae84c2a5-c967-4006-afb7-2d153e3a69c3",
   "metadata": {},
   "outputs": [],
   "source": [
    "features = [f\"f_{i}\" for i in range(X_train.shape[1])]"
   ]
  },
  {
   "cell_type": "code",
   "execution_count": null,
   "id": "8deb0362-ed35-409b-9870-d700c2a72398",
   "metadata": {},
   "outputs": [],
   "source": [
    "[21, 20, 16, 19]"
   ]
  },
  {
   "cell_type": "code",
   "execution_count": 127,
   "id": "7676174d-2750-4ac8-9769-4dc389866602",
   "metadata": {},
   "outputs": [
    {
     "data": {
      "text/plain": [
       "<BarContainer object of 22 artists>"
      ]
     },
     "execution_count": 127,
     "metadata": {},
     "output_type": "execute_result"
    },
    {
     "data": {
      "image/png": "[encoded data removed]",
      "text/plain": [
       "<Figure size 864x576 with 1 Axes>"
      ]
     },
     "metadata": {
      "needs_background": "light"
     },
     "output_type": "display_data"
    }
   ],
   "source": [
    "plt.barh(features, model.feature_importances_)"
   ]
  },
  {
   "cell_type": "code",
   "execution_count": 140,
   "id": "b1511d7f-f8e5-4715-a10d-491c3bea87a2",
   "metadata": {},
   "outputs": [
    {
     "data": {
      "image/png": "[encoded data removed]",
      "text/plain": [
       "<Figure size 720x720 with 1 Axes>"
      ]
     },
     "metadata": {
      "needs_background": "light"
     },
     "output_type": "display_data"
    }
   ],
   "source": [
    "import xgboost as xgb\n",
    "fig, ax = plt.subplots(figsize=(10,10))\n",
    "xgb.plot_importance(model, max_num_features=40, height=0.5, ax=ax,importance_type='gain')\n",
    "plt.show()"
   ]
  },
  {
   "cell_type": "code",
   "execution_count": 147,
   "id": "1132f2b1-7543-4acc-b569-9f5744372ad3",
   "metadata": {},
   "outputs": [],
   "source": [
    "new_X_train = X_train[:, [21, 20, 16, 19]]"
   ]
  },
  {
   "cell_type": "code",
   "execution_count": 149,
   "id": "7953ec23-6ff3-4180-98e5-c8fce950ae9d",
   "metadata": {},
   "outputs": [],
   "source": [
    "new_X_test = X_test[:, [21, 20, 16, 19]]"
   ]
  },
  {
   "cell_type": "code",
   "execution_count": 148,
   "id": "405475b7-cd54-442e-896e-1ec04761f742",
   "metadata": {},
   "outputs": [
    {
     "data": {
      "text/plain": [
       "array([[1.77090132e+01, 2.08816349e+01, 6.50000000e-01, 1.01361196e+01],\n",
       "       [2.07358824e+01, 2.66686573e+02, 1.00000000e+00, 1.65023594e+02],\n",
       "       [1.15983820e+01, 2.08816349e+01, 6.50000000e-01, 8.41980952e+00],\n",
       "       ...,\n",
       "       [1.29447642e+01, 2.08816349e+01, 6.50000000e-01, 8.41980952e+00],\n",
       "       [1.58323171e+01, 3.40911111e+01, 6.50000000e-01, 2.11654054e+01],\n",
       "       [1.55400228e+01, 2.08816349e+01, 1.50000000e-01, 3.05504272e+01]])"
      ]
     },
     "execution_count": 148,
     "metadata": {},
     "output_type": "execute_result"
    }
   ],
   "source": [
    "new_X_train"
   ]
  },
  {
   "cell_type": "code",
   "execution_count": 150,
   "id": "5e4a2025-55cf-4fc5-a8bb-9029f367bc8c",
   "metadata": {},
   "outputs": [
    {
     "data": {
      "text/plain": [
       "LinearRegression()"
      ]
     },
     "execution_count": 150,
     "metadata": {},
     "output_type": "execute_result"
    }
   ],
   "source": [
    "from sklearn.linear_model import LinearRegression\n",
    "\n",
    "model = LinearRegression()\n",
    "model.fit(new_X_train, Y_train)"
   ]
  },
  {
   "cell_type": "code",
   "execution_count": 153,
   "id": "c711298d-e23b-466b-8261-1e653ba55024",
   "metadata": {},
   "outputs": [
    {
     "data": {
      "text/plain": [
       "XGBRegressor(base_score=0.5, booster='gbtree', colsample_bylevel=1,\n",
       "             colsample_bynode=1, colsample_bytree=1, enable_categorical=False,\n",
       "             gamma=0, gpu_id=-1, importance_type=None,\n",
       "             interaction_constraints='', learning_rate=0.300000012,\n",
       "             max_delta_step=0, max_depth=7, min_child_weight=1, missing=nan,\n",
       "             monotone_constraints='()', n_estimators=10, n_jobs=4,\n",
       "             num_parallel_tree=1, predictor='auto', random_state=0,\n",
       "             reg_alpha=0.1, reg_lambda=0.001, scale_pos_weight=1, subsample=1,\n",
       "             tree_method='exact', validate_parameters=1, verbosity=1)"
      ]
     },
     "execution_count": 153,
     "metadata": {},
     "output_type": "execute_result"
    }
   ],
   "source": [
    "# train the model\n",
    "model = XGBRegressor(n_estimators=10, max_depth=7, verbosity=1, reg_lambda=0.001, reg_alpha=0.1)\n",
    "model.fit(new_X_train, Y_train)"
   ]
  },
  {
   "cell_type": "code",
   "execution_count": 154,
   "id": "a7baa767-a638-4ba2-a250-0b9dea75062a",
   "metadata": {},
   "outputs": [
    {
     "name": "stdout",
     "output_type": "stream",
     "text": [
      "**************************************************\n",
      "train\n",
      "rmse: 35.43221478785915\n",
      "**************************************************\n",
      "val\n",
      "rmse: 58.873077097559054\n"
     ]
    }
   ],
   "source": [
    "from sklearn.metrics import mean_squared_error\n",
    "d = {\"train\": [new_X_train, Y_train], \"val\": [new_X_test, Y_test]}\n",
    "for k in d:\n",
    "    print(\"*\"*50)\n",
    "    print(k)\n",
    "    preds = model.predict(d[k][0])\n",
    "    truth = d[k][1]\n",
    "    rmse = mean_squared_error(preds, truth, squared=False)\n",
    "    print(f\"rmse: {rmse}\")"
   ]
  },
  {
   "cell_type": "code",
   "execution_count": null,
   "id": "b217a03a-39cb-4659-b8d1-51d524be3d05",
   "metadata": {},
   "outputs": [],
   "source": []
  },
  {
   "cell_type": "code",
   "execution_count": null,
   "id": "96364388-5083-4053-b692-f3f49b0788c0",
   "metadata": {},
   "outputs": [],
   "source": []
  },
  {
   "cell_type": "code",
   "execution_count": null,
   "id": "c22e9e05-e850-4d23-924a-07d27864a19f",
   "metadata": {},
   "outputs": [],
   "source": []
  },
  {
   "cell_type": "code",
   "execution_count": null,
   "id": "9a948651-8345-4484-af15-d6b9f92dbacc",
   "metadata": {},
   "outputs": [],
   "source": []
  },
  {
   "cell_type": "code",
   "execution_count": null,
   "id": "0c5ed00d-afc8-43be-9655-b6893f7f5d49",
   "metadata": {},
   "outputs": [],
   "source": []
  },
  {
   "cell_type": "code",
   "execution_count": 93,
   "id": "9d67559d-4cf9-49bc-afd6-b0ca36ce79eb",
   "metadata": {},
   "outputs": [
    {
     "data": {
      "text/plain": [
       "(6851, 28)"
      ]
     },
     "execution_count": 93,
     "metadata": {},
     "output_type": "execute_result"
    }
   ],
   "source": [
    "X_train.shape"
   ]
  },
  {
   "cell_type": "code",
   "execution_count": 89,
   "id": "744258ab-c2af-44c3-9f2c-a6c643c8c363",
   "metadata": {},
   "outputs": [
    {
     "data": {
      "text/plain": [
       "Index(['administrative_status', 'marketing_status',\n",
       "       'approved_for_hospital_use', 'reimbursement_rate', 'dosage_form',\n",
       "       'route_of_administration', 'marketing_authorization_status',\n",
       "       'marketing_authorization_process', 'pharmaceutical_companies',\n",
       "       'marketing_days_elapsed', 'year', 'random'],\n",
       "      dtype='object')"
      ]
     },
     "execution_count": 89,
     "metadata": {},
     "output_type": "execute_result"
    }
   ],
   "source": [
    "X.columns"
   ]
  },
  {
   "cell_type": "code",
   "execution_count": 158,
   "id": "12fe74fe-ef5c-4906-90d5-ed9a3f079b1e",
   "metadata": {},
   "outputs": [],
   "source": [
    "X_train[\"price\"] = Y_train"
   ]
  },
  {
   "cell_type": "code",
   "execution_count": null,
   "id": "5030ca81-fac7-42e3-bbb0-07fdc83fe28a",
   "metadata": {},
   "outputs": [],
   "source": [
    "np.expm1(X_train[\"price\"] "
   ]
  },
  {
   "cell_type": "code",
   "execution_count": 159,
   "id": "df839a5a-be54-40e2-a3d3-84fe9fafe17b",
   "metadata": {},
   "outputs": [],
   "source": [
    "price_evolution = X_train[[\"year\", \"price\"]].sort_values(\"year\")"
   ]
  },
  {
   "cell_type": "code",
   "execution_count": 160,
   "id": "25b08ad1-1ab5-4700-a866-daa6f913769c",
   "metadata": {},
   "outputs": [],
   "source": [
    "price_evolution_first = price_evolution[price_evolution.price <= 400]\n",
    "price_evolution_second = price_evolution[price_evolution.price > 400]"
   ]
  },
  {
   "cell_type": "code",
   "execution_count": 161,
   "id": "72f24ab2-b465-4f4b-b207-45b2756d791f",
   "metadata": {},
   "outputs": [],
   "source": [
    "import matplotlib.pyplot as plt"
   ]
  },
  {
   "cell_type": "code",
   "execution_count": 163,
   "id": "2775cb2a-5676-40fd-b378-78d0353573f9",
   "metadata": {},
   "outputs": [
    {
     "data": {
      "text/plain": [
       "<matplotlib.collections.PathCollection at 0x7fd150831bb0>"
      ]
     },
     "execution_count": 163,
     "metadata": {},
     "output_type": "execute_result"
    },
    {
     "data": {
      "image/png": "[encoded data removed]",
      "text/plain": [
       "<Figure size 864x576 with 1 Axes>"
      ]
     },
     "metadata": {
      "needs_background": "light"
     },
     "output_type": "display_data"
    }
   ],
   "source": [
    "plt.scatter(price_evolution_first.year, np.expm1(price_evolution_first.price))"
   ]
  },
  {
   "cell_type": "code",
   "execution_count": 152,
   "id": "175c5b8a-4038-44a7-aa5e-ced537c02eee",
   "metadata": {},
   "outputs": [
    {
     "data": {
      "text/plain": [
       "<matplotlib.collections.PathCollection at 0x7fd9f6709df0>"
      ]
     },
     "execution_count": 152,
     "metadata": {},
     "output_type": "execute_result"
    },
    {
     "data": {
      "image/png": "[encoded data removed]",
      "text/plain": [
       "<Figure size 432x288 with 1 Axes>"
      ]
     },
     "metadata": {
      "needs_background": "light"
     },
     "output_type": "display_data"
    }
   ],
   "source": [
    "plt.scatter(price_evolution_second.marketing_declaration_date, price_evolution_second.price)"
   ]
  },
  {
   "cell_type": "code",
   "execution_count": 146,
   "id": "9f7482e2-22a7-4c0e-bba6-7b1c22d96faf",
   "metadata": {},
   "outputs": [],
   "source": [
    "X_past = price_evolution[price_evolution.marketing_declaration_date <= \"2018-01-01\"]\n",
    "X_future = price_evolution[price_evolution.marketing_declaration_date > \"2018-01-01\"]"
   ]
  },
  {
   "cell_type": "code",
   "execution_count": null,
   "id": "78584a63-e325-4945-a307-b7f4290bc40a",
   "metadata": {},
   "outputs": [],
   "source": []
  },
  {
   "cell_type": "code",
   "execution_count": null,
   "id": "852fb60e-d712-4530-98ba-6d72d9364caf",
   "metadata": {},
   "outputs": [],
   "source": []
  },
  {
   "cell_type": "code",
   "execution_count": null,
   "id": "ee035bc7-95a2-474d-9b32-5d6fbccfcb62",
   "metadata": {},
   "outputs": [],
   "source": []
  },
  {
   "cell_type": "code",
   "execution_count": 238,
   "id": "09106df1-28c5-4042-a110-a515f0f5c25f",
   "metadata": {},
   "outputs": [],
   "source": [
    "features = pd.read_csv(\"drug_label_feature_eng.csv\")"
   ]
  },
  {
   "cell_type": "code",
   "execution_count": 239,
   "id": "1bc14697-1824-46bb-8fd9-87f454580ab8",
   "metadata": {},
   "outputs": [
    {
     "data": {
      "text/html": [
       "<div>\n",
       "<style scoped>\n",
       "    .dataframe tbody tr th:only-of-type {\n",
       "        vertical-align: middle;\n",
       "    }\n",
       "\n",
       "    .dataframe tbody tr th {\n",
       "        vertical-align: top;\n",
       "    }\n",
       "\n",
       "    .dataframe thead th {\n",
       "        text-align: right;\n",
       "    }\n",
       "</style>\n",
       "<table border=\"1\" class=\"dataframe\">\n",
       "  <thead>\n",
       "    <tr style=\"text-align: right;\">\n",
       "      <th></th>\n",
       "      <th>description</th>\n",
       "      <th>label_plaquette</th>\n",
       "      <th>label_ampoule</th>\n",
       "      <th>label_flacon</th>\n",
       "      <th>label_tube</th>\n",
       "      <th>label_stylo</th>\n",
       "      <th>label_seringue</th>\n",
       "      <th>label_pilulier</th>\n",
       "      <th>label_sachet</th>\n",
       "      <th>label_comprime</th>\n",
       "      <th>...</th>\n",
       "      <th>count_stylo</th>\n",
       "      <th>count_seringue</th>\n",
       "      <th>count_pilulier</th>\n",
       "      <th>count_sachet</th>\n",
       "      <th>count_comprime</th>\n",
       "      <th>count_gelule</th>\n",
       "      <th>count_film</th>\n",
       "      <th>count_poche</th>\n",
       "      <th>count_capsule</th>\n",
       "      <th>count_ml</th>\n",
       "    </tr>\n",
       "  </thead>\n",
       "  <tbody>\n",
       "    <tr>\n",
       "      <th>0</th>\n",
       "      <td>12 sachet(s) papier aluminium polyéthylène de ...</td>\n",
       "      <td>0</td>\n",
       "      <td>0</td>\n",
       "      <td>0</td>\n",
       "      <td>0</td>\n",
       "      <td>0</td>\n",
       "      <td>0</td>\n",
       "      <td>0</td>\n",
       "      <td>1</td>\n",
       "      <td>0</td>\n",
       "      <td>...</td>\n",
       "      <td>0</td>\n",
       "      <td>0</td>\n",
       "      <td>0</td>\n",
       "      <td>12</td>\n",
       "      <td>0</td>\n",
       "      <td>0</td>\n",
       "      <td>0</td>\n",
       "      <td>0</td>\n",
       "      <td>0</td>\n",
       "      <td>0.0</td>\n",
       "    </tr>\n",
       "    <tr>\n",
       "      <th>1</th>\n",
       "      <td>plaquette(s) thermoformée(s) (ACLAR RX) polytr...</td>\n",
       "      <td>1</td>\n",
       "      <td>0</td>\n",
       "      <td>0</td>\n",
       "      <td>0</td>\n",
       "      <td>0</td>\n",
       "      <td>0</td>\n",
       "      <td>0</td>\n",
       "      <td>0</td>\n",
       "      <td>1</td>\n",
       "      <td>...</td>\n",
       "      <td>0</td>\n",
       "      <td>0</td>\n",
       "      <td>0</td>\n",
       "      <td>0</td>\n",
       "      <td>28</td>\n",
       "      <td>0</td>\n",
       "      <td>0</td>\n",
       "      <td>0</td>\n",
       "      <td>0</td>\n",
       "      <td>0.0</td>\n",
       "    </tr>\n",
       "  </tbody>\n",
       "</table>\n",
       "<p>2 rows × 28 columns</p>\n",
       "</div>"
      ],
      "text/plain": [
       "                                         description  label_plaquette  \\\n",
       "0  12 sachet(s) papier aluminium polyéthylène de ...                0   \n",
       "1  plaquette(s) thermoformée(s) (ACLAR RX) polytr...                1   \n",
       "\n",
       "   label_ampoule  label_flacon  label_tube  label_stylo  label_seringue  \\\n",
       "0              0             0           0            0               0   \n",
       "1              0             0           0            0               0   \n",
       "\n",
       "   label_pilulier  label_sachet  label_comprime  ...  count_stylo  \\\n",
       "0               0             1               0  ...            0   \n",
       "1               0             0               1  ...            0   \n",
       "\n",
       "   count_seringue  count_pilulier  count_sachet  count_comprime  count_gelule  \\\n",
       "0               0               0            12               0             0   \n",
       "1               0               0             0              28             0   \n",
       "\n",
       "   count_film  count_poche  count_capsule  count_ml  \n",
       "0           0            0              0       0.0  \n",
       "1           0            0              0       0.0  \n",
       "\n",
       "[2 rows x 28 columns]"
      ]
     },
     "execution_count": 239,
     "metadata": {},
     "output_type": "execute_result"
    }
   ],
   "source": [
    "features.head(2)"
   ]
  },
  {
   "cell_type": "code",
   "execution_count": 243,
   "id": "1247acc8-d91a-4067-92a7-079d4494c92d",
   "metadata": {},
   "outputs": [
    {
     "name": "stdout",
     "output_type": "stream",
     "text": [
      "12 sachet(s) papier aluminium polyéthylène de 0,52  g\n",
      "==========\n",
      "plaquette(s) thermoformée(s) (ACLAR RX) polytrifluorochloroéthylène de 28 comprimé(s) (distributeur parallèle : PHARMA LAB)\n",
      "==========\n",
      "tube(s) polypropylène dioxyde de titane de 30 comprimé(s)\n",
      "==========\n",
      "plaquette(s) thermoformée(s) polyamide aluminium PVC de 20 comprimé(s)\n",
      "==========\n",
      "1 flacon(s) pressurisé(e)(s) aluminium de 120  dose(s) avec valve(s) doseuse(s) polypropylène\n",
      "==========\n",
      "1 flacon(s) polyéthylène poudreur(se)(s) de 30  g\n",
      "==========\n",
      "1 poche(s) polypropylène SIS : styrène-isoprène-styrène styrène éthylène butadiène suremballée(s)/surpochée(s) de 1000 ml avec site d'addition Luer Lock\n",
      "==========\n",
      "plaquette(s) PVC-Aluminium de 100 comprimé(s)\n",
      "==========\n",
      "flacon(s) en verre de 160 ml avec fermeture de sécurité avec seringue(s) pour administration orale polypropylène avec gobelet(s) doseur(s) polypropylène\n",
      "==========\n",
      "2 seringue(s) préremplie(s) en verre de 0,8 ml\n",
      "==========\n"
     ]
    }
   ],
   "source": [
    "for i, f in features.head(10).iterrows():\n",
    "    print(f.description)\n",
    "    print(\"=\"*10)"
   ]
  },
  {
   "cell_type": "code",
   "execution_count": 11,
   "id": "1ca83526-fbf8-4fee-8773-7798951a32ac",
   "metadata": {},
   "outputs": [
    {
     "data": {
      "text/plain": [
       "(3010, 28)"
      ]
     },
     "execution_count": 11,
     "metadata": {},
     "output_type": "execute_result"
    }
   ],
   "source": [
    "features.shape"
   ]
  },
  {
   "cell_type": "code",
   "execution_count": 367,
   "id": "482dadbe-3ad1-47bd-b562-2938c22c57dd",
   "metadata": {},
   "outputs": [],
   "source": [
    "ingredients = pd.read_csv(\"../data/active_ingredients.csv\")"
   ]
  },
  {
   "cell_type": "code",
   "execution_count": 375,
   "id": "8ed2eaff-d5a0-46bc-9d96-cb89a1d04a27",
   "metadata": {},
   "outputs": [
    {
     "data": {
      "text/html": [
       "<div>\n",
       "<style scoped>\n",
       "    .dataframe tbody tr th:only-of-type {\n",
       "        vertical-align: middle;\n",
       "    }\n",
       "\n",
       "    .dataframe tbody tr th {\n",
       "        vertical-align: top;\n",
       "    }\n",
       "\n",
       "    .dataframe thead th {\n",
       "        text-align: right;\n",
       "    }\n",
       "</style>\n",
       "<table border=\"1\" class=\"dataframe\">\n",
       "  <thead>\n",
       "    <tr style=\"text-align: right;\">\n",
       "      <th></th>\n",
       "      <th>drug_id</th>\n",
       "      <th>active_ingredient</th>\n",
       "    </tr>\n",
       "  </thead>\n",
       "  <tbody>\n",
       "    <tr>\n",
       "      <th>0</th>\n",
       "      <td>0_train</td>\n",
       "      <td>DÉSOGESTREL</td>\n",
       "    </tr>\n",
       "    <tr>\n",
       "      <th>1</th>\n",
       "      <td>1_train</td>\n",
       "      <td>MONTÉLUKAST ACIDE</td>\n",
       "    </tr>\n",
       "    <tr>\n",
       "      <th>2</th>\n",
       "      <td>1_train</td>\n",
       "      <td>MONTÉLUKAST SODIQUE</td>\n",
       "    </tr>\n",
       "    <tr>\n",
       "      <th>3</th>\n",
       "      <td>2_train</td>\n",
       "      <td>CHLORHYDRATE DE DILTIAZEM</td>\n",
       "    </tr>\n",
       "    <tr>\n",
       "      <th>4</th>\n",
       "      <td>3_train</td>\n",
       "      <td>ACIDE VALPROÏQUE</td>\n",
       "    </tr>\n",
       "  </tbody>\n",
       "</table>\n",
       "</div>"
      ],
      "text/plain": [
       "   drug_id          active_ingredient\n",
       "0  0_train                DÉSOGESTREL\n",
       "1  1_train          MONTÉLUKAST ACIDE\n",
       "2  1_train        MONTÉLUKAST SODIQUE\n",
       "3  2_train  CHLORHYDRATE DE DILTIAZEM\n",
       "4  3_train           ACIDE VALPROÏQUE"
      ]
     },
     "execution_count": 375,
     "metadata": {},
     "output_type": "execute_result"
    }
   ],
   "source": [
    "ingredients.head(5)"
   ]
  },
  {
   "cell_type": "code",
   "execution_count": 377,
   "id": "06926eb4-6bca-4550-8229-aed77d1e1211",
   "metadata": {},
   "outputs": [],
   "source": [
    "ingredients[\"ing_count\"] = ingredients.groupby(\"drug_id\").active_ingredient.transform(\"nunique\")"
   ]
  },
  {
   "cell_type": "code",
   "execution_count": 379,
   "id": "7a85232d-41ec-4bb8-8e5b-10e1b4010df0",
   "metadata": {},
   "outputs": [],
   "source": [
    "ingredients[\"price\"] = ingredients.drug_id.map(train_df.set_index(\"drug_id\").price)"
   ]
  },
  {
   "cell_type": "code",
   "execution_count": null,
   "id": "cbe915df-a897-4045-99b9-9ac730b355f8",
   "metadata": {},
   "outputs": [],
   "source": []
  },
  {
   "cell_type": "code",
   "execution_count": null,
   "id": "b87bf2fa-0d8e-4022-b5be-d954d53b921c",
   "metadata": {},
   "outputs": [],
   "source": []
  },
  {
   "cell_type": "code",
   "execution_count": 381,
   "id": "84f6ed81-9082-4246-9c40-891c627b1393",
   "metadata": {},
   "outputs": [],
   "source": [
    "ingredients[\"ing_price\"] = ingredients.price / ingredients.ing_count"
   ]
  },
  {
   "cell_type": "code",
   "execution_count": 382,
   "id": "debcbc8c-edff-4659-99b1-b4c6a0d2d187",
   "metadata": {},
   "outputs": [
    {
     "data": {
      "text/html": [
       "<div>\n",
       "<style scoped>\n",
       "    .dataframe tbody tr th:only-of-type {\n",
       "        vertical-align: middle;\n",
       "    }\n",
       "\n",
       "    .dataframe tbody tr th {\n",
       "        vertical-align: top;\n",
       "    }\n",
       "\n",
       "    .dataframe thead th {\n",
       "        text-align: right;\n",
       "    }\n",
       "</style>\n",
       "<table border=\"1\" class=\"dataframe\">\n",
       "  <thead>\n",
       "    <tr style=\"text-align: right;\">\n",
       "      <th></th>\n",
       "      <th>drug_id</th>\n",
       "      <th>active_ingredient</th>\n",
       "      <th>ing_count</th>\n",
       "      <th>price</th>\n",
       "      <th>ing_price</th>\n",
       "    </tr>\n",
       "  </thead>\n",
       "  <tbody>\n",
       "    <tr>\n",
       "      <th>0</th>\n",
       "      <td>0_train</td>\n",
       "      <td>DÉSOGESTREL</td>\n",
       "      <td>1</td>\n",
       "      <td>2.83</td>\n",
       "      <td>2.830</td>\n",
       "    </tr>\n",
       "    <tr>\n",
       "      <th>1</th>\n",
       "      <td>1_train</td>\n",
       "      <td>MONTÉLUKAST ACIDE</td>\n",
       "      <td>2</td>\n",
       "      <td>14.30</td>\n",
       "      <td>7.150</td>\n",
       "    </tr>\n",
       "    <tr>\n",
       "      <th>2</th>\n",
       "      <td>1_train</td>\n",
       "      <td>MONTÉLUKAST SODIQUE</td>\n",
       "      <td>2</td>\n",
       "      <td>14.30</td>\n",
       "      <td>7.150</td>\n",
       "    </tr>\n",
       "    <tr>\n",
       "      <th>3</th>\n",
       "      <td>2_train</td>\n",
       "      <td>CHLORHYDRATE DE DILTIAZEM</td>\n",
       "      <td>1</td>\n",
       "      <td>5.66</td>\n",
       "      <td>5.660</td>\n",
       "    </tr>\n",
       "    <tr>\n",
       "      <th>4</th>\n",
       "      <td>3_train</td>\n",
       "      <td>ACIDE VALPROÏQUE</td>\n",
       "      <td>2</td>\n",
       "      <td>24.27</td>\n",
       "      <td>12.135</td>\n",
       "    </tr>\n",
       "  </tbody>\n",
       "</table>\n",
       "</div>"
      ],
      "text/plain": [
       "   drug_id          active_ingredient  ing_count  price  ing_price\n",
       "0  0_train                DÉSOGESTREL          1   2.83      2.830\n",
       "1  1_train          MONTÉLUKAST ACIDE          2  14.30      7.150\n",
       "2  1_train        MONTÉLUKAST SODIQUE          2  14.30      7.150\n",
       "3  2_train  CHLORHYDRATE DE DILTIAZEM          1   5.66      5.660\n",
       "4  3_train           ACIDE VALPROÏQUE          2  24.27     12.135"
      ]
     },
     "execution_count": 382,
     "metadata": {},
     "output_type": "execute_result"
    }
   ],
   "source": [
    "ingredients.head(5)"
   ]
  },
  {
   "cell_type": "code",
   "execution_count": 388,
   "id": "ca62dca3-74e2-456d-9899-5882a927308c",
   "metadata": {},
   "outputs": [],
   "source": [
    "ingredients.dropna(inplace=True)"
   ]
  },
  {
   "cell_type": "code",
   "execution_count": 389,
   "id": "4470903f-f917-4b0e-8b4a-8125fecd397c",
   "metadata": {},
   "outputs": [
    {
     "data": {
      "text/plain": [
       "34"
      ]
     },
     "execution_count": 389,
     "metadata": {},
     "output_type": "execute_result"
    }
   ],
   "source": [
    "ingredients.ing_count.max()"
   ]
  },
  {
   "cell_type": "code",
   "execution_count": 424,
   "id": "a235bd5b-2c65-4b18-8936-2311fdef4b02",
   "metadata": {},
   "outputs": [
    {
     "data": {
      "text/plain": [
       "2189"
      ]
     },
     "execution_count": 424,
     "metadata": {},
     "output_type": "execute_result"
    }
   ],
   "source": [
    "ingredients.active_ingredient.nunique()"
   ]
  },
  {
   "cell_type": "code",
   "execution_count": null,
   "id": "bbcda899-0c33-4fc1-96f9-2f86dc7ba5e4",
   "metadata": {},
   "outputs": [],
   "source": []
  },
  {
   "cell_type": "code",
   "execution_count": null,
   "id": "9c26f1fb-46f9-4876-8a9a-ee89d33fc59d",
   "metadata": {},
   "outputs": [],
   "source": []
  },
  {
   "cell_type": "code",
   "execution_count": null,
   "id": "efd459fd-d761-4cc7-bb2e-f6a4a04f2865",
   "metadata": {},
   "outputs": [],
   "source": []
  },
  {
   "cell_type": "code",
   "execution_count": null,
   "id": "f1704ab7-26bc-4bf9-b67b-96563b581e7d",
   "metadata": {},
   "outputs": [],
   "source": []
  },
  {
   "cell_type": "code",
   "execution_count": null,
   "id": "b23b5bf4-9c9d-4b21-9b76-cde2c7955b5b",
   "metadata": {},
   "outputs": [],
   "source": []
  },
  {
   "cell_type": "code",
   "execution_count": 412,
   "id": "438b7f7f-8a12-4f02-8ce3-55ffa9eb1c7c",
   "metadata": {},
   "outputs": [],
   "source": [
    "a = pd.DataFrame({\"cuisine\": [\"c1\", \"c2\", \"c3\"], \"ingredients\": [[\"ing1\", \"ing2\", \"ing3\", \"ing4\"], \n",
    "                                                                 [\"ing2\", \"ing4\"], \n",
    "                                                                 [\"ing2\", \"ing1\", \"ing3\"]\n",
    "                                                                ]\n",
    "                 })"
   ]
  },
  {
   "cell_type": "code",
   "execution_count": 413,
   "id": "cc9935d9-588e-46dc-bf8a-dde67a4c0cd1",
   "metadata": {},
   "outputs": [],
   "source": [
    "a['all_ingredients'] = a['ingredients'].map(\";\".join)"
   ]
  },
  {
   "cell_type": "code",
   "execution_count": 414,
   "id": "e0826d59-6d05-4648-ac2e-4d063b1c454f",
   "metadata": {},
   "outputs": [
    {
     "data": {
      "text/html": [
       "<div>\n",
       "<style scoped>\n",
       "    .dataframe tbody tr th:only-of-type {\n",
       "        vertical-align: middle;\n",
       "    }\n",
       "\n",
       "    .dataframe tbody tr th {\n",
       "        vertical-align: top;\n",
       "    }\n",
       "\n",
       "    .dataframe thead th {\n",
       "        text-align: right;\n",
       "    }\n",
       "</style>\n",
       "<table border=\"1\" class=\"dataframe\">\n",
       "  <thead>\n",
       "    <tr style=\"text-align: right;\">\n",
       "      <th></th>\n",
       "      <th>cuisine</th>\n",
       "      <th>ingredients</th>\n",
       "      <th>all_ingredients</th>\n",
       "    </tr>\n",
       "  </thead>\n",
       "  <tbody>\n",
       "    <tr>\n",
       "      <th>0</th>\n",
       "      <td>c1</td>\n",
       "      <td>[ing1, ing2, ing3, ing4]</td>\n",
       "      <td>ing1;ing2;ing3;ing4</td>\n",
       "    </tr>\n",
       "    <tr>\n",
       "      <th>1</th>\n",
       "      <td>c2</td>\n",
       "      <td>[ing2, ing4]</td>\n",
       "      <td>ing2;ing4</td>\n",
       "    </tr>\n",
       "    <tr>\n",
       "      <th>2</th>\n",
       "      <td>c3</td>\n",
       "      <td>[ing2, ing1, ing3]</td>\n",
       "      <td>ing2;ing1;ing3</td>\n",
       "    </tr>\n",
       "  </tbody>\n",
       "</table>\n",
       "</div>"
      ],
      "text/plain": [
       "  cuisine               ingredients      all_ingredients\n",
       "0      c1  [ing1, ing2, ing3, ing4]  ing1;ing2;ing3;ing4\n",
       "1      c2              [ing2, ing4]            ing2;ing4\n",
       "2      c3        [ing2, ing1, ing3]       ing2;ing1;ing3"
      ]
     },
     "execution_count": 414,
     "metadata": {},
     "output_type": "execute_result"
    }
   ],
   "source": [
    "a"
   ]
  },
  {
   "cell_type": "code",
   "execution_count": 415,
   "id": "45089baf-c7bc-4d33-a8d8-b0974cc42db8",
   "metadata": {},
   "outputs": [],
   "source": [
    "from sklearn.feature_extraction.text import CountVectorizer\n",
    "cv = CountVectorizer()\n",
    "X = cv.fit_transform(a['all_ingredients'].values)"
   ]
  },
  {
   "cell_type": "code",
   "execution_count": 416,
   "id": "973b9c11-faea-4af4-8b4f-3cbd5193120e",
   "metadata": {},
   "outputs": [
    {
     "data": {
      "text/plain": [
       "array([[1, 1, 1, 1],\n",
       "       [0, 1, 0, 1],\n",
       "       [1, 1, 1, 0]])"
      ]
     },
     "execution_count": 416,
     "metadata": {},
     "output_type": "execute_result"
    }
   ],
   "source": [
    "X.toarray()"
   ]
  },
  {
   "cell_type": "code",
   "execution_count": 417,
   "id": "a88d9277-482f-4cea-a35a-0ef5d69f9a6c",
   "metadata": {},
   "outputs": [],
   "source": [
    "from sklearn.preprocessing import LabelEncoder\n",
    "enc = LabelEncoder()\n",
    "y = enc.fit_transform(a.cuisine)\n",
    "from sklearn.model_selection import train_test_split\n",
    "X_train, X_test, y_train, y_test = train_test_split(X, y, test_size=0.2)"
   ]
  },
  {
   "cell_type": "code",
   "execution_count": 418,
   "id": "92aa3c5b-088c-4485-b431-0feaf9858381",
   "metadata": {},
   "outputs": [],
   "source": [
    "from sklearn.model_selection import cross_val_score, KFold\n",
    "from scipy.stats import sem\n",
    "import numpy as np\n",
    "def evaluate_cross_validation(X, y, K):\n",
    "    # create a k-fold cross validation iterator\n",
    "    cv = KFold(len(y), K, shuffle=True, random_state=0)\n",
    "    # by default the score used is the one returned by score method of the estimator (accuracy)\n",
    "    scores = cross_val_score(clf, X, y, cv=cv)\n",
    "    print (scores)\n",
    "    print (\"Mean score: {0:.3f} (+/-{1:.3f})\".format(\n",
    "        np.mean(scores), sem(scores)))\n"
   ]
  },
  {
   "cell_type": "code",
   "execution_count": 419,
   "id": "c6cf85f6-44b0-4e2e-98e1-fbf8872bde04",
   "metadata": {},
   "outputs": [
    {
     "data": {
      "text/plain": [
       "LogisticRegression()"
      ]
     },
     "execution_count": 419,
     "metadata": {},
     "output_type": "execute_result"
    }
   ],
   "source": [
    "from sklearn.linear_model import LogisticRegression\n",
    "logistic = LogisticRegression()\n",
    "logistic.fit(X_train, y_train)"
   ]
  },
  {
   "cell_type": "code",
   "execution_count": 420,
   "id": "5481ce9b-35c3-48e4-b665-db7a99f0c74c",
   "metadata": {},
   "outputs": [
    {
     "data": {
      "text/plain": [
       "array([2, 1])"
      ]
     },
     "execution_count": 420,
     "metadata": {},
     "output_type": "execute_result"
    }
   ],
   "source": [
    "logistic.predict(X_train)"
   ]
  },
  {
   "cell_type": "code",
   "execution_count": 421,
   "id": "d32b06f7-4a3f-4608-a4aa-18a7a98d7b49",
   "metadata": {},
   "outputs": [
    {
     "data": {
      "text/plain": [
       "array([2, 1])"
      ]
     },
     "execution_count": 421,
     "metadata": {},
     "output_type": "execute_result"
    }
   ],
   "source": [
    "y_train"
   ]
  },
  {
   "cell_type": "code",
   "execution_count": 422,
   "id": "01f5efe3-1d48-484f-bf2b-24b50f35365c",
   "metadata": {},
   "outputs": [
    {
     "data": {
      "text/plain": [
       "array([2])"
      ]
     },
     "execution_count": 422,
     "metadata": {},
     "output_type": "execute_result"
    }
   ],
   "source": [
    "logistic.predict(X_test)"
   ]
  },
  {
   "cell_type": "code",
   "execution_count": 423,
   "id": "4b22b572-4a5d-4563-8fd6-2b583eabe995",
   "metadata": {},
   "outputs": [
    {
     "data": {
      "text/plain": [
       "array([0])"
      ]
     },
     "execution_count": 423,
     "metadata": {},
     "output_type": "execute_result"
    }
   ],
   "source": [
    "y_test"
   ]
  },
  {
   "cell_type": "code",
   "execution_count": null,
   "id": "a7fd39fb-0703-4db2-96a8-2aee1d8a7722",
   "metadata": {},
   "outputs": [],
   "source": []
  },
  {
   "cell_type": "code",
   "execution_count": 14,
   "id": "19b50e7c-ed62-433b-9929-9805f40d5ad9",
   "metadata": {},
   "outputs": [],
   "source": [
    "test_df = pd.read_csv(\"drugs_test.csv\")"
   ]
  },
  {
   "cell_type": "code",
   "execution_count": 15,
   "id": "1239615a-fea6-4598-bc25-b93c1641e9a3",
   "metadata": {},
   "outputs": [
    {
     "data": {
      "text/html": [
       "<div>\n",
       "<style scoped>\n",
       "    .dataframe tbody tr th:only-of-type {\n",
       "        vertical-align: middle;\n",
       "    }\n",
       "\n",
       "    .dataframe tbody tr th {\n",
       "        vertical-align: top;\n",
       "    }\n",
       "\n",
       "    .dataframe thead th {\n",
       "        text-align: right;\n",
       "    }\n",
       "</style>\n",
       "<table border=\"1\" class=\"dataframe\">\n",
       "  <thead>\n",
       "    <tr style=\"text-align: right;\">\n",
       "      <th></th>\n",
       "      <th>drug_id</th>\n",
       "      <th>description</th>\n",
       "      <th>administrative_status</th>\n",
       "      <th>marketing_status</th>\n",
       "      <th>approved_for_hospital_use</th>\n",
       "      <th>reimbursement_rate</th>\n",
       "      <th>dosage_form</th>\n",
       "      <th>route_of_administration</th>\n",
       "      <th>marketing_authorization_status</th>\n",
       "      <th>marketing_declaration_date</th>\n",
       "      <th>marketing_authorization_date</th>\n",
       "      <th>marketing_authorization_process</th>\n",
       "      <th>pharmaceutical_companies</th>\n",
       "    </tr>\n",
       "  </thead>\n",
       "  <tbody>\n",
       "    <tr>\n",
       "      <th>0</th>\n",
       "      <td>0_test</td>\n",
       "      <td>plaquette(s) thermoformée(s) polyamide alumini...</td>\n",
       "      <td>Présentation active</td>\n",
       "      <td>Déclaration d'arrêt de commercialisation</td>\n",
       "      <td>non</td>\n",
       "      <td>65%</td>\n",
       "      <td>comprimé gastro-résistant(e)</td>\n",
       "      <td>orale</td>\n",
       "      <td>Autorisation active</td>\n",
       "      <td>20130101</td>\n",
       "      <td>20080101</td>\n",
       "      <td>Procédure de reconnaissance mutuelle</td>\n",
       "      <td>TEVA SANTE</td>\n",
       "    </tr>\n",
       "    <tr>\n",
       "      <th>1</th>\n",
       "      <td>1_test</td>\n",
       "      <td>plaquette(s) thermoformée(s) PVC PVDC aluminiu...</td>\n",
       "      <td>Présentation active</td>\n",
       "      <td>Déclaration de commercialisation</td>\n",
       "      <td>non</td>\n",
       "      <td>30%</td>\n",
       "      <td>capsule</td>\n",
       "      <td>vaginale</td>\n",
       "      <td>Autorisation active</td>\n",
       "      <td>20120101</td>\n",
       "      <td>19970101</td>\n",
       "      <td>Procédure nationale</td>\n",
       "      <td>INNOTECH INTERNATIONAL</td>\n",
       "    </tr>\n",
       "  </tbody>\n",
       "</table>\n",
       "</div>"
      ],
      "text/plain": [
       "  drug_id                                        description  \\\n",
       "0  0_test  plaquette(s) thermoformée(s) polyamide alumini...   \n",
       "1  1_test  plaquette(s) thermoformée(s) PVC PVDC aluminiu...   \n",
       "\n",
       "  administrative_status                          marketing_status  \\\n",
       "0   Présentation active  Déclaration d'arrêt de commercialisation   \n",
       "1   Présentation active          Déclaration de commercialisation   \n",
       "\n",
       "  approved_for_hospital_use reimbursement_rate                   dosage_form  \\\n",
       "0                       non                65%  comprimé gastro-résistant(e)   \n",
       "1                       non                30%                       capsule   \n",
       "\n",
       "  route_of_administration marketing_authorization_status  \\\n",
       "0                   orale            Autorisation active   \n",
       "1                vaginale            Autorisation active   \n",
       "\n",
       "   marketing_declaration_date  marketing_authorization_date  \\\n",
       "0                    20130101                      20080101   \n",
       "1                    20120101                      19970101   \n",
       "\n",
       "        marketing_authorization_process pharmaceutical_companies  \n",
       "0  Procédure de reconnaissance mutuelle               TEVA SANTE  \n",
       "1                   Procédure nationale   INNOTECH INTERNATIONAL  "
      ]
     },
     "execution_count": 15,
     "metadata": {},
     "output_type": "execute_result"
    }
   ],
   "source": [
    "test_df.head(2)"
   ]
  },
  {
   "cell_type": "code",
   "execution_count": null,
   "id": "0a9c2a95-d104-45ff-830d-b6ea53430327",
   "metadata": {},
   "outputs": [],
   "source": [
    "# Year and companyfeature\n",
    "mean_price = X_train.groupby(\"company_year\").price.mean()\n",
    "median_price = X_train.groupby(\"company_year\").price.median()\n",
    "qauntile_75_price = X_train.groupby(\"company_year\").price.quantile(0.75)\n",
    "X_train[\"company_year_mean\"] = X_train[\"company_year\"].map(mean_price)\n",
    "X_test[\"company_year_mean\"] = X_test[\"company_year\"].map(mean_price)\n",
    "X_train[\"company_year_median\"] = X_train[\"company_year\"].map(median_price)\n",
    "X_test[\"company_year_median\"] = X_test[\"company_year\"].map(median_price)\n",
    "X_train[\"company_year_q75\"] = X_train[\"company_year\"].map(qauntile_75_price)\n",
    "X_test[\"company_year_q75\"] = X_test[\"company_year\"].map(qauntile_75_price)\n"
   ]
  }
 ],
 "metadata": {
  "kernelspec": {
   "display_name": "Python 3 (ipykernel)",
   "language": "python",
   "name": "python3"
  },
  "language_info": {
   "codemirror_mode": {
    "name": "ipython",
    "version": 3
   },
   "file_extension": ".py",
   "mimetype": "text/x-python",
   "name": "python",
   "nbconvert_exporter": "python",
   "pygments_lexer": "ipython3",
   "version": "3.8.10"
  }
 },
 "nbformat": 4,
 "nbformat_minor": 5
}
