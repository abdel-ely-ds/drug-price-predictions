{
 "cells": [
  {
   "cell_type": "code",
   "execution_count": 1,
   "id": "167d31bc-42ad-4d65-ad5b-6d6e58bc9db9",
   "metadata": {},
   "outputs": [],
   "source": [
    "import pandas as pd\n",
    "from xgboost import XGBRegressor"
   ]
  },
  {
   "cell_type": "code",
   "execution_count": 2,
   "id": "b30ecab3-5a34-464e-bba7-dadc70a99ae9",
   "metadata": {},
   "outputs": [],
   "source": [
    "train_df = pd.read_csv(\"drugs_train.csv\")"
   ]
  },
  {
   "cell_type": "code",
   "execution_count": 3,
   "id": "e5832ec6-ac88-46d6-b1d9-116ace6b76d5",
   "metadata": {},
   "outputs": [
    {
     "data": {
      "text/html": [
       "<div>\n",
       "<style scoped>\n",
       "    .dataframe tbody tr th:only-of-type {\n",
       "        vertical-align: middle;\n",
       "    }\n",
       "\n",
       "    .dataframe tbody tr th {\n",
       "        vertical-align: top;\n",
       "    }\n",
       "\n",
       "    .dataframe thead th {\n",
       "        text-align: right;\n",
       "    }\n",
       "</style>\n",
       "<table border=\"1\" class=\"dataframe\">\n",
       "  <thead>\n",
       "    <tr style=\"text-align: right;\">\n",
       "      <th></th>\n",
       "      <th>drug_id</th>\n",
       "      <th>description</th>\n",
       "      <th>administrative_status</th>\n",
       "      <th>marketing_status</th>\n",
       "      <th>approved_for_hospital_use</th>\n",
       "      <th>reimbursement_rate</th>\n",
       "      <th>dosage_form</th>\n",
       "      <th>route_of_administration</th>\n",
       "      <th>marketing_authorization_status</th>\n",
       "      <th>marketing_declaration_date</th>\n",
       "      <th>marketing_authorization_date</th>\n",
       "      <th>marketing_authorization_process</th>\n",
       "      <th>pharmaceutical_companies</th>\n",
       "      <th>price</th>\n",
       "    </tr>\n",
       "  </thead>\n",
       "  <tbody>\n",
       "    <tr>\n",
       "      <th>0</th>\n",
       "      <td>0_train</td>\n",
       "      <td>3 plaquette(s) thermoformée(s) PVC-Aluminium d...</td>\n",
       "      <td>Présentation active</td>\n",
       "      <td>Déclaration de commercialisation</td>\n",
       "      <td>oui</td>\n",
       "      <td>65%</td>\n",
       "      <td>comprimé pelliculé</td>\n",
       "      <td>orale</td>\n",
       "      <td>Autorisation active</td>\n",
       "      <td>20140101</td>\n",
       "      <td>20140101</td>\n",
       "      <td>Procédure décentralisée</td>\n",
       "      <td>MAJORELLE LUXEMBOURG SOPARFI (LUXEMBOURG)</td>\n",
       "      <td>2.83</td>\n",
       "    </tr>\n",
       "    <tr>\n",
       "      <th>1</th>\n",
       "      <td>1_train</td>\n",
       "      <td>plaquette(s) thermoformée(s) aluminium de 28 c...</td>\n",
       "      <td>Présentation active</td>\n",
       "      <td>Déclaration de commercialisation</td>\n",
       "      <td>oui</td>\n",
       "      <td>65%</td>\n",
       "      <td>comprimé à croquer</td>\n",
       "      <td>orale</td>\n",
       "      <td>Autorisation active</td>\n",
       "      <td>20130101</td>\n",
       "      <td>20090101</td>\n",
       "      <td>Procédure de reconnaissance mutuelle</td>\n",
       "      <td>TEVA SANTE</td>\n",
       "      <td>14.30</td>\n",
       "    </tr>\n",
       "  </tbody>\n",
       "</table>\n",
       "</div>"
      ],
      "text/plain": [
       "   drug_id                                        description  \\\n",
       "0  0_train  3 plaquette(s) thermoformée(s) PVC-Aluminium d...   \n",
       "1  1_train  plaquette(s) thermoformée(s) aluminium de 28 c...   \n",
       "\n",
       "  administrative_status                  marketing_status  \\\n",
       "0   Présentation active  Déclaration de commercialisation   \n",
       "1   Présentation active  Déclaration de commercialisation   \n",
       "\n",
       "  approved_for_hospital_use reimbursement_rate         dosage_form  \\\n",
       "0                       oui                65%  comprimé pelliculé   \n",
       "1                       oui                65%  comprimé à croquer   \n",
       "\n",
       "  route_of_administration marketing_authorization_status  \\\n",
       "0                   orale            Autorisation active   \n",
       "1                   orale            Autorisation active   \n",
       "\n",
       "   marketing_declaration_date  marketing_authorization_date  \\\n",
       "0                    20140101                      20140101   \n",
       "1                    20130101                      20090101   \n",
       "\n",
       "        marketing_authorization_process  \\\n",
       "0               Procédure décentralisée   \n",
       "1  Procédure de reconnaissance mutuelle   \n",
       "\n",
       "                     pharmaceutical_companies  price  \n",
       "0   MAJORELLE LUXEMBOURG SOPARFI (LUXEMBOURG)   2.83  \n",
       "1                                  TEVA SANTE  14.30  "
      ]
     },
     "execution_count": 3,
     "metadata": {},
     "output_type": "execute_result"
    }
   ],
   "source": [
    "train_df.head(2)"
   ]
  },
  {
   "cell_type": "code",
   "execution_count": 4,
   "id": "e771b8f7-3f85-4376-b637-d8795be0696e",
   "metadata": {},
   "outputs": [
    {
     "data": {
      "text/plain": [
       "(8564, 14)"
      ]
     },
     "execution_count": 4,
     "metadata": {},
     "output_type": "execute_result"
    }
   ],
   "source": [
    "train_df.shape"
   ]
  },
  {
   "cell_type": "code",
   "execution_count": 5,
   "id": "b969b494-e0ed-445d-b320-dd730b94ec55",
   "metadata": {},
   "outputs": [
    {
     "data": {
      "text/plain": [
       "8564"
      ]
     },
     "execution_count": 5,
     "metadata": {},
     "output_type": "execute_result"
    }
   ],
   "source": [
    "train_df.drug_id.nunique()"
   ]
  },
  {
   "cell_type": "code",
   "execution_count": 6,
   "id": "859ec998-15f7-4513-9b4d-723699f1ff6b",
   "metadata": {},
   "outputs": [
    {
     "data": {
      "text/plain": [
       "Présentation active     8554\n",
       "Présentation abrogée      10\n",
       "Name: administrative_status, dtype: int64"
      ]
     },
     "execution_count": 6,
     "metadata": {},
     "output_type": "execute_result"
    }
   ],
   "source": [
    "train_df.administrative_status.value_counts()"
   ]
  },
  {
   "cell_type": "code",
   "execution_count": 7,
   "id": "64e0a0d9-626a-41f2-919b-d0d5b6202ebb",
   "metadata": {},
   "outputs": [
    {
     "data": {
      "text/plain": [
       "Déclaration de commercialisation                                      7262\n",
       "Déclaration d'arrêt de commercialisation                              1250\n",
       "Arrêt de commercialisation (le médicament n'a plus d'autorisation)      51\n",
       "Déclaration de suspension de commercialisation                           1\n",
       "Name: marketing_status, dtype: int64"
      ]
     },
     "execution_count": 7,
     "metadata": {},
     "output_type": "execute_result"
    }
   ],
   "source": [
    "train_df.marketing_status.value_counts()"
   ]
  },
  {
   "cell_type": "code",
   "execution_count": 8,
   "id": "bd7eabf6-fad2-4aef-99e1-36cb628ce66f",
   "metadata": {},
   "outputs": [
    {
     "data": {
      "text/plain": [
       "oui    7022\n",
       "non    1542\n",
       "Name: approved_for_hospital_use, dtype: int64"
      ]
     },
     "execution_count": 8,
     "metadata": {},
     "output_type": "execute_result"
    }
   ],
   "source": [
    "train_df.approved_for_hospital_use.value_counts()"
   ]
  },
  {
   "cell_type": "code",
   "execution_count": 9,
   "id": "352585fe-d0de-46f3-8227-3bccc3aa9213",
   "metadata": {},
   "outputs": [
    {
     "data": {
      "text/plain": [
       "65%     7175\n",
       "30%      656\n",
       "15%      393\n",
       "100%     339\n",
       "0%         1\n",
       "Name: reimbursement_rate, dtype: int64"
      ]
     },
     "execution_count": 9,
     "metadata": {},
     "output_type": "execute_result"
    }
   ],
   "source": [
    "train_df.reimbursement_rate.value_counts()"
   ]
  },
  {
   "cell_type": "code",
   "execution_count": 10,
   "id": "f5a75205-be68-4ef1-bd2f-866d18b80614",
   "metadata": {},
   "outputs": [
    {
     "data": {
      "text/plain": [
       "comprimé pelliculé               1931\n",
       "comprimé                         1017\n",
       "comprimé sécable                  812\n",
       "comprimé pelliculé sécable        669\n",
       "gélule                            639\n",
       "solution injectable               496\n",
       "gélule gastro-résistant(e)        256\n",
       "gélule à libération prolongée     175\n",
       "comprimé gastro-résistant(e)      160\n",
       "comprimé orodispersible           136\n",
       "Name: dosage_form, dtype: int64"
      ]
     },
     "execution_count": 10,
     "metadata": {},
     "output_type": "execute_result"
    }
   ],
   "source": [
    "train_df.dosage_form.value_counts().head(10)"
   ]
  },
  {
   "cell_type": "code",
   "execution_count": 11,
   "id": "c45aabee-c7b9-4b15-aef4-2ff6a5798f5a",
   "metadata": {},
   "outputs": [
    {
     "data": {
      "text/plain": [
       "orale                                                                                                         6948\n",
       "cutanée                                                                                                        225\n",
       "intraveineuse                                                                                                  224\n",
       "sous-cutanée                                                                                                   177\n",
       "ophtalmique                                                                                                    162\n",
       "                                                                                                              ... \n",
       "intramusculaire,intrathécale,intraveineuse                                                                       1\n",
       "intra-articulaire,périarticulaire,péridurale,voie parentérale autre                                              1\n",
       "endocanalaire,intra-artérielle,intraveineuse                                                                     1\n",
       "endosinusale,intra-articulaire,intralésionnelle,intramusculaire,intraveineuse,périarticulaire,périoculaire       1\n",
       "intra-murale,intramusculaire,intraveineuse                                                                       1\n",
       "Name: route_of_administration, Length: 75, dtype: int64"
      ]
     },
     "execution_count": 11,
     "metadata": {},
     "output_type": "execute_result"
    }
   ],
   "source": [
    "train_df.route_of_administration.value_counts()"
   ]
  },
  {
   "cell_type": "code",
   "execution_count": 12,
   "id": "b6381bba-a353-4eca-adb7-4e92b05eb96e",
   "metadata": {},
   "outputs": [
    {
     "data": {
      "text/plain": [
       "Autorisation active      8169\n",
       "Autorisation abrogée      314\n",
       "Autorisation archivée      75\n",
       "Autorisation retirée        6\n",
       "Name: marketing_authorization_status, dtype: int64"
      ]
     },
     "execution_count": 12,
     "metadata": {},
     "output_type": "execute_result"
    }
   ],
   "source": [
    "train_df.marketing_authorization_status.value_counts()"
   ]
  },
  {
   "cell_type": "code",
   "execution_count": 13,
   "id": "a2049d6c-bc97-4670-b09a-635c08ec5fbf",
   "metadata": {},
   "outputs": [
    {
     "data": {
      "text/plain": [
       " TEVA SANTE               777\n",
       " SANOFI AVENTIS FRANCE    571\n",
       " MYLAN SAS                567\n",
       " BIOGARAN                 496\n",
       " SANDOZ                   456\n",
       "                         ... \n",
       " LABCATAL                   1\n",
       " GEDEON RICHTER             1\n",
       " LABORATOIRE UNITHER        1\n",
       " TERALI                     1\n",
       " LABORATOIRES DOLIAGE       1\n",
       "Name: pharmaceutical_companies, Length: 325, dtype: int64"
      ]
     },
     "execution_count": 13,
     "metadata": {},
     "output_type": "execute_result"
    }
   ],
   "source": [
    "train_df.pharmaceutical_companies.value_counts()"
   ]
  },
  {
   "cell_type": "markdown",
   "id": "195c2ca8-bc99-469b-b5ac-e0a845e1a7cb",
   "metadata": {},
   "source": [
    "## Dummies"
   ]
  },
  {
   "cell_type": "code",
   "execution_count": 14,
   "id": "be5c0c84-eb31-4c77-8bfd-48bf6bf415a3",
   "metadata": {},
   "outputs": [],
   "source": [
    "df = train_df[[\"marketing_status\", \"price\"]]"
   ]
  },
  {
   "cell_type": "code",
   "execution_count": 15,
   "id": "da81de1d-f98b-4f04-98eb-f7757b595691",
   "metadata": {},
   "outputs": [],
   "source": [
    "df_x = pd.get_dummies(data=df.drop(\"price\", axis=1), drop_first=True)"
   ]
  },
  {
   "cell_type": "code",
   "execution_count": 16,
   "id": "c5aa2baf-cbc8-41ce-b589-b83a1fb2f0ae",
   "metadata": {},
   "outputs": [
    {
     "data": {
      "text/html": [
       "<div>\n",
       "<style scoped>\n",
       "    .dataframe tbody tr th:only-of-type {\n",
       "        vertical-align: middle;\n",
       "    }\n",
       "\n",
       "    .dataframe tbody tr th {\n",
       "        vertical-align: top;\n",
       "    }\n",
       "\n",
       "    .dataframe thead th {\n",
       "        text-align: right;\n",
       "    }\n",
       "</style>\n",
       "<table border=\"1\" class=\"dataframe\">\n",
       "  <thead>\n",
       "    <tr style=\"text-align: right;\">\n",
       "      <th></th>\n",
       "      <th>marketing_status_Déclaration d'arrêt de commercialisation</th>\n",
       "      <th>marketing_status_Déclaration de commercialisation</th>\n",
       "      <th>marketing_status_Déclaration de suspension de commercialisation</th>\n",
       "    </tr>\n",
       "  </thead>\n",
       "  <tbody>\n",
       "    <tr>\n",
       "      <th>0</th>\n",
       "      <td>0</td>\n",
       "      <td>1</td>\n",
       "      <td>0</td>\n",
       "    </tr>\n",
       "    <tr>\n",
       "      <th>1</th>\n",
       "      <td>0</td>\n",
       "      <td>1</td>\n",
       "      <td>0</td>\n",
       "    </tr>\n",
       "    <tr>\n",
       "      <th>2</th>\n",
       "      <td>0</td>\n",
       "      <td>1</td>\n",
       "      <td>0</td>\n",
       "    </tr>\n",
       "    <tr>\n",
       "      <th>3</th>\n",
       "      <td>0</td>\n",
       "      <td>1</td>\n",
       "      <td>0</td>\n",
       "    </tr>\n",
       "    <tr>\n",
       "      <th>4</th>\n",
       "      <td>1</td>\n",
       "      <td>0</td>\n",
       "      <td>0</td>\n",
       "    </tr>\n",
       "    <tr>\n",
       "      <th>...</th>\n",
       "      <td>...</td>\n",
       "      <td>...</td>\n",
       "      <td>...</td>\n",
       "    </tr>\n",
       "    <tr>\n",
       "      <th>8559</th>\n",
       "      <td>1</td>\n",
       "      <td>0</td>\n",
       "      <td>0</td>\n",
       "    </tr>\n",
       "    <tr>\n",
       "      <th>8560</th>\n",
       "      <td>0</td>\n",
       "      <td>1</td>\n",
       "      <td>0</td>\n",
       "    </tr>\n",
       "    <tr>\n",
       "      <th>8561</th>\n",
       "      <td>1</td>\n",
       "      <td>0</td>\n",
       "      <td>0</td>\n",
       "    </tr>\n",
       "    <tr>\n",
       "      <th>8562</th>\n",
       "      <td>0</td>\n",
       "      <td>1</td>\n",
       "      <td>0</td>\n",
       "    </tr>\n",
       "    <tr>\n",
       "      <th>8563</th>\n",
       "      <td>0</td>\n",
       "      <td>1</td>\n",
       "      <td>0</td>\n",
       "    </tr>\n",
       "  </tbody>\n",
       "</table>\n",
       "<p>8564 rows × 3 columns</p>\n",
       "</div>"
      ],
      "text/plain": [
       "      marketing_status_Déclaration d'arrêt de commercialisation  \\\n",
       "0                                                     0           \n",
       "1                                                     0           \n",
       "2                                                     0           \n",
       "3                                                     0           \n",
       "4                                                     1           \n",
       "...                                                 ...           \n",
       "8559                                                  1           \n",
       "8560                                                  0           \n",
       "8561                                                  1           \n",
       "8562                                                  0           \n",
       "8563                                                  0           \n",
       "\n",
       "      marketing_status_Déclaration de commercialisation  \\\n",
       "0                                                     1   \n",
       "1                                                     1   \n",
       "2                                                     1   \n",
       "3                                                     1   \n",
       "4                                                     0   \n",
       "...                                                 ...   \n",
       "8559                                                  0   \n",
       "8560                                                  1   \n",
       "8561                                                  0   \n",
       "8562                                                  1   \n",
       "8563                                                  1   \n",
       "\n",
       "      marketing_status_Déclaration de suspension de commercialisation  \n",
       "0                                                     0                \n",
       "1                                                     0                \n",
       "2                                                     0                \n",
       "3                                                     0                \n",
       "4                                                     0                \n",
       "...                                                 ...                \n",
       "8559                                                  0                \n",
       "8560                                                  0                \n",
       "8561                                                  0                \n",
       "8562                                                  0                \n",
       "8563                                                  0                \n",
       "\n",
       "[8564 rows x 3 columns]"
      ]
     },
     "execution_count": 16,
     "metadata": {},
     "output_type": "execute_result"
    }
   ],
   "source": [
    "df_x"
   ]
  },
  {
   "cell_type": "code",
   "execution_count": 17,
   "id": "39a59371-3b58-4ef1-ad7e-8bfd61a9b3b1",
   "metadata": {},
   "outputs": [],
   "source": [
    "import numpy as np\n",
    "\n",
    "df_y = np.log1p(df.price)"
   ]
  },
  {
   "cell_type": "code",
   "execution_count": 18,
   "id": "344779b4-a6ab-4081-badc-c608b78ad091",
   "metadata": {},
   "outputs": [
    {
     "data": {
      "text/plain": [
       "count    8564.000000\n",
       "mean        2.441039\n",
       "std         1.144582\n",
       "min         0.470004\n",
       "25%         1.597365\n",
       "50%         2.190536\n",
       "75%         3.050694\n",
       "max         6.899108\n",
       "Name: price, dtype: float64"
      ]
     },
     "execution_count": 18,
     "metadata": {},
     "output_type": "execute_result"
    }
   ],
   "source": [
    "df_y.describe()"
   ]
  },
  {
   "cell_type": "code",
   "execution_count": 19,
   "id": "ab2b3bd1-8482-4a8a-9f6a-1ea24ecc6f54",
   "metadata": {},
   "outputs": [],
   "source": [
    "from sklearn import linear_model\n",
    "from sklearn.model_selection import train_test_split\n",
    "\n",
    "X_train, X_test, Y_train, Y_test = train_test_split(df_x, df_y, test_size = .20, random_state = 40)\n",
    "\n",
    "regr = linear_model.LinearRegression() # Do not use fit_intercept = False if you have removed 1 column after dummy encoding\n",
    "regr.fit(X_train, Y_train)\n",
    "predicted = regr.predict(X_test)"
   ]
  },
  {
   "cell_type": "code",
   "execution_count": 558,
   "id": "ba81e30f-8368-4f38-87ee-bba881c6cecf",
   "metadata": {},
   "outputs": [
    {
     "data": {
      "text/plain": [
       "24.153362745985522"
      ]
     },
     "execution_count": 558,
     "metadata": {},
     "output_type": "execute_result"
    }
   ],
   "source": [
    "from sklearn.metrics import mean_absolute_error, mean_squared_error, median_absolute_error\n",
    "mean_absolute_error(np.expm1(predicted), np.expm1(Y_test))"
   ]
  },
  {
   "cell_type": "markdown",
   "id": "67aa8ebd-56db-44c7-960e-375dacfd91e2",
   "metadata": {},
   "source": [
    "## XGBOOST"
   ]
  },
  {
   "cell_type": "code",
   "execution_count": 518,
   "id": "3c818a4c-e6fe-47b4-84bd-7b87f67729ad",
   "metadata": {},
   "outputs": [],
   "source": [
    "X, y = train_df.drop(columns=[\"price\"]), train_df.price"
   ]
  },
  {
   "cell_type": "code",
   "execution_count": 519,
   "id": "25160f5e-3795-4703-a7f1-8d0ee5ddecd1",
   "metadata": {},
   "outputs": [
    {
     "data": {
      "text/html": [
       "<div>\n",
       "<style scoped>\n",
       "    .dataframe tbody tr th:only-of-type {\n",
       "        vertical-align: middle;\n",
       "    }\n",
       "\n",
       "    .dataframe tbody tr th {\n",
       "        vertical-align: top;\n",
       "    }\n",
       "\n",
       "    .dataframe thead th {\n",
       "        text-align: right;\n",
       "    }\n",
       "</style>\n",
       "<table border=\"1\" class=\"dataframe\">\n",
       "  <thead>\n",
       "    <tr style=\"text-align: right;\">\n",
       "      <th></th>\n",
       "      <th>drug_id</th>\n",
       "      <th>description</th>\n",
       "      <th>administrative_status</th>\n",
       "      <th>marketing_status</th>\n",
       "      <th>approved_for_hospital_use</th>\n",
       "      <th>reimbursement_rate</th>\n",
       "      <th>dosage_form</th>\n",
       "      <th>route_of_administration</th>\n",
       "      <th>marketing_authorization_status</th>\n",
       "      <th>marketing_declaration_date</th>\n",
       "      <th>marketing_authorization_date</th>\n",
       "      <th>marketing_authorization_process</th>\n",
       "      <th>pharmaceutical_companies</th>\n",
       "    </tr>\n",
       "  </thead>\n",
       "  <tbody>\n",
       "    <tr>\n",
       "      <th>0</th>\n",
       "      <td>0_train</td>\n",
       "      <td>3 plaquette(s) thermoformée(s) PVC-Aluminium d...</td>\n",
       "      <td>Présentation active</td>\n",
       "      <td>Déclaration de commercialisation</td>\n",
       "      <td>oui</td>\n",
       "      <td>65%</td>\n",
       "      <td>comprimé pelliculé</td>\n",
       "      <td>orale</td>\n",
       "      <td>Autorisation active</td>\n",
       "      <td>20140101</td>\n",
       "      <td>20140101</td>\n",
       "      <td>Procédure décentralisée</td>\n",
       "      <td>MAJORELLE LUXEMBOURG SOPARFI (LUXEMBOURG)</td>\n",
       "    </tr>\n",
       "    <tr>\n",
       "      <th>1</th>\n",
       "      <td>1_train</td>\n",
       "      <td>plaquette(s) thermoformée(s) aluminium de 28 c...</td>\n",
       "      <td>Présentation active</td>\n",
       "      <td>Déclaration de commercialisation</td>\n",
       "      <td>oui</td>\n",
       "      <td>65%</td>\n",
       "      <td>comprimé à croquer</td>\n",
       "      <td>orale</td>\n",
       "      <td>Autorisation active</td>\n",
       "      <td>20130101</td>\n",
       "      <td>20090101</td>\n",
       "      <td>Procédure de reconnaissance mutuelle</td>\n",
       "      <td>TEVA SANTE</td>\n",
       "    </tr>\n",
       "  </tbody>\n",
       "</table>\n",
       "</div>"
      ],
      "text/plain": [
       "   drug_id                                        description  \\\n",
       "0  0_train  3 plaquette(s) thermoformée(s) PVC-Aluminium d...   \n",
       "1  1_train  plaquette(s) thermoformée(s) aluminium de 28 c...   \n",
       "\n",
       "  administrative_status                  marketing_status  \\\n",
       "0   Présentation active  Déclaration de commercialisation   \n",
       "1   Présentation active  Déclaration de commercialisation   \n",
       "\n",
       "  approved_for_hospital_use reimbursement_rate         dosage_form  \\\n",
       "0                       oui                65%  comprimé pelliculé   \n",
       "1                       oui                65%  comprimé à croquer   \n",
       "\n",
       "  route_of_administration marketing_authorization_status  \\\n",
       "0                   orale            Autorisation active   \n",
       "1                   orale            Autorisation active   \n",
       "\n",
       "   marketing_declaration_date  marketing_authorization_date  \\\n",
       "0                    20140101                      20140101   \n",
       "1                    20130101                      20090101   \n",
       "\n",
       "        marketing_authorization_process  \\\n",
       "0               Procédure décentralisée   \n",
       "1  Procédure de reconnaissance mutuelle   \n",
       "\n",
       "                     pharmaceutical_companies  \n",
       "0   MAJORELLE LUXEMBOURG SOPARFI (LUXEMBOURG)  \n",
       "1                                  TEVA SANTE  "
      ]
     },
     "execution_count": 519,
     "metadata": {},
     "output_type": "execute_result"
    }
   ],
   "source": [
    "X.head(2)"
   ]
  },
  {
   "cell_type": "code",
   "execution_count": 520,
   "id": "a9b1f639-1bc6-498f-8f42-59e6127c0791",
   "metadata": {},
   "outputs": [
    {
     "data": {
      "text/plain": [
       "8564"
      ]
     },
     "execution_count": 520,
     "metadata": {},
     "output_type": "execute_result"
    }
   ],
   "source": [
    "X.drug_id.nunique()"
   ]
  },
  {
   "cell_type": "code",
   "execution_count": 521,
   "id": "86f8ae81-db4e-4caa-8e8a-364134419366",
   "metadata": {},
   "outputs": [
    {
     "data": {
      "text/plain": [
       "Index(['drug_id', 'description', 'administrative_status', 'marketing_status',\n",
       "       'approved_for_hospital_use', 'reimbursement_rate', 'dosage_form',\n",
       "       'route_of_administration', 'marketing_authorization_status',\n",
       "       'marketing_declaration_date', 'marketing_authorization_date',\n",
       "       'marketing_authorization_process', 'pharmaceutical_companies'],\n",
       "      dtype='object')"
      ]
     },
     "execution_count": 521,
     "metadata": {},
     "output_type": "execute_result"
    }
   ],
   "source": [
    "X.columns"
   ]
  },
  {
   "cell_type": "code",
   "execution_count": 522,
   "id": "2c5e5029-6c90-4803-966a-34496f271a79",
   "metadata": {},
   "outputs": [
    {
     "data": {
      "text/plain": [
       "count    8564.000000\n",
       "mean       28.530284\n",
       "std        81.394061\n",
       "min         0.600000\n",
       "25%         3.940000\n",
       "50%         7.940000\n",
       "75%        20.130000\n",
       "max       990.390000\n",
       "Name: price, dtype: float64"
      ]
     },
     "execution_count": 522,
     "metadata": {},
     "output_type": "execute_result"
    }
   ],
   "source": [
    "y.describe()"
   ]
  },
  {
   "cell_type": "code",
   "execution_count": 523,
   "id": "3aab8a2c-116e-4770-a39e-0b1f99285a8d",
   "metadata": {},
   "outputs": [
    {
     "data": {
      "text/html": [
       "<div>\n",
       "<style scoped>\n",
       "    .dataframe tbody tr th:only-of-type {\n",
       "        vertical-align: middle;\n",
       "    }\n",
       "\n",
       "    .dataframe tbody tr th {\n",
       "        vertical-align: top;\n",
       "    }\n",
       "\n",
       "    .dataframe thead th {\n",
       "        text-align: right;\n",
       "    }\n",
       "</style>\n",
       "<table border=\"1\" class=\"dataframe\">\n",
       "  <thead>\n",
       "    <tr style=\"text-align: right;\">\n",
       "      <th></th>\n",
       "      <th>drug_id</th>\n",
       "      <th>description</th>\n",
       "      <th>administrative_status</th>\n",
       "      <th>marketing_status</th>\n",
       "      <th>approved_for_hospital_use</th>\n",
       "      <th>reimbursement_rate</th>\n",
       "      <th>dosage_form</th>\n",
       "      <th>route_of_administration</th>\n",
       "      <th>marketing_authorization_status</th>\n",
       "      <th>marketing_declaration_date</th>\n",
       "      <th>marketing_authorization_date</th>\n",
       "      <th>marketing_authorization_process</th>\n",
       "      <th>pharmaceutical_companies</th>\n",
       "    </tr>\n",
       "  </thead>\n",
       "  <tbody>\n",
       "    <tr>\n",
       "      <th>0</th>\n",
       "      <td>0_train</td>\n",
       "      <td>3 plaquette(s) thermoformée(s) PVC-Aluminium d...</td>\n",
       "      <td>Présentation active</td>\n",
       "      <td>Déclaration de commercialisation</td>\n",
       "      <td>oui</td>\n",
       "      <td>65%</td>\n",
       "      <td>comprimé pelliculé</td>\n",
       "      <td>orale</td>\n",
       "      <td>Autorisation active</td>\n",
       "      <td>20140101</td>\n",
       "      <td>20140101</td>\n",
       "      <td>Procédure décentralisée</td>\n",
       "      <td>MAJORELLE LUXEMBOURG SOPARFI (LUXEMBOURG)</td>\n",
       "    </tr>\n",
       "    <tr>\n",
       "      <th>1</th>\n",
       "      <td>1_train</td>\n",
       "      <td>plaquette(s) thermoformée(s) aluminium de 28 c...</td>\n",
       "      <td>Présentation active</td>\n",
       "      <td>Déclaration de commercialisation</td>\n",
       "      <td>oui</td>\n",
       "      <td>65%</td>\n",
       "      <td>comprimé à croquer</td>\n",
       "      <td>orale</td>\n",
       "      <td>Autorisation active</td>\n",
       "      <td>20130101</td>\n",
       "      <td>20090101</td>\n",
       "      <td>Procédure de reconnaissance mutuelle</td>\n",
       "      <td>TEVA SANTE</td>\n",
       "    </tr>\n",
       "    <tr>\n",
       "      <th>2</th>\n",
       "      <td>2_train</td>\n",
       "      <td>plaquette(s) thermoformée(s) PVC-aluminium de ...</td>\n",
       "      <td>Présentation active</td>\n",
       "      <td>Déclaration de commercialisation</td>\n",
       "      <td>oui</td>\n",
       "      <td>65%</td>\n",
       "      <td>gélule à libération prolongée</td>\n",
       "      <td>orale</td>\n",
       "      <td>Autorisation active</td>\n",
       "      <td>20000101</td>\n",
       "      <td>19960101</td>\n",
       "      <td>Procédure nationale</td>\n",
       "      <td>MYLAN SAS</td>\n",
       "    </tr>\n",
       "  </tbody>\n",
       "</table>\n",
       "</div>"
      ],
      "text/plain": [
       "   drug_id                                        description  \\\n",
       "0  0_train  3 plaquette(s) thermoformée(s) PVC-Aluminium d...   \n",
       "1  1_train  plaquette(s) thermoformée(s) aluminium de 28 c...   \n",
       "2  2_train  plaquette(s) thermoformée(s) PVC-aluminium de ...   \n",
       "\n",
       "  administrative_status                  marketing_status  \\\n",
       "0   Présentation active  Déclaration de commercialisation   \n",
       "1   Présentation active  Déclaration de commercialisation   \n",
       "2   Présentation active  Déclaration de commercialisation   \n",
       "\n",
       "  approved_for_hospital_use reimbursement_rate                    dosage_form  \\\n",
       "0                       oui                65%             comprimé pelliculé   \n",
       "1                       oui                65%             comprimé à croquer   \n",
       "2                       oui                65%  gélule à libération prolongée   \n",
       "\n",
       "  route_of_administration marketing_authorization_status  \\\n",
       "0                   orale            Autorisation active   \n",
       "1                   orale            Autorisation active   \n",
       "2                   orale            Autorisation active   \n",
       "\n",
       "   marketing_declaration_date  marketing_authorization_date  \\\n",
       "0                    20140101                      20140101   \n",
       "1                    20130101                      20090101   \n",
       "2                    20000101                      19960101   \n",
       "\n",
       "        marketing_authorization_process  \\\n",
       "0               Procédure décentralisée   \n",
       "1  Procédure de reconnaissance mutuelle   \n",
       "2                   Procédure nationale   \n",
       "\n",
       "                     pharmaceutical_companies  \n",
       "0   MAJORELLE LUXEMBOURG SOPARFI (LUXEMBOURG)  \n",
       "1                                  TEVA SANTE  \n",
       "2                                   MYLAN SAS  "
      ]
     },
     "execution_count": 523,
     "metadata": {},
     "output_type": "execute_result"
    }
   ],
   "source": [
    "X.head(3)"
   ]
  },
  {
   "cell_type": "code",
   "execution_count": 524,
   "id": "42b46556-6cdf-4dad-8541-b48a2694fd0c",
   "metadata": {},
   "outputs": [],
   "source": [
    "X[\"marketing_declaration_date\"] = pd.to_datetime(X.marketing_declaration_date, format=\"%Y%m%d\")\n",
    "X[\"marketing_authorization_date\"] = pd.to_datetime(X.marketing_authorization_date, format=\"%Y%m%d\")\n",
    "\n",
    "X[\"marketing_days_elapsed\"] = X[\"marketing_declaration_date\"] - X[\"marketing_authorization_date\"]\n",
    "X[\"marketing_days_elapsed\"] = abs(X[\"marketing_days_elapsed\"].dt.days)"
   ]
  },
  {
   "cell_type": "code",
   "execution_count": 525,
   "id": "df1a5c13-5223-4402-828b-38bd2f0fd270",
   "metadata": {},
   "outputs": [],
   "source": [
    "X[\"reimbursement_rate\"] = X.reimbursement_rate.str.replace(\"%\", \"\")\n",
    "X[\"reimbursement_rate\"] = X[\"reimbursement_rate\"].astype(int)\n",
    "X[\"reimbursement_rate\"] /= 100"
   ]
  },
  {
   "cell_type": "code",
   "execution_count": 526,
   "id": "6f11c3af-f390-4f63-8108-9338551efa73",
   "metadata": {},
   "outputs": [
    {
     "data": {
      "text/plain": [
       "0    0.65\n",
       "1    0.65\n",
       "2    0.65\n",
       "3    0.65\n",
       "4    1.00\n",
       "Name: reimbursement_rate, dtype: float64"
      ]
     },
     "execution_count": 526,
     "metadata": {},
     "output_type": "execute_result"
    }
   ],
   "source": [
    "X.reimbursement_rate.head()"
   ]
  },
  {
   "cell_type": "code",
   "execution_count": 527,
   "id": "5acf01ea-b247-4232-a713-81b0f9731118",
   "metadata": {},
   "outputs": [],
   "source": [
    "X.administrative_status = X.administrative_status.apply(lambda x: 1 if \"active\" in x else 0)"
   ]
  },
  {
   "cell_type": "code",
   "execution_count": 528,
   "id": "a36bea08-8f37-432c-8da9-c4fc936a7adf",
   "metadata": {},
   "outputs": [],
   "source": [
    "X.approved_for_hospital_use = X.approved_for_hospital_use.apply(lambda x: 1 if \"oui\" in x else 0)"
   ]
  },
  {
   "cell_type": "code",
   "execution_count": 529,
   "id": "70817a01-8a65-4d81-9ef9-063c8c6ba4c8",
   "metadata": {},
   "outputs": [],
   "source": [
    "X[\"year\"] = X.marketing_declaration_date.dt.year"
   ]
  },
  {
   "cell_type": "code",
   "execution_count": 508,
   "id": "daf6091b-9458-414a-98b2-5c1278d624db",
   "metadata": {},
   "outputs": [],
   "source": [
    "X[\"company_year\"] = X.pharmaceutical_companies + \"_\" + X.year.astype(str)"
   ]
  },
  {
   "cell_type": "code",
   "execution_count": 509,
   "id": "2ddd11b5-71e1-401c-a969-47c24b3a6dff",
   "metadata": {},
   "outputs": [
    {
     "data": {
      "text/html": [
       "<div>\n",
       "<style scoped>\n",
       "    .dataframe tbody tr th:only-of-type {\n",
       "        vertical-align: middle;\n",
       "    }\n",
       "\n",
       "    .dataframe tbody tr th {\n",
       "        vertical-align: top;\n",
       "    }\n",
       "\n",
       "    .dataframe thead th {\n",
       "        text-align: right;\n",
       "    }\n",
       "</style>\n",
       "<table border=\"1\" class=\"dataframe\">\n",
       "  <thead>\n",
       "    <tr style=\"text-align: right;\">\n",
       "      <th></th>\n",
       "      <th>drug_id</th>\n",
       "      <th>description</th>\n",
       "      <th>administrative_status</th>\n",
       "      <th>marketing_status</th>\n",
       "      <th>approved_for_hospital_use</th>\n",
       "      <th>reimbursement_rate</th>\n",
       "      <th>dosage_form</th>\n",
       "      <th>route_of_administration</th>\n",
       "      <th>marketing_authorization_status</th>\n",
       "      <th>marketing_declaration_date</th>\n",
       "      <th>marketing_authorization_date</th>\n",
       "      <th>marketing_authorization_process</th>\n",
       "      <th>pharmaceutical_companies</th>\n",
       "      <th>marketing_days_elapsed</th>\n",
       "      <th>year</th>\n",
       "      <th>company_year</th>\n",
       "    </tr>\n",
       "  </thead>\n",
       "  <tbody>\n",
       "    <tr>\n",
       "      <th>0</th>\n",
       "      <td>0_train</td>\n",
       "      <td>3 plaquette(s) thermoformée(s) PVC-Aluminium d...</td>\n",
       "      <td>1</td>\n",
       "      <td>Déclaration de commercialisation</td>\n",
       "      <td>1</td>\n",
       "      <td>0.65</td>\n",
       "      <td>comprimé pelliculé</td>\n",
       "      <td>orale</td>\n",
       "      <td>Autorisation active</td>\n",
       "      <td>2014-01-01</td>\n",
       "      <td>2014-01-01</td>\n",
       "      <td>Procédure décentralisée</td>\n",
       "      <td>MAJORELLE LUXEMBOURG SOPARFI (LUXEMBOURG)</td>\n",
       "      <td>0</td>\n",
       "      <td>2014</td>\n",
       "      <td>MAJORELLE LUXEMBOURG SOPARFI (LUXEMBOURG)_2014</td>\n",
       "    </tr>\n",
       "    <tr>\n",
       "      <th>1</th>\n",
       "      <td>1_train</td>\n",
       "      <td>plaquette(s) thermoformée(s) aluminium de 28 c...</td>\n",
       "      <td>1</td>\n",
       "      <td>Déclaration de commercialisation</td>\n",
       "      <td>1</td>\n",
       "      <td>0.65</td>\n",
       "      <td>comprimé à croquer</td>\n",
       "      <td>orale</td>\n",
       "      <td>Autorisation active</td>\n",
       "      <td>2013-01-01</td>\n",
       "      <td>2009-01-01</td>\n",
       "      <td>Procédure de reconnaissance mutuelle</td>\n",
       "      <td>TEVA SANTE</td>\n",
       "      <td>1461</td>\n",
       "      <td>2013</td>\n",
       "      <td>TEVA SANTE_2013</td>\n",
       "    </tr>\n",
       "  </tbody>\n",
       "</table>\n",
       "</div>"
      ],
      "text/plain": [
       "   drug_id                                        description  \\\n",
       "0  0_train  3 plaquette(s) thermoformée(s) PVC-Aluminium d...   \n",
       "1  1_train  plaquette(s) thermoformée(s) aluminium de 28 c...   \n",
       "\n",
       "   administrative_status                  marketing_status  \\\n",
       "0                      1  Déclaration de commercialisation   \n",
       "1                      1  Déclaration de commercialisation   \n",
       "\n",
       "   approved_for_hospital_use  reimbursement_rate         dosage_form  \\\n",
       "0                          1                0.65  comprimé pelliculé   \n",
       "1                          1                0.65  comprimé à croquer   \n",
       "\n",
       "  route_of_administration marketing_authorization_status  \\\n",
       "0                   orale            Autorisation active   \n",
       "1                   orale            Autorisation active   \n",
       "\n",
       "  marketing_declaration_date marketing_authorization_date  \\\n",
       "0                 2014-01-01                   2014-01-01   \n",
       "1                 2013-01-01                   2009-01-01   \n",
       "\n",
       "        marketing_authorization_process  \\\n",
       "0               Procédure décentralisée   \n",
       "1  Procédure de reconnaissance mutuelle   \n",
       "\n",
       "                     pharmaceutical_companies  marketing_days_elapsed  year  \\\n",
       "0   MAJORELLE LUXEMBOURG SOPARFI (LUXEMBOURG)                       0  2014   \n",
       "1                                  TEVA SANTE                    1461  2013   \n",
       "\n",
       "                                      company_year  \n",
       "0   MAJORELLE LUXEMBOURG SOPARFI (LUXEMBOURG)_2014  \n",
       "1                                  TEVA SANTE_2013  "
      ]
     },
     "execution_count": 509,
     "metadata": {},
     "output_type": "execute_result"
    }
   ],
   "source": [
    "X.head(2)"
   ]
  },
  {
   "cell_type": "code",
   "execution_count": 530,
   "id": "66bc506c-7683-49b5-bcb8-19e6c21575ef",
   "metadata": {},
   "outputs": [],
   "source": [
    "y_log = np.log1p(y)"
   ]
  },
  {
   "cell_type": "code",
   "execution_count": 531,
   "id": "c38dc52e-1cca-4c9b-b193-fbf70194db06",
   "metadata": {},
   "outputs": [],
   "source": [
    "X = X.drop(columns=[\"drug_id\", \"description\", 'marketing_declaration_date', 'marketing_authorization_date'])"
   ]
  },
  {
   "cell_type": "code",
   "execution_count": 532,
   "id": "fef5199d-f53d-4b43-8b3e-f6ce7c7f11b6",
   "metadata": {},
   "outputs": [
    {
     "data": {
      "text/plain": [
       "Index(['administrative_status', 'marketing_status',\n",
       "       'approved_for_hospital_use', 'reimbursement_rate', 'dosage_form',\n",
       "       'route_of_administration', 'marketing_authorization_status',\n",
       "       'marketing_authorization_process', 'pharmaceutical_companies',\n",
       "       'marketing_days_elapsed', 'year'],\n",
       "      dtype='object')"
      ]
     },
     "execution_count": 532,
     "metadata": {},
     "output_type": "execute_result"
    }
   ],
   "source": [
    "X.columns"
   ]
  },
  {
   "cell_type": "code",
   "execution_count": 533,
   "id": "62d7065f-42ff-48d3-8747-3ec132565554",
   "metadata": {},
   "outputs": [],
   "source": [
    "one_hot_columns = [\"marketing_status\", \n",
    "                   \"marketing_authorization_status\",\n",
    "                   \"marketing_authorization_process\"\n",
    "                  ]\n",
    "\n",
    "high_dim_columns = [\"dosage_form\", \"route_of_administration\", \"pharmaceutical_companies\"]\n",
    "\n",
    "bins_columns = [\"marketing_days_elapsed\"]\n",
    "nums_columns = [\"reimbursement_rate\"]"
   ]
  },
  {
   "cell_type": "code",
   "execution_count": 534,
   "id": "6f572eea-be7a-48dc-9957-12578359334b",
   "metadata": {},
   "outputs": [],
   "source": [
    "from xgboost import XGBRegressor\n",
    "from sklearn.compose import ColumnTransformer\n",
    "from sklearn.preprocessing import OneHotEncoder, KBinsDiscretizer\n",
    "from category_encoders import MEstimateEncoder\n",
    "import warnings\n",
    "warnings.filterwarnings(\"ignore\")\n",
    "\n",
    "X_train, X_test, Y_train, Y_test = train_test_split(X, \n",
    "                                                    y_log, test_size = .20, random_state = 40)"
   ]
  },
  {
   "cell_type": "code",
   "execution_count": 535,
   "id": "f6921eca-21c1-45fc-ba8d-6ca1ddbf6b16",
   "metadata": {
    "tags": []
   },
   "outputs": [],
   "source": [
    "X_train[\"price\"] = Y_train\n",
    "X_test[\"price\"] = Y_test"
   ]
  },
  {
   "cell_type": "code",
   "execution_count": 536,
   "id": "f0ace75f-4db2-4303-a01d-4e07a55f90c2",
   "metadata": {
    "tags": []
   },
   "outputs": [],
   "source": [
    "for hdc in high_dim_columns:\n",
    "    mean_price = X_train.groupby(hdc).price.mean()\n",
    "    median_price = X_train.groupby(hdc).price.median()\n",
    "    qauntile_75_price = X_train.groupby(hdc).price.quantile(0.75)\n",
    "    \n",
    "    X_train[hdc + \"_mean\"] = X_train[hdc].map(mean_price)\n",
    "    X_test[hdc + \"_mean\"] = X_test[hdc].map(mean_price)\n",
    "    X_train[hdc + \"_median\"] = X_train[hdc].map(median_price)\n",
    "    X_test[hdc + \"_median\"] = X_test[hdc].map(median_price)\n",
    "    X_train[hdc + \"_q75\"] = X_train[hdc].map(qauntile_75_price)\n",
    "    X_test[hdc + \"_q75\"] = X_test[hdc].map(qauntile_75_price)\n",
    "    \n",
    "\n",
    "\n",
    "drop_columns = high_dim_columns + [\"price\"]\n",
    "X_train.drop(columns=drop_columns, inplace=True)\n",
    "X_test.drop(columns=drop_columns, inplace=True)"
   ]
  },
  {
   "cell_type": "code",
   "execution_count": 537,
   "id": "b9e46ffc-2a93-4701-a94f-0ce82d259a75",
   "metadata": {},
   "outputs": [
    {
     "data": {
      "text/html": [
       "<div>\n",
       "<style scoped>\n",
       "    .dataframe tbody tr th:only-of-type {\n",
       "        vertical-align: middle;\n",
       "    }\n",
       "\n",
       "    .dataframe tbody tr th {\n",
       "        vertical-align: top;\n",
       "    }\n",
       "\n",
       "    .dataframe thead th {\n",
       "        text-align: right;\n",
       "    }\n",
       "</style>\n",
       "<table border=\"1\" class=\"dataframe\">\n",
       "  <thead>\n",
       "    <tr style=\"text-align: right;\">\n",
       "      <th></th>\n",
       "      <th>administrative_status</th>\n",
       "      <th>marketing_status</th>\n",
       "      <th>approved_for_hospital_use</th>\n",
       "      <th>reimbursement_rate</th>\n",
       "      <th>marketing_authorization_status</th>\n",
       "      <th>marketing_authorization_process</th>\n",
       "      <th>marketing_days_elapsed</th>\n",
       "      <th>year</th>\n",
       "      <th>dosage_form_mean</th>\n",
       "      <th>dosage_form_median</th>\n",
       "      <th>dosage_form_q75</th>\n",
       "      <th>route_of_administration_mean</th>\n",
       "      <th>route_of_administration_median</th>\n",
       "      <th>route_of_administration_q75</th>\n",
       "      <th>pharmaceutical_companies_mean</th>\n",
       "      <th>pharmaceutical_companies_median</th>\n",
       "      <th>pharmaceutical_companies_q75</th>\n",
       "    </tr>\n",
       "  </thead>\n",
       "  <tbody>\n",
       "    <tr>\n",
       "      <th>2850</th>\n",
       "      <td>1</td>\n",
       "      <td>Déclaration de commercialisation</td>\n",
       "      <td>1</td>\n",
       "      <td>0.65</td>\n",
       "      <td>Autorisation active</td>\n",
       "      <td>Procédure nationale</td>\n",
       "      <td>4383</td>\n",
       "      <td>2014</td>\n",
       "      <td>2.033428</td>\n",
       "      <td>1.996060</td>\n",
       "      <td>2.758743</td>\n",
       "      <td>2.35611</td>\n",
       "      <td>2.166765</td>\n",
       "      <td>2.977059</td>\n",
       "      <td>2.303321</td>\n",
       "      <td>2.116792</td>\n",
       "      <td>2.974763</td>\n",
       "    </tr>\n",
       "    <tr>\n",
       "      <th>3258</th>\n",
       "      <td>1</td>\n",
       "      <td>Déclaration de commercialisation</td>\n",
       "      <td>1</td>\n",
       "      <td>1.00</td>\n",
       "      <td>Autorisation active</td>\n",
       "      <td>Procédure de reconnaissance mutuelle</td>\n",
       "      <td>365</td>\n",
       "      <td>2006</td>\n",
       "      <td>4.108457</td>\n",
       "      <td>4.530784</td>\n",
       "      <td>5.446150</td>\n",
       "      <td>4.91321</td>\n",
       "      <td>5.000046</td>\n",
       "      <td>5.941123</td>\n",
       "      <td>2.178918</td>\n",
       "      <td>1.342865</td>\n",
       "      <td>3.008648</td>\n",
       "    </tr>\n",
       "  </tbody>\n",
       "</table>\n",
       "</div>"
      ],
      "text/plain": [
       "      administrative_status                  marketing_status  \\\n",
       "2850                      1  Déclaration de commercialisation   \n",
       "3258                      1  Déclaration de commercialisation   \n",
       "\n",
       "      approved_for_hospital_use  reimbursement_rate  \\\n",
       "2850                          1                0.65   \n",
       "3258                          1                1.00   \n",
       "\n",
       "     marketing_authorization_status       marketing_authorization_process  \\\n",
       "2850            Autorisation active                   Procédure nationale   \n",
       "3258            Autorisation active  Procédure de reconnaissance mutuelle   \n",
       "\n",
       "      marketing_days_elapsed  year  dosage_form_mean  dosage_form_median  \\\n",
       "2850                    4383  2014          2.033428            1.996060   \n",
       "3258                     365  2006          4.108457            4.530784   \n",
       "\n",
       "      dosage_form_q75  route_of_administration_mean  \\\n",
       "2850         2.758743                       2.35611   \n",
       "3258         5.446150                       4.91321   \n",
       "\n",
       "      route_of_administration_median  route_of_administration_q75  \\\n",
       "2850                        2.166765                     2.977059   \n",
       "3258                        5.000046                     5.941123   \n",
       "\n",
       "      pharmaceutical_companies_mean  pharmaceutical_companies_median  \\\n",
       "2850                       2.303321                         2.116792   \n",
       "3258                       2.178918                         1.342865   \n",
       "\n",
       "      pharmaceutical_companies_q75  \n",
       "2850                      2.974763  \n",
       "3258                      3.008648  "
      ]
     },
     "execution_count": 537,
     "metadata": {},
     "output_type": "execute_result"
    }
   ],
   "source": [
    "X_train.head(2)"
   ]
  },
  {
   "cell_type": "code",
   "execution_count": 538,
   "id": "b1f3e1dd-b3db-48d8-a6b4-69a955ea51c0",
   "metadata": {},
   "outputs": [
    {
     "data": {
      "text/html": [
       "<div>\n",
       "<style scoped>\n",
       "    .dataframe tbody tr th:only-of-type {\n",
       "        vertical-align: middle;\n",
       "    }\n",
       "\n",
       "    .dataframe tbody tr th {\n",
       "        vertical-align: top;\n",
       "    }\n",
       "\n",
       "    .dataframe thead th {\n",
       "        text-align: right;\n",
       "    }\n",
       "</style>\n",
       "<table border=\"1\" class=\"dataframe\">\n",
       "  <thead>\n",
       "    <tr style=\"text-align: right;\">\n",
       "      <th></th>\n",
       "      <th>administrative_status</th>\n",
       "      <th>marketing_status</th>\n",
       "      <th>approved_for_hospital_use</th>\n",
       "      <th>reimbursement_rate</th>\n",
       "      <th>marketing_authorization_status</th>\n",
       "      <th>marketing_authorization_process</th>\n",
       "      <th>marketing_days_elapsed</th>\n",
       "      <th>year</th>\n",
       "      <th>dosage_form_mean</th>\n",
       "      <th>dosage_form_median</th>\n",
       "      <th>dosage_form_q75</th>\n",
       "      <th>route_of_administration_mean</th>\n",
       "      <th>route_of_administration_median</th>\n",
       "      <th>route_of_administration_q75</th>\n",
       "      <th>pharmaceutical_companies_mean</th>\n",
       "      <th>pharmaceutical_companies_median</th>\n",
       "      <th>pharmaceutical_companies_q75</th>\n",
       "    </tr>\n",
       "  </thead>\n",
       "  <tbody>\n",
       "    <tr>\n",
       "      <th>3955</th>\n",
       "      <td>1</td>\n",
       "      <td>Déclaration de commercialisation</td>\n",
       "      <td>1</td>\n",
       "      <td>0.65</td>\n",
       "      <td>Autorisation active</td>\n",
       "      <td>Procédure de reconnaissance mutuelle</td>\n",
       "      <td>730</td>\n",
       "      <td>1992</td>\n",
       "      <td>2.283879</td>\n",
       "      <td>2.211566</td>\n",
       "      <td>2.966303</td>\n",
       "      <td>2.35611</td>\n",
       "      <td>2.166765</td>\n",
       "      <td>2.977059</td>\n",
       "      <td>2.580888</td>\n",
       "      <td>2.538640</td>\n",
       "      <td>2.858217</td>\n",
       "    </tr>\n",
       "    <tr>\n",
       "      <th>5939</th>\n",
       "      <td>1</td>\n",
       "      <td>Déclaration de commercialisation</td>\n",
       "      <td>1</td>\n",
       "      <td>0.65</td>\n",
       "      <td>Autorisation active</td>\n",
       "      <td>Procédure nationale</td>\n",
       "      <td>8035</td>\n",
       "      <td>2015</td>\n",
       "      <td>2.480157</td>\n",
       "      <td>2.221375</td>\n",
       "      <td>3.103240</td>\n",
       "      <td>2.35611</td>\n",
       "      <td>2.166765</td>\n",
       "      <td>2.977059</td>\n",
       "      <td>2.270858</td>\n",
       "      <td>2.145931</td>\n",
       "      <td>2.977059</td>\n",
       "    </tr>\n",
       "  </tbody>\n",
       "</table>\n",
       "</div>"
      ],
      "text/plain": [
       "      administrative_status                  marketing_status  \\\n",
       "3955                      1  Déclaration de commercialisation   \n",
       "5939                      1  Déclaration de commercialisation   \n",
       "\n",
       "      approved_for_hospital_use  reimbursement_rate  \\\n",
       "3955                          1                0.65   \n",
       "5939                          1                0.65   \n",
       "\n",
       "     marketing_authorization_status       marketing_authorization_process  \\\n",
       "3955            Autorisation active  Procédure de reconnaissance mutuelle   \n",
       "5939            Autorisation active                   Procédure nationale   \n",
       "\n",
       "      marketing_days_elapsed  year  dosage_form_mean  dosage_form_median  \\\n",
       "3955                     730  1992          2.283879            2.211566   \n",
       "5939                    8035  2015          2.480157            2.221375   \n",
       "\n",
       "      dosage_form_q75  route_of_administration_mean  \\\n",
       "3955         2.966303                       2.35611   \n",
       "5939         3.103240                       2.35611   \n",
       "\n",
       "      route_of_administration_median  route_of_administration_q75  \\\n",
       "3955                        2.166765                     2.977059   \n",
       "5939                        2.166765                     2.977059   \n",
       "\n",
       "      pharmaceutical_companies_mean  pharmaceutical_companies_median  \\\n",
       "3955                       2.580888                         2.538640   \n",
       "5939                       2.270858                         2.145931   \n",
       "\n",
       "      pharmaceutical_companies_q75  \n",
       "3955                      2.858217  \n",
       "5939                      2.977059  "
      ]
     },
     "execution_count": 538,
     "metadata": {},
     "output_type": "execute_result"
    }
   ],
   "source": [
    "X_test.head(2)"
   ]
  },
  {
   "cell_type": "code",
   "execution_count": 539,
   "id": "7285337b-da2b-41c4-ad0d-7880702b869b",
   "metadata": {},
   "outputs": [
    {
     "data": {
      "text/plain": [
       "True"
      ]
     },
     "execution_count": 539,
     "metadata": {},
     "output_type": "execute_result"
    }
   ],
   "source": [
    "len(X_test.columns) == len(X_train.columns)"
   ]
  },
  {
   "cell_type": "code",
   "execution_count": 540,
   "id": "66ae0a6f-7b58-4250-870e-bef3afa93d34",
   "metadata": {},
   "outputs": [],
   "source": [
    "full_pipeline = ColumnTransformer(transformers=[\n",
    "    ('onehot', OneHotEncoder(handle_unknown='ignore'), one_hot_columns), \n",
    "    ('bins', KBinsDiscretizer(n_bins=20, strategy='uniform', encode='ordinal'), bins_columns),\n",
    "], remainder='passthrough')\n",
    "\n",
    "encoder = full_pipeline.fit(X_train)\n",
    "X_train = encoder.transform(X_train)\n",
    "X_test = encoder.transform(X_test)"
   ]
  },
  {
   "cell_type": "code",
   "execution_count": 551,
   "id": "f6903dad-e73a-4636-a3b9-dc9574d94068",
   "metadata": {},
   "outputs": [
    {
     "data": {
      "text/plain": [
       "XGBRegressor(base_score=0.5, booster='gbtree', colsample_bylevel=1,\n",
       "             colsample_bynode=1, colsample_bytree=1, enable_categorical=False,\n",
       "             gamma=0, gpu_id=-1, importance_type=None,\n",
       "             interaction_constraints='', learning_rate=0.300000012,\n",
       "             max_delta_step=0, max_depth=7, min_child_weight=1, missing=nan,\n",
       "             monotone_constraints='()', n_estimators=10, n_jobs=4,\n",
       "             num_parallel_tree=1, predictor='auto', random_state=0,\n",
       "             reg_alpha=0.1, reg_lambda=0.001, scale_pos_weight=1, subsample=1,\n",
       "             tree_method='exact', validate_parameters=1, verbosity=1)"
      ]
     },
     "execution_count": 551,
     "metadata": {},
     "output_type": "execute_result"
    }
   ],
   "source": [
    "# train the model\n",
    "model = XGBRegressor(n_estimators=10, max_depth=7, verbosity=1, reg_lambda=0.001, reg_alpha=0.1)\n",
    "model.fit(X_train, Y_train)"
   ]
  },
  {
   "cell_type": "code",
   "execution_count": 552,
   "id": "20930ca9-f225-4d73-9613-79d56fc3cfbf",
   "metadata": {},
   "outputs": [
    {
     "data": {
      "text/plain": [
       "0.49809611966208805"
      ]
     },
     "execution_count": 552,
     "metadata": {},
     "output_type": "execute_result"
    }
   ],
   "source": [
    "mean_absolute_error(model.predict(X_train), Y_train)"
   ]
  },
  {
   "cell_type": "code",
   "execution_count": 559,
   "id": "4b514035-eda7-40a8-8d9d-8fac8fc9243a",
   "metadata": {},
   "outputs": [
    {
     "data": {
      "text/plain": [
       "0.4166950654935089"
      ]
     },
     "execution_count": 559,
     "metadata": {},
     "output_type": "execute_result"
    }
   ],
   "source": [
    "median_absolute_error(model.predict(X_train), Y_train)"
   ]
  },
  {
   "cell_type": "code",
   "execution_count": 553,
   "id": "526d6ceb-bd5a-44e8-82fe-5d2c4d323dd6",
   "metadata": {},
   "outputs": [
    {
     "data": {
      "text/plain": [
       "0.6008187371500257"
      ]
     },
     "execution_count": 553,
     "metadata": {},
     "output_type": "execute_result"
    }
   ],
   "source": [
    "mean_absolute_error(model.predict(X_test), Y_test)"
   ]
  },
  {
   "cell_type": "code",
   "execution_count": 560,
   "id": "9e921db5-173b-4b8d-accf-7c0b63690cd1",
   "metadata": {},
   "outputs": [
    {
     "data": {
      "text/plain": [
       "0.482414836764546"
      ]
     },
     "execution_count": 560,
     "metadata": {},
     "output_type": "execute_result"
    }
   ],
   "source": [
    "median_absolute_error(model.predict(X_test), Y_test)"
   ]
  },
  {
   "cell_type": "code",
   "execution_count": 554,
   "id": "e982423e-4fec-4f87-b5da-87065ce6508a",
   "metadata": {},
   "outputs": [
    {
     "data": {
      "text/plain": [
       "13.644029576210816"
      ]
     },
     "execution_count": 554,
     "metadata": {},
     "output_type": "execute_result"
    }
   ],
   "source": [
    "mean_absolute_error(np.expm1(model.predict(X_train)), np.expm1(Y_train))"
   ]
  },
  {
   "cell_type": "code",
   "execution_count": 555,
   "id": "478f86bc-7c7d-4907-a8ad-210a58eb4780",
   "metadata": {},
   "outputs": [
    {
     "data": {
      "text/plain": [
       "19.604686040878292"
      ]
     },
     "execution_count": 555,
     "metadata": {},
     "output_type": "execute_result"
    }
   ],
   "source": [
    "mean_absolute_error(np.expm1(model.predict(X_test)), np.expm1(Y_test))"
   ]
  },
  {
   "cell_type": "code",
   "execution_count": 556,
   "id": "2615fea3-afe3-4742-b05d-9528bb25061f",
   "metadata": {},
   "outputs": [],
   "source": [
    "from sklearn.feature_selection import SelectFromModel"
   ]
  },
  {
   "cell_type": "code",
   "execution_count": 557,
   "id": "c5aec89a-8e51-4369-872c-161d1d4a2338",
   "metadata": {},
   "outputs": [
    {
     "name": "stdout",
     "output_type": "stream",
     "text": [
      "Thresh=0.000, n=27, accuracy score: 18.55%\n",
      "Thresh=0.000, n=27, accuracy score: 18.55%\n",
      "Thresh=0.000, n=27, accuracy score: 18.55%\n",
      "Thresh=0.000, n=27, accuracy score: 18.55%\n",
      "Thresh=0.002, n=23, accuracy score: 18.46%\n",
      "Thresh=0.002, n=22, accuracy score: 18.44%\n",
      "Thresh=0.004, n=21, accuracy score: 18.47%\n",
      "Thresh=0.006, n=20, accuracy score: 18.91%\n",
      "Thresh=0.008, n=19, accuracy score: 18.76%\n",
      "Thresh=0.010, n=18, accuracy score: 18.84%\n",
      "Thresh=0.012, n=17, accuracy score: 18.93%\n",
      "Thresh=0.013, n=16, accuracy score: 18.94%\n",
      "Thresh=0.014, n=15, accuracy score: 19.18%\n",
      "Thresh=0.018, n=14, accuracy score: 19.22%\n",
      "Thresh=0.018, n=13, accuracy score: 19.36%\n",
      "Thresh=0.020, n=12, accuracy score: 19.46%\n",
      "Thresh=0.020, n=11, accuracy score: 19.35%\n",
      "Thresh=0.022, n=10, accuracy score: 19.56%\n",
      "Thresh=0.023, n=9, accuracy score: 19.45%\n",
      "Thresh=0.027, n=8, accuracy score: 19.06%\n",
      "Thresh=0.028, n=7, accuracy score: 18.97%\n",
      "Thresh=0.057, n=6, accuracy score: 19.35%\n",
      "Thresh=0.064, n=5, accuracy score: 19.28%\n",
      "Thresh=0.131, n=4, accuracy score: 20.11%\n",
      "Thresh=0.139, n=3, accuracy score: 20.44%\n",
      "Thresh=0.157, n=2, accuracy score: 20.96%\n",
      "Thresh=0.204, n=1, accuracy score: 21.46%\n"
     ]
    }
   ],
   "source": [
    "threshold = np.sort(model.feature_importances_)\n",
    "for thresh in threshold:\n",
    "    # select features using threshold\n",
    "    selection = SelectFromModel(model, threshold=thresh, prefit=True)\n",
    "    select_X_train = selection.transform(X_train)\n",
    "    # train model\n",
    "    selection_model = XGBRegressor(n_estimators=10, max_depth=10, verbosity=1, reg_lambda=0.001, reg_alpha=0.1)\n",
    "    selection_model.fit(select_X_train, Y_train)\n",
    "    # eval model\n",
    "    select_X_test = selection.transform(X_test)\n",
    "    accuracy = mean_absolute_error(np.expm1(selection_model.predict(select_X_test)), np.expm1(Y_test))\n",
    "    print(\"Thresh=%.3f, n=%d, accuracy score: %.2f%%\" % (thresh, select_X_train.shape[1], accuracy))"
   ]
  },
  {
   "cell_type": "code",
   "execution_count": 281,
   "id": "b1511d7f-f8e5-4715-a10d-491c3bea87a2",
   "metadata": {},
   "outputs": [
    {
     "data": {
      "image/png": "[encoded data removed]",
      "text/plain": [
       "<Figure size 720x720 with 1 Axes>"
      ]
     },
     "metadata": {
      "needs_background": "light"
     },
     "output_type": "display_data"
    }
   ],
   "source": [
    "import xgboost as xgb\n",
    "import matplotlib.pyplot as plt\n",
    "fig, ax = plt.subplots(figsize=(10,10))\n",
    "xgb.plot_importance(model, max_num_features=50, height=0.5, ax=ax,importance_type='weight')\n",
    "plt.show()"
   ]
  },
  {
   "cell_type": "code",
   "execution_count": null,
   "id": "744258ab-c2af-44c3-9f2c-a6c643c8c363",
   "metadata": {},
   "outputs": [],
   "source": []
  },
  {
   "cell_type": "code",
   "execution_count": 137,
   "id": "df839a5a-be54-40e2-a3d3-84fe9fafe17b",
   "metadata": {},
   "outputs": [],
   "source": [
    "price_evolution = train_df[[\"marketing_declaration_date\", \"price\"]].sort_values(\"marketing_declaration_date\")"
   ]
  },
  {
   "cell_type": "code",
   "execution_count": 138,
   "id": "4c186e84-9acd-4bc6-b8fc-7dc700bdbcda",
   "metadata": {},
   "outputs": [],
   "source": [
    "price_evolution.marketing_declaration_date = pd.to_datetime(price_evolution.marketing_declaration_date, format=\"%Y%m%d\")"
   ]
  },
  {
   "cell_type": "code",
   "execution_count": 142,
   "id": "eb66de5c-7dfb-401e-98ad-5f5ba4849a51",
   "metadata": {},
   "outputs": [],
   "source": [
    "price_evolution = price_evolution.sort_values(\"marketing_declaration_date\")"
   ]
  },
  {
   "cell_type": "code",
   "execution_count": 151,
   "id": "25b08ad1-1ab5-4700-a866-daa6f913769c",
   "metadata": {},
   "outputs": [],
   "source": [
    "price_evolution_first = price_evolution[price_evolution.price <= 400]\n",
    "price_evolution_second = price_evolution[price_evolution.price > 400]"
   ]
  },
  {
   "cell_type": "code",
   "execution_count": 143,
   "id": "72f24ab2-b465-4f4b-b207-45b2756d791f",
   "metadata": {},
   "outputs": [],
   "source": [
    "import matplotlib.pyplot as plt"
   ]
  },
  {
   "cell_type": "code",
   "execution_count": 150,
   "id": "2775cb2a-5676-40fd-b378-78d0353573f9",
   "metadata": {},
   "outputs": [
    {
     "data": {
      "text/plain": [
       "<matplotlib.collections.PathCollection at 0x7fd9ffeea070>"
      ]
     },
     "execution_count": 150,
     "metadata": {},
     "output_type": "execute_result"
    },
    {
     "data": {
      "image/png": "[encoded data removed]",
      "text/plain": [
       "<Figure size 432x288 with 1 Axes>"
      ]
     },
     "metadata": {
      "needs_background": "light"
     },
     "output_type": "display_data"
    }
   ],
   "source": [
    "plt.scatter(price_evolution_first.marketing_declaration_date, price_evolution_first.price)"
   ]
  },
  {
   "cell_type": "code",
   "execution_count": 152,
   "id": "175c5b8a-4038-44a7-aa5e-ced537c02eee",
   "metadata": {},
   "outputs": [
    {
     "data": {
      "text/plain": [
       "<matplotlib.collections.PathCollection at 0x7fd9f6709df0>"
      ]
     },
     "execution_count": 152,
     "metadata": {},
     "output_type": "execute_result"
    },
    {
     "data": {
      "image/png": "[encoded data removed]",
      "text/plain": [
       "<Figure size 432x288 with 1 Axes>"
      ]
     },
     "metadata": {
      "needs_background": "light"
     },
     "output_type": "display_data"
    }
   ],
   "source": [
    "plt.scatter(price_evolution_second.marketing_declaration_date, price_evolution_second.price)"
   ]
  },
  {
   "cell_type": "code",
   "execution_count": 146,
   "id": "9f7482e2-22a7-4c0e-bba6-7b1c22d96faf",
   "metadata": {},
   "outputs": [],
   "source": [
    "X_past = price_evolution[price_evolution.marketing_declaration_date <= \"2018-01-01\"]\n",
    "X_future = price_evolution[price_evolution.marketing_declaration_date > \"2018-01-01\"]"
   ]
  },
  {
   "cell_type": "code",
   "execution_count": null,
   "id": "78584a63-e325-4945-a307-b7f4290bc40a",
   "metadata": {},
   "outputs": [],
   "source": []
  },
  {
   "cell_type": "code",
   "execution_count": null,
   "id": "852fb60e-d712-4530-98ba-6d72d9364caf",
   "metadata": {},
   "outputs": [],
   "source": []
  },
  {
   "cell_type": "code",
   "execution_count": null,
   "id": "ee035bc7-95a2-474d-9b32-5d6fbccfcb62",
   "metadata": {},
   "outputs": [],
   "source": []
  },
  {
   "cell_type": "code",
   "execution_count": 238,
   "id": "09106df1-28c5-4042-a110-a515f0f5c25f",
   "metadata": {},
   "outputs": [],
   "source": [
    "features = pd.read_csv(\"drug_label_feature_eng.csv\")"
   ]
  },
  {
   "cell_type": "code",
   "execution_count": 239,
   "id": "1bc14697-1824-46bb-8fd9-87f454580ab8",
   "metadata": {},
   "outputs": [
    {
     "data": {
      "text/html": [
       "<div>\n",
       "<style scoped>\n",
       "    .dataframe tbody tr th:only-of-type {\n",
       "        vertical-align: middle;\n",
       "    }\n",
       "\n",
       "    .dataframe tbody tr th {\n",
       "        vertical-align: top;\n",
       "    }\n",
       "\n",
       "    .dataframe thead th {\n",
       "        text-align: right;\n",
       "    }\n",
       "</style>\n",
       "<table border=\"1\" class=\"dataframe\">\n",
       "  <thead>\n",
       "    <tr style=\"text-align: right;\">\n",
       "      <th></th>\n",
       "      <th>description</th>\n",
       "      <th>label_plaquette</th>\n",
       "      <th>label_ampoule</th>\n",
       "      <th>label_flacon</th>\n",
       "      <th>label_tube</th>\n",
       "      <th>label_stylo</th>\n",
       "      <th>label_seringue</th>\n",
       "      <th>label_pilulier</th>\n",
       "      <th>label_sachet</th>\n",
       "      <th>label_comprime</th>\n",
       "      <th>...</th>\n",
       "      <th>count_stylo</th>\n",
       "      <th>count_seringue</th>\n",
       "      <th>count_pilulier</th>\n",
       "      <th>count_sachet</th>\n",
       "      <th>count_comprime</th>\n",
       "      <th>count_gelule</th>\n",
       "      <th>count_film</th>\n",
       "      <th>count_poche</th>\n",
       "      <th>count_capsule</th>\n",
       "      <th>count_ml</th>\n",
       "    </tr>\n",
       "  </thead>\n",
       "  <tbody>\n",
       "    <tr>\n",
       "      <th>0</th>\n",
       "      <td>12 sachet(s) papier aluminium polyéthylène de ...</td>\n",
       "      <td>0</td>\n",
       "      <td>0</td>\n",
       "      <td>0</td>\n",
       "      <td>0</td>\n",
       "      <td>0</td>\n",
       "      <td>0</td>\n",
       "      <td>0</td>\n",
       "      <td>1</td>\n",
       "      <td>0</td>\n",
       "      <td>...</td>\n",
       "      <td>0</td>\n",
       "      <td>0</td>\n",
       "      <td>0</td>\n",
       "      <td>12</td>\n",
       "      <td>0</td>\n",
       "      <td>0</td>\n",
       "      <td>0</td>\n",
       "      <td>0</td>\n",
       "      <td>0</td>\n",
       "      <td>0.0</td>\n",
       "    </tr>\n",
       "    <tr>\n",
       "      <th>1</th>\n",
       "      <td>plaquette(s) thermoformée(s) (ACLAR RX) polytr...</td>\n",
       "      <td>1</td>\n",
       "      <td>0</td>\n",
       "      <td>0</td>\n",
       "      <td>0</td>\n",
       "      <td>0</td>\n",
       "      <td>0</td>\n",
       "      <td>0</td>\n",
       "      <td>0</td>\n",
       "      <td>1</td>\n",
       "      <td>...</td>\n",
       "      <td>0</td>\n",
       "      <td>0</td>\n",
       "      <td>0</td>\n",
       "      <td>0</td>\n",
       "      <td>28</td>\n",
       "      <td>0</td>\n",
       "      <td>0</td>\n",
       "      <td>0</td>\n",
       "      <td>0</td>\n",
       "      <td>0.0</td>\n",
       "    </tr>\n",
       "  </tbody>\n",
       "</table>\n",
       "<p>2 rows × 28 columns</p>\n",
       "</div>"
      ],
      "text/plain": [
       "                                         description  label_plaquette  \\\n",
       "0  12 sachet(s) papier aluminium polyéthylène de ...                0   \n",
       "1  plaquette(s) thermoformée(s) (ACLAR RX) polytr...                1   \n",
       "\n",
       "   label_ampoule  label_flacon  label_tube  label_stylo  label_seringue  \\\n",
       "0              0             0           0            0               0   \n",
       "1              0             0           0            0               0   \n",
       "\n",
       "   label_pilulier  label_sachet  label_comprime  ...  count_stylo  \\\n",
       "0               0             1               0  ...            0   \n",
       "1               0             0               1  ...            0   \n",
       "\n",
       "   count_seringue  count_pilulier  count_sachet  count_comprime  count_gelule  \\\n",
       "0               0               0            12               0             0   \n",
       "1               0               0             0              28             0   \n",
       "\n",
       "   count_film  count_poche  count_capsule  count_ml  \n",
       "0           0            0              0       0.0  \n",
       "1           0            0              0       0.0  \n",
       "\n",
       "[2 rows x 28 columns]"
      ]
     },
     "execution_count": 239,
     "metadata": {},
     "output_type": "execute_result"
    }
   ],
   "source": [
    "features.head(2)"
   ]
  },
  {
   "cell_type": "code",
   "execution_count": 243,
   "id": "1247acc8-d91a-4067-92a7-079d4494c92d",
   "metadata": {},
   "outputs": [
    {
     "name": "stdout",
     "output_type": "stream",
     "text": [
      "12 sachet(s) papier aluminium polyéthylène de 0,52  g\n",
      "==========\n",
      "plaquette(s) thermoformée(s) (ACLAR RX) polytrifluorochloroéthylène de 28 comprimé(s) (distributeur parallèle : PHARMA LAB)\n",
      "==========\n",
      "tube(s) polypropylène dioxyde de titane de 30 comprimé(s)\n",
      "==========\n",
      "plaquette(s) thermoformée(s) polyamide aluminium PVC de 20 comprimé(s)\n",
      "==========\n",
      "1 flacon(s) pressurisé(e)(s) aluminium de 120  dose(s) avec valve(s) doseuse(s) polypropylène\n",
      "==========\n",
      "1 flacon(s) polyéthylène poudreur(se)(s) de 30  g\n",
      "==========\n",
      "1 poche(s) polypropylène SIS : styrène-isoprène-styrène styrène éthylène butadiène suremballée(s)/surpochée(s) de 1000 ml avec site d'addition Luer Lock\n",
      "==========\n",
      "plaquette(s) PVC-Aluminium de 100 comprimé(s)\n",
      "==========\n",
      "flacon(s) en verre de 160 ml avec fermeture de sécurité avec seringue(s) pour administration orale polypropylène avec gobelet(s) doseur(s) polypropylène\n",
      "==========\n",
      "2 seringue(s) préremplie(s) en verre de 0,8 ml\n",
      "==========\n"
     ]
    }
   ],
   "source": [
    "for i, f in features.head(10).iterrows():\n",
    "    print(f.description)\n",
    "    print(\"=\"*10)"
   ]
  },
  {
   "cell_type": "code",
   "execution_count": 11,
   "id": "1ca83526-fbf8-4fee-8773-7798951a32ac",
   "metadata": {},
   "outputs": [
    {
     "data": {
      "text/plain": [
       "(3010, 28)"
      ]
     },
     "execution_count": 11,
     "metadata": {},
     "output_type": "execute_result"
    }
   ],
   "source": [
    "features.shape"
   ]
  },
  {
   "cell_type": "code",
   "execution_count": 270,
   "id": "482dadbe-3ad1-47bd-b562-2938c22c57dd",
   "metadata": {},
   "outputs": [],
   "source": [
    "ingredients = pd.read_csv(\"active_ingredients.csv\")"
   ]
  },
  {
   "cell_type": "code",
   "execution_count": 13,
   "id": "8ed2eaff-d5a0-46bc-9d96-cb89a1d04a27",
   "metadata": {},
   "outputs": [
    {
     "data": {
      "text/html": [
       "<div>\n",
       "<style scoped>\n",
       "    .dataframe tbody tr th:only-of-type {\n",
       "        vertical-align: middle;\n",
       "    }\n",
       "\n",
       "    .dataframe tbody tr th {\n",
       "        vertical-align: top;\n",
       "    }\n",
       "\n",
       "    .dataframe thead th {\n",
       "        text-align: right;\n",
       "    }\n",
       "</style>\n",
       "<table border=\"1\" class=\"dataframe\">\n",
       "  <thead>\n",
       "    <tr style=\"text-align: right;\">\n",
       "      <th></th>\n",
       "      <th>drug_id</th>\n",
       "      <th>active_ingredient</th>\n",
       "    </tr>\n",
       "  </thead>\n",
       "  <tbody>\n",
       "    <tr>\n",
       "      <th>0</th>\n",
       "      <td>0_train</td>\n",
       "      <td>DÉSOGESTREL</td>\n",
       "    </tr>\n",
       "    <tr>\n",
       "      <th>1</th>\n",
       "      <td>1_train</td>\n",
       "      <td>MONTÉLUKAST ACIDE</td>\n",
       "    </tr>\n",
       "    <tr>\n",
       "      <th>2</th>\n",
       "      <td>1_train</td>\n",
       "      <td>MONTÉLUKAST SODIQUE</td>\n",
       "    </tr>\n",
       "    <tr>\n",
       "      <th>3</th>\n",
       "      <td>2_train</td>\n",
       "      <td>CHLORHYDRATE DE DILTIAZEM</td>\n",
       "    </tr>\n",
       "    <tr>\n",
       "      <th>4</th>\n",
       "      <td>3_train</td>\n",
       "      <td>ACIDE VALPROÏQUE</td>\n",
       "    </tr>\n",
       "    <tr>\n",
       "      <th>...</th>\n",
       "      <td>...</td>\n",
       "      <td>...</td>\n",
       "    </tr>\n",
       "    <tr>\n",
       "      <th>19842</th>\n",
       "      <td>3668_test</td>\n",
       "      <td>PANTOPRAZOLE</td>\n",
       "    </tr>\n",
       "    <tr>\n",
       "      <th>19843</th>\n",
       "      <td>3669_test</td>\n",
       "      <td>ACIDE ZOLÉDRONIQUE ANHYDRE</td>\n",
       "    </tr>\n",
       "    <tr>\n",
       "      <th>19844</th>\n",
       "      <td>3669_test</td>\n",
       "      <td>ACIDE ZOLÉDRONIQUE MONOHYDRATÉ</td>\n",
       "    </tr>\n",
       "    <tr>\n",
       "      <th>19845</th>\n",
       "      <td>3670_test</td>\n",
       "      <td>CONCENTRAT DE VITAMINE A SYNTHÉTIQUE</td>\n",
       "    </tr>\n",
       "    <tr>\n",
       "      <th>19846</th>\n",
       "      <td>3670_test</td>\n",
       "      <td>FORME HUILEUSE</td>\n",
       "    </tr>\n",
       "  </tbody>\n",
       "</table>\n",
       "<p>19847 rows × 2 columns</p>\n",
       "</div>"
      ],
      "text/plain": [
       "         drug_id                     active_ingredient\n",
       "0        0_train                           DÉSOGESTREL\n",
       "1        1_train                     MONTÉLUKAST ACIDE\n",
       "2        1_train                   MONTÉLUKAST SODIQUE\n",
       "3        2_train             CHLORHYDRATE DE DILTIAZEM\n",
       "4        3_train                      ACIDE VALPROÏQUE\n",
       "...          ...                                   ...\n",
       "19842  3668_test                          PANTOPRAZOLE\n",
       "19843  3669_test            ACIDE ZOLÉDRONIQUE ANHYDRE\n",
       "19844  3669_test        ACIDE ZOLÉDRONIQUE MONOHYDRATÉ\n",
       "19845  3670_test  CONCENTRAT DE VITAMINE A SYNTHÉTIQUE\n",
       "19846  3670_test                        FORME HUILEUSE\n",
       "\n",
       "[19847 rows x 2 columns]"
      ]
     },
     "execution_count": 13,
     "metadata": {},
     "output_type": "execute_result"
    }
   ],
   "source": [
    "ingredients"
   ]
  },
  {
   "cell_type": "code",
   "execution_count": 14,
   "id": "19b50e7c-ed62-433b-9929-9805f40d5ad9",
   "metadata": {},
   "outputs": [],
   "source": [
    "test_df = pd.read_csv(\"drugs_test.csv\")"
   ]
  },
  {
   "cell_type": "code",
   "execution_count": 15,
   "id": "1239615a-fea6-4598-bc25-b93c1641e9a3",
   "metadata": {},
   "outputs": [
    {
     "data": {
      "text/html": [
       "<div>\n",
       "<style scoped>\n",
       "    .dataframe tbody tr th:only-of-type {\n",
       "        vertical-align: middle;\n",
       "    }\n",
       "\n",
       "    .dataframe tbody tr th {\n",
       "        vertical-align: top;\n",
       "    }\n",
       "\n",
       "    .dataframe thead th {\n",
       "        text-align: right;\n",
       "    }\n",
       "</style>\n",
       "<table border=\"1\" class=\"dataframe\">\n",
       "  <thead>\n",
       "    <tr style=\"text-align: right;\">\n",
       "      <th></th>\n",
       "      <th>drug_id</th>\n",
       "      <th>description</th>\n",
       "      <th>administrative_status</th>\n",
       "      <th>marketing_status</th>\n",
       "      <th>approved_for_hospital_use</th>\n",
       "      <th>reimbursement_rate</th>\n",
       "      <th>dosage_form</th>\n",
       "      <th>route_of_administration</th>\n",
       "      <th>marketing_authorization_status</th>\n",
       "      <th>marketing_declaration_date</th>\n",
       "      <th>marketing_authorization_date</th>\n",
       "      <th>marketing_authorization_process</th>\n",
       "      <th>pharmaceutical_companies</th>\n",
       "    </tr>\n",
       "  </thead>\n",
       "  <tbody>\n",
       "    <tr>\n",
       "      <th>0</th>\n",
       "      <td>0_test</td>\n",
       "      <td>plaquette(s) thermoformée(s) polyamide alumini...</td>\n",
       "      <td>Présentation active</td>\n",
       "      <td>Déclaration d'arrêt de commercialisation</td>\n",
       "      <td>non</td>\n",
       "      <td>65%</td>\n",
       "      <td>comprimé gastro-résistant(e)</td>\n",
       "      <td>orale</td>\n",
       "      <td>Autorisation active</td>\n",
       "      <td>20130101</td>\n",
       "      <td>20080101</td>\n",
       "      <td>Procédure de reconnaissance mutuelle</td>\n",
       "      <td>TEVA SANTE</td>\n",
       "    </tr>\n",
       "    <tr>\n",
       "      <th>1</th>\n",
       "      <td>1_test</td>\n",
       "      <td>plaquette(s) thermoformée(s) PVC PVDC aluminiu...</td>\n",
       "      <td>Présentation active</td>\n",
       "      <td>Déclaration de commercialisation</td>\n",
       "      <td>non</td>\n",
       "      <td>30%</td>\n",
       "      <td>capsule</td>\n",
       "      <td>vaginale</td>\n",
       "      <td>Autorisation active</td>\n",
       "      <td>20120101</td>\n",
       "      <td>19970101</td>\n",
       "      <td>Procédure nationale</td>\n",
       "      <td>INNOTECH INTERNATIONAL</td>\n",
       "    </tr>\n",
       "  </tbody>\n",
       "</table>\n",
       "</div>"
      ],
      "text/plain": [
       "  drug_id                                        description  \\\n",
       "0  0_test  plaquette(s) thermoformée(s) polyamide alumini...   \n",
       "1  1_test  plaquette(s) thermoformée(s) PVC PVDC aluminiu...   \n",
       "\n",
       "  administrative_status                          marketing_status  \\\n",
       "0   Présentation active  Déclaration d'arrêt de commercialisation   \n",
       "1   Présentation active          Déclaration de commercialisation   \n",
       "\n",
       "  approved_for_hospital_use reimbursement_rate                   dosage_form  \\\n",
       "0                       non                65%  comprimé gastro-résistant(e)   \n",
       "1                       non                30%                       capsule   \n",
       "\n",
       "  route_of_administration marketing_authorization_status  \\\n",
       "0                   orale            Autorisation active   \n",
       "1                vaginale            Autorisation active   \n",
       "\n",
       "   marketing_declaration_date  marketing_authorization_date  \\\n",
       "0                    20130101                      20080101   \n",
       "1                    20120101                      19970101   \n",
       "\n",
       "        marketing_authorization_process pharmaceutical_companies  \n",
       "0  Procédure de reconnaissance mutuelle               TEVA SANTE  \n",
       "1                   Procédure nationale   INNOTECH INTERNATIONAL  "
      ]
     },
     "execution_count": 15,
     "metadata": {},
     "output_type": "execute_result"
    }
   ],
   "source": [
    "test_df.head(2)"
   ]
  },
  {
   "cell_type": "code",
   "execution_count": null,
   "id": "0a9c2a95-d104-45ff-830d-b6ea53430327",
   "metadata": {},
   "outputs": [],
   "source": [
    "# Year and companyfeature\n",
    "mean_price = X_train.groupby(\"company_year\").price.mean()\n",
    "median_price = X_train.groupby(\"company_year\").price.median()\n",
    "qauntile_75_price = X_train.groupby(\"company_year\").price.quantile(0.75)\n",
    "X_train[\"company_year_mean\"] = X_train[\"company_year\"].map(mean_price)\n",
    "X_test[\"company_year_mean\"] = X_test[\"company_year\"].map(mean_price)\n",
    "X_train[\"company_year_median\"] = X_train[\"company_year\"].map(median_price)\n",
    "X_test[\"company_year_median\"] = X_test[\"company_year\"].map(median_price)\n",
    "X_train[\"company_year_q75\"] = X_train[\"company_year\"].map(qauntile_75_price)\n",
    "X_test[\"company_year_q75\"] = X_test[\"company_year\"].map(qauntile_75_price)\n"
   ]
  }
 ],
 "metadata": {
  "kernelspec": {
   "display_name": "Python 3 (ipykernel)",
   "language": "python",
   "name": "python3"
  },
  "language_info": {
   "codemirror_mode": {
    "name": "ipython",
    "version": 3
   },
   "file_extension": ".py",
   "mimetype": "text/x-python",
   "name": "python",
   "nbconvert_exporter": "python",
   "pygments_lexer": "ipython3",
   "version": "3.8.10"
  }
 },
 "nbformat": 4,
 "nbformat_minor": 5
}
