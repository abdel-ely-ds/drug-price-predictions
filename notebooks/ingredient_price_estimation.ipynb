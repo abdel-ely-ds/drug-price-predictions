{
 "cells": [
  {
   "cell_type": "code",
   "execution_count": 88,
   "id": "dcd6491f-a8d3-47a5-bc59-070805bf168e",
   "metadata": {},
   "outputs": [],
   "source": [
    "import pandas as pd\n",
    "import numpy as np\n",
    "import xgboost as xgb\n",
    "import warnings\n",
    "warnings.filterwarnings(\"ignore\")"
   ]
  },
  {
   "cell_type": "code",
   "execution_count": 89,
   "id": "53e40fb1-f7a5-455c-9431-4d4c6f141153",
   "metadata": {},
   "outputs": [],
   "source": [
    "df = pd.read_csv(\"../data/drugs_train.csv\")"
   ]
  },
  {
   "cell_type": "code",
   "execution_count": 90,
   "id": "b193d3d3-8d18-428a-8df8-403b9453ef3f",
   "metadata": {},
   "outputs": [],
   "source": [
    "df_ing = pd.read_csv(\"../data/active_ingredients.csv\")"
   ]
  },
  {
   "cell_type": "code",
   "execution_count": 91,
   "id": "02a5c17a-bd18-4392-8cd5-fa536b107067",
   "metadata": {},
   "outputs": [
    {
     "data": {
      "text/html": [
       "<div>\n",
       "<style scoped>\n",
       "    .dataframe tbody tr th:only-of-type {\n",
       "        vertical-align: middle;\n",
       "    }\n",
       "\n",
       "    .dataframe tbody tr th {\n",
       "        vertical-align: top;\n",
       "    }\n",
       "\n",
       "    .dataframe thead th {\n",
       "        text-align: right;\n",
       "    }\n",
       "</style>\n",
       "<table border=\"1\" class=\"dataframe\">\n",
       "  <thead>\n",
       "    <tr style=\"text-align: right;\">\n",
       "      <th></th>\n",
       "      <th>drug_id</th>\n",
       "      <th>description</th>\n",
       "      <th>administrative_status</th>\n",
       "      <th>marketing_status</th>\n",
       "      <th>approved_for_hospital_use</th>\n",
       "      <th>reimbursement_rate</th>\n",
       "      <th>dosage_form</th>\n",
       "      <th>route_of_administration</th>\n",
       "      <th>marketing_authorization_status</th>\n",
       "      <th>marketing_declaration_date</th>\n",
       "      <th>marketing_authorization_date</th>\n",
       "      <th>marketing_authorization_process</th>\n",
       "      <th>pharmaceutical_companies</th>\n",
       "      <th>price</th>\n",
       "    </tr>\n",
       "  </thead>\n",
       "  <tbody>\n",
       "    <tr>\n",
       "      <th>0</th>\n",
       "      <td>0_train</td>\n",
       "      <td>3 plaquette(s) thermoformée(s) PVC-Aluminium d...</td>\n",
       "      <td>Présentation active</td>\n",
       "      <td>Déclaration de commercialisation</td>\n",
       "      <td>oui</td>\n",
       "      <td>65%</td>\n",
       "      <td>comprimé pelliculé</td>\n",
       "      <td>orale</td>\n",
       "      <td>Autorisation active</td>\n",
       "      <td>20140101</td>\n",
       "      <td>20140101</td>\n",
       "      <td>Procédure décentralisée</td>\n",
       "      <td>MAJORELLE LUXEMBOURG SOPARFI (LUXEMBOURG)</td>\n",
       "      <td>2.83</td>\n",
       "    </tr>\n",
       "    <tr>\n",
       "      <th>1</th>\n",
       "      <td>1_train</td>\n",
       "      <td>plaquette(s) thermoformée(s) aluminium de 28 c...</td>\n",
       "      <td>Présentation active</td>\n",
       "      <td>Déclaration de commercialisation</td>\n",
       "      <td>oui</td>\n",
       "      <td>65%</td>\n",
       "      <td>comprimé à croquer</td>\n",
       "      <td>orale</td>\n",
       "      <td>Autorisation active</td>\n",
       "      <td>20130101</td>\n",
       "      <td>20090101</td>\n",
       "      <td>Procédure de reconnaissance mutuelle</td>\n",
       "      <td>TEVA SANTE</td>\n",
       "      <td>14.30</td>\n",
       "    </tr>\n",
       "  </tbody>\n",
       "</table>\n",
       "</div>"
      ],
      "text/plain": [
       "   drug_id                                        description  \\\n",
       "0  0_train  3 plaquette(s) thermoformée(s) PVC-Aluminium d...   \n",
       "1  1_train  plaquette(s) thermoformée(s) aluminium de 28 c...   \n",
       "\n",
       "  administrative_status                  marketing_status  \\\n",
       "0   Présentation active  Déclaration de commercialisation   \n",
       "1   Présentation active  Déclaration de commercialisation   \n",
       "\n",
       "  approved_for_hospital_use reimbursement_rate         dosage_form  \\\n",
       "0                       oui                65%  comprimé pelliculé   \n",
       "1                       oui                65%  comprimé à croquer   \n",
       "\n",
       "  route_of_administration marketing_authorization_status  \\\n",
       "0                   orale            Autorisation active   \n",
       "1                   orale            Autorisation active   \n",
       "\n",
       "   marketing_declaration_date  marketing_authorization_date  \\\n",
       "0                    20140101                      20140101   \n",
       "1                    20130101                      20090101   \n",
       "\n",
       "        marketing_authorization_process  \\\n",
       "0               Procédure décentralisée   \n",
       "1  Procédure de reconnaissance mutuelle   \n",
       "\n",
       "                     pharmaceutical_companies  price  \n",
       "0   MAJORELLE LUXEMBOURG SOPARFI (LUXEMBOURG)   2.83  \n",
       "1                                  TEVA SANTE  14.30  "
      ]
     },
     "execution_count": 91,
     "metadata": {},
     "output_type": "execute_result"
    }
   ],
   "source": [
    "df.head(2)"
   ]
  },
  {
   "cell_type": "code",
   "execution_count": 92,
   "id": "ef838a10-917a-4a94-822d-aa08580e3cc9",
   "metadata": {},
   "outputs": [
    {
     "data": {
      "text/html": [
       "<div>\n",
       "<style scoped>\n",
       "    .dataframe tbody tr th:only-of-type {\n",
       "        vertical-align: middle;\n",
       "    }\n",
       "\n",
       "    .dataframe tbody tr th {\n",
       "        vertical-align: top;\n",
       "    }\n",
       "\n",
       "    .dataframe thead th {\n",
       "        text-align: right;\n",
       "    }\n",
       "</style>\n",
       "<table border=\"1\" class=\"dataframe\">\n",
       "  <thead>\n",
       "    <tr style=\"text-align: right;\">\n",
       "      <th></th>\n",
       "      <th>drug_id</th>\n",
       "      <th>active_ingredient</th>\n",
       "    </tr>\n",
       "  </thead>\n",
       "  <tbody>\n",
       "    <tr>\n",
       "      <th>0</th>\n",
       "      <td>0_train</td>\n",
       "      <td>DÉSOGESTREL</td>\n",
       "    </tr>\n",
       "    <tr>\n",
       "      <th>1</th>\n",
       "      <td>1_train</td>\n",
       "      <td>MONTÉLUKAST ACIDE</td>\n",
       "    </tr>\n",
       "  </tbody>\n",
       "</table>\n",
       "</div>"
      ],
      "text/plain": [
       "   drug_id  active_ingredient\n",
       "0  0_train        DÉSOGESTREL\n",
       "1  1_train  MONTÉLUKAST ACIDE"
      ]
     },
     "execution_count": 92,
     "metadata": {},
     "output_type": "execute_result"
    }
   ],
   "source": [
    "df_ing.head(2)"
   ]
  },
  {
   "cell_type": "code",
   "execution_count": 133,
   "id": "7987d983-bd18-4816-8d9d-d112a10026a9",
   "metadata": {},
   "outputs": [
    {
     "data": {
      "text/plain": [
       "['highgh']"
      ]
     },
     "execution_count": 133,
     "metadata": {},
     "output_type": "execute_result"
    }
   ],
   "source": [
    "\"highgh\".split(\" \")"
   ]
  },
  {
   "cell_type": "code",
   "execution_count": 93,
   "id": "71476429-f2c9-4c47-b0ac-579407eb1a61",
   "metadata": {},
   "outputs": [],
   "source": [
    "df_ing = df_ing[df_ing.drug_id.str.contains(\"train\")]"
   ]
  },
  {
   "cell_type": "code",
   "execution_count": 94,
   "id": "7ada966c-6cd3-45d1-b96d-34030dd63531",
   "metadata": {},
   "outputs": [],
   "source": [
    "def split_or_keep(s):\n",
    "    if \" \" in s:\n",
    "        return s.split(\" \")[0]\n",
    "    return s"
   ]
  },
  {
   "cell_type": "code",
   "execution_count": 95,
   "id": "b7f0dfde-f6de-47cf-aeb3-ec0e69d36a71",
   "metadata": {},
   "outputs": [],
   "source": [
    "df_ing.active_ingredient = df_ing.active_ingredient.str.strip()\n",
    "df_ing.active_ingredient = df_ing.active_ingredient.map(split_or_keep)"
   ]
  },
  {
   "cell_type": "code",
   "execution_count": 96,
   "id": "98e06223-2bdb-4aae-a4f3-0f1d267c2049",
   "metadata": {},
   "outputs": [
    {
     "data": {
      "text/html": [
       "<div>\n",
       "<style scoped>\n",
       "    .dataframe tbody tr th:only-of-type {\n",
       "        vertical-align: middle;\n",
       "    }\n",
       "\n",
       "    .dataframe tbody tr th {\n",
       "        vertical-align: top;\n",
       "    }\n",
       "\n",
       "    .dataframe thead th {\n",
       "        text-align: right;\n",
       "    }\n",
       "</style>\n",
       "<table border=\"1\" class=\"dataframe\">\n",
       "  <thead>\n",
       "    <tr style=\"text-align: right;\">\n",
       "      <th></th>\n",
       "      <th>drug_id</th>\n",
       "      <th>active_ingredient</th>\n",
       "    </tr>\n",
       "  </thead>\n",
       "  <tbody>\n",
       "    <tr>\n",
       "      <th>0</th>\n",
       "      <td>0_train</td>\n",
       "      <td>DÉSOGESTREL</td>\n",
       "    </tr>\n",
       "    <tr>\n",
       "      <th>1</th>\n",
       "      <td>1_train</td>\n",
       "      <td>MONTÉLUKAST</td>\n",
       "    </tr>\n",
       "  </tbody>\n",
       "</table>\n",
       "</div>"
      ],
      "text/plain": [
       "   drug_id active_ingredient\n",
       "0  0_train       DÉSOGESTREL\n",
       "1  1_train       MONTÉLUKAST"
      ]
     },
     "execution_count": 96,
     "metadata": {},
     "output_type": "execute_result"
    }
   ],
   "source": [
    "df_ing.head(2)"
   ]
  },
  {
   "cell_type": "code",
   "execution_count": 97,
   "id": "2f93e32b-b73e-4e3d-b89f-9f39046532f6",
   "metadata": {},
   "outputs": [],
   "source": [
    "from sklearn.model_selection import train_test_split\n",
    "X_train, X_test = train_test_split(df, random_state=40, test_size=0.2)"
   ]
  },
  {
   "cell_type": "code",
   "execution_count": 98,
   "id": "67516ea4-76ca-454e-8b63-f9a8d93c6103",
   "metadata": {},
   "outputs": [],
   "source": [
    "df_ing_train = df_ing[df_ing.drug_id.isin(X_train.drug_id)]\n",
    "df_ing_test = df_ing[df_ing.drug_id.isin(X_test.drug_id)]"
   ]
  },
  {
   "cell_type": "markdown",
   "id": "06ae1899-26f4-400a-a956-19bba5908c9b",
   "metadata": {},
   "source": [
    "## Ingredient price estimation"
   ]
  },
  {
   "cell_type": "code",
   "execution_count": 99,
   "id": "acf3a7d9-75f6-4f1f-8f2f-483020783ef9",
   "metadata": {
    "tags": []
   },
   "outputs": [],
   "source": [
    "df_ing_train[\"ing_count\"] = df_ing_train.groupby(\"drug_id\").active_ingredient.transform(\"nunique\")\n",
    "df_ing_train[\"price\"] = df_ing_train.drug_id.map(X_train.set_index(\"drug_id\").price)\n",
    "df_ing_train[\"ing_price\"] = df_ing_train.price / df_ing_train.ing_count"
   ]
  },
  {
   "cell_type": "code",
   "execution_count": 100,
   "id": "d4fc736b-fe7d-4e84-9cf7-6df60425187c",
   "metadata": {},
   "outputs": [
    {
     "data": {
      "text/html": [
       "<div>\n",
       "<style scoped>\n",
       "    .dataframe tbody tr th:only-of-type {\n",
       "        vertical-align: middle;\n",
       "    }\n",
       "\n",
       "    .dataframe tbody tr th {\n",
       "        vertical-align: top;\n",
       "    }\n",
       "\n",
       "    .dataframe thead th {\n",
       "        text-align: right;\n",
       "    }\n",
       "</style>\n",
       "<table border=\"1\" class=\"dataframe\">\n",
       "  <thead>\n",
       "    <tr style=\"text-align: right;\">\n",
       "      <th></th>\n",
       "      <th>drug_id</th>\n",
       "      <th>active_ingredient</th>\n",
       "      <th>ing_count</th>\n",
       "      <th>price</th>\n",
       "      <th>ing_price</th>\n",
       "    </tr>\n",
       "  </thead>\n",
       "  <tbody>\n",
       "    <tr>\n",
       "      <th>3</th>\n",
       "      <td>2_train</td>\n",
       "      <td>CHLORHYDRATE</td>\n",
       "      <td>1</td>\n",
       "      <td>5.66</td>\n",
       "      <td>5.66</td>\n",
       "    </tr>\n",
       "    <tr>\n",
       "      <th>6</th>\n",
       "      <td>4_train</td>\n",
       "      <td>LÉTROZOLE</td>\n",
       "      <td>1</td>\n",
       "      <td>59.94</td>\n",
       "      <td>59.94</td>\n",
       "    </tr>\n",
       "    <tr>\n",
       "      <th>7</th>\n",
       "      <td>5_train</td>\n",
       "      <td>FLUTAMIDE</td>\n",
       "      <td>1</td>\n",
       "      <td>27.17</td>\n",
       "      <td>27.17</td>\n",
       "    </tr>\n",
       "    <tr>\n",
       "      <th>8</th>\n",
       "      <td>6_train</td>\n",
       "      <td>BEXAROTÈNE</td>\n",
       "      <td>1</td>\n",
       "      <td>877.83</td>\n",
       "      <td>877.83</td>\n",
       "    </tr>\n",
       "    <tr>\n",
       "      <th>9</th>\n",
       "      <td>7_train</td>\n",
       "      <td>GLIMÉPIRIDE</td>\n",
       "      <td>1</td>\n",
       "      <td>6.58</td>\n",
       "      <td>6.58</td>\n",
       "    </tr>\n",
       "    <tr>\n",
       "      <th>10</th>\n",
       "      <td>8_train</td>\n",
       "      <td>MALÉATE</td>\n",
       "      <td>1</td>\n",
       "      <td>18.63</td>\n",
       "      <td>18.63</td>\n",
       "    </tr>\n",
       "  </tbody>\n",
       "</table>\n",
       "</div>"
      ],
      "text/plain": [
       "    drug_id active_ingredient  ing_count   price  ing_price\n",
       "3   2_train      CHLORHYDRATE          1    5.66       5.66\n",
       "6   4_train         LÉTROZOLE          1   59.94      59.94\n",
       "7   5_train         FLUTAMIDE          1   27.17      27.17\n",
       "8   6_train        BEXAROTÈNE          1  877.83     877.83\n",
       "9   7_train       GLIMÉPIRIDE          1    6.58       6.58\n",
       "10  8_train           MALÉATE          1   18.63      18.63"
      ]
     },
     "execution_count": 100,
     "metadata": {},
     "output_type": "execute_result"
    }
   ],
   "source": [
    "df_ing_train.head(6)"
   ]
  },
  {
   "cell_type": "code",
   "execution_count": 101,
   "id": "4cc3fe67-f50e-44e3-9ee0-54aae7ae3612",
   "metadata": {
    "tags": []
   },
   "outputs": [],
   "source": [
    "df_ing_train[\"ing_feature\"] = df_ing_train.groupby(\"active_ingredient\").ing_price.transform(\"mean\")"
   ]
  },
  {
   "cell_type": "code",
   "execution_count": 102,
   "id": "70d32f73-0f42-48b8-aa9d-0ff8b674b0d5",
   "metadata": {},
   "outputs": [
    {
     "data": {
      "text/html": [
       "<div>\n",
       "<style scoped>\n",
       "    .dataframe tbody tr th:only-of-type {\n",
       "        vertical-align: middle;\n",
       "    }\n",
       "\n",
       "    .dataframe tbody tr th {\n",
       "        vertical-align: top;\n",
       "    }\n",
       "\n",
       "    .dataframe thead th {\n",
       "        text-align: right;\n",
       "    }\n",
       "</style>\n",
       "<table border=\"1\" class=\"dataframe\">\n",
       "  <thead>\n",
       "    <tr style=\"text-align: right;\">\n",
       "      <th></th>\n",
       "      <th>drug_id</th>\n",
       "      <th>active_ingredient</th>\n",
       "      <th>ing_count</th>\n",
       "      <th>price</th>\n",
       "      <th>ing_price</th>\n",
       "      <th>ing_feature</th>\n",
       "    </tr>\n",
       "  </thead>\n",
       "  <tbody>\n",
       "    <tr>\n",
       "      <th>3</th>\n",
       "      <td>2_train</td>\n",
       "      <td>CHLORHYDRATE</td>\n",
       "      <td>1</td>\n",
       "      <td>5.66</td>\n",
       "      <td>5.66</td>\n",
       "      <td>9.379887</td>\n",
       "    </tr>\n",
       "    <tr>\n",
       "      <th>6</th>\n",
       "      <td>4_train</td>\n",
       "      <td>LÉTROZOLE</td>\n",
       "      <td>1</td>\n",
       "      <td>59.94</td>\n",
       "      <td>59.94</td>\n",
       "      <td>63.621818</td>\n",
       "    </tr>\n",
       "    <tr>\n",
       "      <th>7</th>\n",
       "      <td>5_train</td>\n",
       "      <td>FLUTAMIDE</td>\n",
       "      <td>1</td>\n",
       "      <td>27.17</td>\n",
       "      <td>27.17</td>\n",
       "      <td>27.170000</td>\n",
       "    </tr>\n",
       "    <tr>\n",
       "      <th>8</th>\n",
       "      <td>6_train</td>\n",
       "      <td>BEXAROTÈNE</td>\n",
       "      <td>1</td>\n",
       "      <td>877.83</td>\n",
       "      <td>877.83</td>\n",
       "      <td>877.830000</td>\n",
       "    </tr>\n",
       "    <tr>\n",
       "      <th>9</th>\n",
       "      <td>7_train</td>\n",
       "      <td>GLIMÉPIRIDE</td>\n",
       "      <td>1</td>\n",
       "      <td>6.58</td>\n",
       "      <td>6.58</td>\n",
       "      <td>9.660000</td>\n",
       "    </tr>\n",
       "    <tr>\n",
       "      <th>10</th>\n",
       "      <td>8_train</td>\n",
       "      <td>MALÉATE</td>\n",
       "      <td>1</td>\n",
       "      <td>18.63</td>\n",
       "      <td>18.63</td>\n",
       "      <td>5.070337</td>\n",
       "    </tr>\n",
       "    <tr>\n",
       "      <th>11</th>\n",
       "      <td>9_train</td>\n",
       "      <td>CEFPODOXIME</td>\n",
       "      <td>1</td>\n",
       "      <td>6.13</td>\n",
       "      <td>6.13</td>\n",
       "      <td>5.261512</td>\n",
       "    </tr>\n",
       "    <tr>\n",
       "      <th>12</th>\n",
       "      <td>9_train</td>\n",
       "      <td>CEFPODOXIME</td>\n",
       "      <td>1</td>\n",
       "      <td>6.13</td>\n",
       "      <td>6.13</td>\n",
       "      <td>5.261512</td>\n",
       "    </tr>\n",
       "    <tr>\n",
       "      <th>13</th>\n",
       "      <td>10_train</td>\n",
       "      <td>ESTRADIOL</td>\n",
       "      <td>1</td>\n",
       "      <td>6.25</td>\n",
       "      <td>6.25</td>\n",
       "      <td>4.263617</td>\n",
       "    </tr>\n",
       "    <tr>\n",
       "      <th>14</th>\n",
       "      <td>10_train</td>\n",
       "      <td>ESTRADIOL</td>\n",
       "      <td>1</td>\n",
       "      <td>6.25</td>\n",
       "      <td>6.25</td>\n",
       "      <td>4.263617</td>\n",
       "    </tr>\n",
       "  </tbody>\n",
       "</table>\n",
       "</div>"
      ],
      "text/plain": [
       "     drug_id active_ingredient  ing_count   price  ing_price  ing_feature\n",
       "3    2_train      CHLORHYDRATE          1    5.66       5.66     9.379887\n",
       "6    4_train         LÉTROZOLE          1   59.94      59.94    63.621818\n",
       "7    5_train         FLUTAMIDE          1   27.17      27.17    27.170000\n",
       "8    6_train        BEXAROTÈNE          1  877.83     877.83   877.830000\n",
       "9    7_train       GLIMÉPIRIDE          1    6.58       6.58     9.660000\n",
       "10   8_train           MALÉATE          1   18.63      18.63     5.070337\n",
       "11   9_train       CEFPODOXIME          1    6.13       6.13     5.261512\n",
       "12   9_train       CEFPODOXIME          1    6.13       6.13     5.261512\n",
       "13  10_train         ESTRADIOL          1    6.25       6.25     4.263617\n",
       "14  10_train         ESTRADIOL          1    6.25       6.25     4.263617"
      ]
     },
     "execution_count": 102,
     "metadata": {},
     "output_type": "execute_result"
    }
   ],
   "source": [
    "df_ing_train.head(10)"
   ]
  },
  {
   "cell_type": "code",
   "execution_count": 103,
   "id": "40e2e33a-aa31-4588-94fe-3f9bbee91ed6",
   "metadata": {},
   "outputs": [],
   "source": [
    "ing_price_map = df_ing_train.groupby(\"active_ingredient\").ing_price.mean()"
   ]
  },
  {
   "cell_type": "code",
   "execution_count": 104,
   "id": "643396ba-615c-4861-80da-21288f68b267",
   "metadata": {},
   "outputs": [],
   "source": [
    "df_ing_test[\"ing_feature\"] = df_ing_test.active_ingredient.map(ing_price_map)"
   ]
  },
  {
   "cell_type": "code",
   "execution_count": 105,
   "id": "0791313a-5676-4443-a14f-750bf3afff84",
   "metadata": {},
   "outputs": [
    {
     "data": {
      "text/html": [
       "<div>\n",
       "<style scoped>\n",
       "    .dataframe tbody tr th:only-of-type {\n",
       "        vertical-align: middle;\n",
       "    }\n",
       "\n",
       "    .dataframe tbody tr th {\n",
       "        vertical-align: top;\n",
       "    }\n",
       "\n",
       "    .dataframe thead th {\n",
       "        text-align: right;\n",
       "    }\n",
       "</style>\n",
       "<table border=\"1\" class=\"dataframe\">\n",
       "  <thead>\n",
       "    <tr style=\"text-align: right;\">\n",
       "      <th></th>\n",
       "      <th>drug_id</th>\n",
       "      <th>active_ingredient</th>\n",
       "      <th>ing_feature</th>\n",
       "    </tr>\n",
       "  </thead>\n",
       "  <tbody>\n",
       "    <tr>\n",
       "      <th>0</th>\n",
       "      <td>0_train</td>\n",
       "      <td>DÉSOGESTREL</td>\n",
       "      <td>2.154000</td>\n",
       "    </tr>\n",
       "    <tr>\n",
       "      <th>1</th>\n",
       "      <td>1_train</td>\n",
       "      <td>MONTÉLUKAST</td>\n",
       "      <td>15.502439</td>\n",
       "    </tr>\n",
       "    <tr>\n",
       "      <th>2</th>\n",
       "      <td>1_train</td>\n",
       "      <td>MONTÉLUKAST</td>\n",
       "      <td>15.502439</td>\n",
       "    </tr>\n",
       "    <tr>\n",
       "      <th>4</th>\n",
       "      <td>3_train</td>\n",
       "      <td>ACIDE</td>\n",
       "      <td>17.818790</td>\n",
       "    </tr>\n",
       "    <tr>\n",
       "      <th>5</th>\n",
       "      <td>3_train</td>\n",
       "      <td>VALPROATE</td>\n",
       "      <td>7.519167</td>\n",
       "    </tr>\n",
       "  </tbody>\n",
       "</table>\n",
       "</div>"
      ],
      "text/plain": [
       "   drug_id active_ingredient  ing_feature\n",
       "0  0_train       DÉSOGESTREL     2.154000\n",
       "1  1_train       MONTÉLUKAST    15.502439\n",
       "2  1_train       MONTÉLUKAST    15.502439\n",
       "4  3_train             ACIDE    17.818790\n",
       "5  3_train         VALPROATE     7.519167"
      ]
     },
     "execution_count": 105,
     "metadata": {},
     "output_type": "execute_result"
    }
   ],
   "source": [
    "df_ing_test.head()"
   ]
  },
  {
   "cell_type": "code",
   "execution_count": 106,
   "id": "f432c15f-6e98-4ab7-bdd6-b7177aa73b01",
   "metadata": {},
   "outputs": [],
   "source": [
    "df_ing_test.fillna(df_ing_test.ing_feature.mean(), inplace=True)"
   ]
  },
  {
   "cell_type": "code",
   "execution_count": 107,
   "id": "fbde38b6-a2d9-424d-9466-95e1bb8a2a70",
   "metadata": {},
   "outputs": [
    {
     "data": {
      "text/html": [
       "<div>\n",
       "<style scoped>\n",
       "    .dataframe tbody tr th:only-of-type {\n",
       "        vertical-align: middle;\n",
       "    }\n",
       "\n",
       "    .dataframe tbody tr th {\n",
       "        vertical-align: top;\n",
       "    }\n",
       "\n",
       "    .dataframe thead th {\n",
       "        text-align: right;\n",
       "    }\n",
       "</style>\n",
       "<table border=\"1\" class=\"dataframe\">\n",
       "  <thead>\n",
       "    <tr style=\"text-align: right;\">\n",
       "      <th></th>\n",
       "      <th>drug_id</th>\n",
       "      <th>active_ingredient</th>\n",
       "      <th>ing_feature</th>\n",
       "    </tr>\n",
       "  </thead>\n",
       "  <tbody>\n",
       "    <tr>\n",
       "      <th>11845</th>\n",
       "      <td>7313_train</td>\n",
       "      <td>FLUOR</td>\n",
       "      <td>0.696333</td>\n",
       "    </tr>\n",
       "    <tr>\n",
       "      <th>9905</th>\n",
       "      <td>6162_train</td>\n",
       "      <td>FLUOR</td>\n",
       "      <td>0.696333</td>\n",
       "    </tr>\n",
       "    <tr>\n",
       "      <th>587</th>\n",
       "      <td>342_train</td>\n",
       "      <td>FLUOR</td>\n",
       "      <td>0.696333</td>\n",
       "    </tr>\n",
       "    <tr>\n",
       "      <th>12899</th>\n",
       "      <td>7911_train</td>\n",
       "      <td>ALGINATE</td>\n",
       "      <td>0.729167</td>\n",
       "    </tr>\n",
       "    <tr>\n",
       "      <th>8033</th>\n",
       "      <td>5002_train</td>\n",
       "      <td>DEXAMÉTHASONE</td>\n",
       "      <td>0.738333</td>\n",
       "    </tr>\n",
       "  </tbody>\n",
       "</table>\n",
       "</div>"
      ],
      "text/plain": [
       "          drug_id active_ingredient  ing_feature\n",
       "11845  7313_train             FLUOR     0.696333\n",
       "9905   6162_train             FLUOR     0.696333\n",
       "587     342_train             FLUOR     0.696333\n",
       "12899  7911_train          ALGINATE     0.729167\n",
       "8033   5002_train     DEXAMÉTHASONE     0.738333"
      ]
     },
     "execution_count": 107,
     "metadata": {},
     "output_type": "execute_result"
    }
   ],
   "source": [
    "df_ing_test.sort_values('ing_feature',ascending=True).head()"
   ]
  },
  {
   "cell_type": "markdown",
   "id": "1ff840dc-09bf-4129-aead-25aea0ff6637",
   "metadata": {},
   "source": [
    "## Create features per drug"
   ]
  },
  {
   "cell_type": "code",
   "execution_count": 108,
   "id": "6d15a463-f653-4c88-9e83-6cb34c1477a7",
   "metadata": {},
   "outputs": [],
   "source": [
    "top_ing = 10\n",
    "def agg_func(x):\n",
    "    if len(x) >=top_ing:\n",
    "        return x.iloc[0:top_ing].tolist()\n",
    "    else:\n",
    "        part_one = x.iloc[0:top_ing].tolist()\n",
    "        s = [0 for _ in range(top_ing - len(part_one))]\n",
    "        return part_one + s"
   ]
  },
  {
   "cell_type": "code",
   "execution_count": 109,
   "id": "dec4ecb6-9dbd-48f8-8d29-d25d4a91224c",
   "metadata": {},
   "outputs": [],
   "source": [
    "f_cols = [f\"f_{i}\" for i in range(top_ing)]"
   ]
  },
  {
   "cell_type": "code",
   "execution_count": 110,
   "id": "ec30f44d-4ba9-4ec4-8f4f-be24b0b20099",
   "metadata": {},
   "outputs": [],
   "source": [
    "train_f = df_ing_train.sort_values('ing_feature',\n",
    "                                    ascending=True\n",
    "                                  ).groupby('drug_id', \n",
    "                                            sort=False\n",
    "                                           ).agg({'ing_feature':lambda x: agg_func(x)}).reset_index()\n",
    "\n",
    "test_f = df_ing_test.sort_values('ing_feature',\n",
    "                                  ascending=True\n",
    "                                  ).groupby('drug_id', \n",
    "                                            sort=False\n",
    "                                           ).agg({'ing_feature':lambda x: agg_func(x)}).reset_index()"
   ]
  },
  {
   "cell_type": "code",
   "execution_count": 111,
   "id": "e789e143-c85e-4156-aeef-cc44b6b23c2d",
   "metadata": {},
   "outputs": [],
   "source": [
    "train_f[f_cols] = pd.DataFrame(train_f.ing_feature.tolist())\n",
    "train_f.drop(\"ing_feature\", axis=1, inplace=True)\n",
    "test_f[f_cols] = pd.DataFrame(test_f.ing_feature.tolist())\n",
    "test_f.drop(\"ing_feature\", axis=1, inplace=True)"
   ]
  },
  {
   "cell_type": "code",
   "execution_count": 112,
   "id": "15738bb8-89f4-4f98-8901-a906215e1ea2",
   "metadata": {},
   "outputs": [],
   "source": [
    "X_train = X_train.merge(train_f)\n",
    "X_test = X_test.merge(test_f)"
   ]
  },
  {
   "cell_type": "code",
   "execution_count": 113,
   "id": "83c38a3f-7095-4c3b-831a-aae5a449cc8d",
   "metadata": {},
   "outputs": [
    {
     "data": {
      "text/html": [
       "<div>\n",
       "<style scoped>\n",
       "    .dataframe tbody tr th:only-of-type {\n",
       "        vertical-align: middle;\n",
       "    }\n",
       "\n",
       "    .dataframe tbody tr th {\n",
       "        vertical-align: top;\n",
       "    }\n",
       "\n",
       "    .dataframe thead th {\n",
       "        text-align: right;\n",
       "    }\n",
       "</style>\n",
       "<table border=\"1\" class=\"dataframe\">\n",
       "  <thead>\n",
       "    <tr style=\"text-align: right;\">\n",
       "      <th></th>\n",
       "      <th>drug_id</th>\n",
       "      <th>description</th>\n",
       "      <th>administrative_status</th>\n",
       "      <th>marketing_status</th>\n",
       "      <th>approved_for_hospital_use</th>\n",
       "      <th>reimbursement_rate</th>\n",
       "      <th>dosage_form</th>\n",
       "      <th>route_of_administration</th>\n",
       "      <th>marketing_authorization_status</th>\n",
       "      <th>marketing_declaration_date</th>\n",
       "      <th>...</th>\n",
       "      <th>f_0</th>\n",
       "      <th>f_1</th>\n",
       "      <th>f_2</th>\n",
       "      <th>f_3</th>\n",
       "      <th>f_4</th>\n",
       "      <th>f_5</th>\n",
       "      <th>f_6</th>\n",
       "      <th>f_7</th>\n",
       "      <th>f_8</th>\n",
       "      <th>f_9</th>\n",
       "    </tr>\n",
       "  </thead>\n",
       "  <tbody>\n",
       "    <tr>\n",
       "      <th>0</th>\n",
       "      <td>2850_train</td>\n",
       "      <td>plaquette(s) thermoformée(s) aluminium polyami...</td>\n",
       "      <td>Présentation active</td>\n",
       "      <td>Déclaration de commercialisation</td>\n",
       "      <td>oui</td>\n",
       "      <td>65%</td>\n",
       "      <td>comprimé sécable</td>\n",
       "      <td>orale</td>\n",
       "      <td>Autorisation active</td>\n",
       "      <td>20140101</td>\n",
       "      <td>...</td>\n",
       "      <td>5.070337</td>\n",
       "      <td>0.00</td>\n",
       "      <td>0.0</td>\n",
       "      <td>0.0</td>\n",
       "      <td>0.0</td>\n",
       "      <td>0.0</td>\n",
       "      <td>0.0</td>\n",
       "      <td>0.0</td>\n",
       "      <td>0.0</td>\n",
       "      <td>0.0</td>\n",
       "    </tr>\n",
       "    <tr>\n",
       "      <th>1</th>\n",
       "      <td>3258_train</td>\n",
       "      <td>1 seringue(s) préremplie(s) polycyclooléfine -...</td>\n",
       "      <td>Présentation active</td>\n",
       "      <td>Déclaration de commercialisation</td>\n",
       "      <td>oui</td>\n",
       "      <td>100%</td>\n",
       "      <td>poudre et  solvant pour solution injectable</td>\n",
       "      <td>sous-cutanée</td>\n",
       "      <td>Autorisation active</td>\n",
       "      <td>20060101</td>\n",
       "      <td>...</td>\n",
       "      <td>20.130466</td>\n",
       "      <td>60.76</td>\n",
       "      <td>0.0</td>\n",
       "      <td>0.0</td>\n",
       "      <td>0.0</td>\n",
       "      <td>0.0</td>\n",
       "      <td>0.0</td>\n",
       "      <td>0.0</td>\n",
       "      <td>0.0</td>\n",
       "      <td>0.0</td>\n",
       "    </tr>\n",
       "  </tbody>\n",
       "</table>\n",
       "<p>2 rows × 24 columns</p>\n",
       "</div>"
      ],
      "text/plain": [
       "      drug_id                                        description  \\\n",
       "0  2850_train  plaquette(s) thermoformée(s) aluminium polyami...   \n",
       "1  3258_train  1 seringue(s) préremplie(s) polycyclooléfine -...   \n",
       "\n",
       "  administrative_status                  marketing_status  \\\n",
       "0   Présentation active  Déclaration de commercialisation   \n",
       "1   Présentation active  Déclaration de commercialisation   \n",
       "\n",
       "  approved_for_hospital_use reimbursement_rate  \\\n",
       "0                       oui                65%   \n",
       "1                       oui               100%   \n",
       "\n",
       "                                   dosage_form route_of_administration  \\\n",
       "0                             comprimé sécable                   orale   \n",
       "1  poudre et  solvant pour solution injectable            sous-cutanée   \n",
       "\n",
       "  marketing_authorization_status  marketing_declaration_date  ...        f_0  \\\n",
       "0            Autorisation active                    20140101  ...   5.070337   \n",
       "1            Autorisation active                    20060101  ...  20.130466   \n",
       "\n",
       "     f_1  f_2  f_3  f_4  f_5  f_6  f_7  f_8  f_9  \n",
       "0   0.00  0.0  0.0  0.0  0.0  0.0  0.0  0.0  0.0  \n",
       "1  60.76  0.0  0.0  0.0  0.0  0.0  0.0  0.0  0.0  \n",
       "\n",
       "[2 rows x 24 columns]"
      ]
     },
     "execution_count": 113,
     "metadata": {},
     "output_type": "execute_result"
    }
   ],
   "source": [
    "X_train.head(2)"
   ]
  },
  {
   "cell_type": "code",
   "execution_count": 114,
   "id": "da9920c6-921c-4544-98b5-339e6ab021bd",
   "metadata": {},
   "outputs": [
    {
     "data": {
      "text/html": [
       "<div>\n",
       "<style scoped>\n",
       "    .dataframe tbody tr th:only-of-type {\n",
       "        vertical-align: middle;\n",
       "    }\n",
       "\n",
       "    .dataframe tbody tr th {\n",
       "        vertical-align: top;\n",
       "    }\n",
       "\n",
       "    .dataframe thead th {\n",
       "        text-align: right;\n",
       "    }\n",
       "</style>\n",
       "<table border=\"1\" class=\"dataframe\">\n",
       "  <thead>\n",
       "    <tr style=\"text-align: right;\">\n",
       "      <th></th>\n",
       "      <th>drug_id</th>\n",
       "      <th>description</th>\n",
       "      <th>administrative_status</th>\n",
       "      <th>marketing_status</th>\n",
       "      <th>approved_for_hospital_use</th>\n",
       "      <th>reimbursement_rate</th>\n",
       "      <th>dosage_form</th>\n",
       "      <th>route_of_administration</th>\n",
       "      <th>marketing_authorization_status</th>\n",
       "      <th>marketing_declaration_date</th>\n",
       "      <th>...</th>\n",
       "      <th>f_0</th>\n",
       "      <th>f_1</th>\n",
       "      <th>f_2</th>\n",
       "      <th>f_3</th>\n",
       "      <th>f_4</th>\n",
       "      <th>f_5</th>\n",
       "      <th>f_6</th>\n",
       "      <th>f_7</th>\n",
       "      <th>f_8</th>\n",
       "      <th>f_9</th>\n",
       "    </tr>\n",
       "  </thead>\n",
       "  <tbody>\n",
       "    <tr>\n",
       "      <th>0</th>\n",
       "      <td>3955_train</td>\n",
       "      <td>plaquette(s) polyamide aluminium PVC-Aluminium...</td>\n",
       "      <td>Présentation active</td>\n",
       "      <td>Déclaration de commercialisation</td>\n",
       "      <td>oui</td>\n",
       "      <td>65%</td>\n",
       "      <td>comprimé pelliculé sécable</td>\n",
       "      <td>orale</td>\n",
       "      <td>Autorisation active</td>\n",
       "      <td>19920101</td>\n",
       "      <td>...</td>\n",
       "      <td>16.982795</td>\n",
       "      <td>16.982795</td>\n",
       "      <td>0.0</td>\n",
       "      <td>0.0</td>\n",
       "      <td>0.0</td>\n",
       "      <td>0.0</td>\n",
       "      <td>0.0</td>\n",
       "      <td>0.0</td>\n",
       "      <td>0.0</td>\n",
       "      <td>0.0</td>\n",
       "    </tr>\n",
       "    <tr>\n",
       "      <th>1</th>\n",
       "      <td>5939_train</td>\n",
       "      <td>plaquette(s) thermoformée(s) PVC-Aluminium de ...</td>\n",
       "      <td>Présentation active</td>\n",
       "      <td>Déclaration de commercialisation</td>\n",
       "      <td>oui</td>\n",
       "      <td>65%</td>\n",
       "      <td>gélule</td>\n",
       "      <td>orale</td>\n",
       "      <td>Autorisation active</td>\n",
       "      <td>20150101</td>\n",
       "      <td>...</td>\n",
       "      <td>9.274242</td>\n",
       "      <td>0.000000</td>\n",
       "      <td>0.0</td>\n",
       "      <td>0.0</td>\n",
       "      <td>0.0</td>\n",
       "      <td>0.0</td>\n",
       "      <td>0.0</td>\n",
       "      <td>0.0</td>\n",
       "      <td>0.0</td>\n",
       "      <td>0.0</td>\n",
       "    </tr>\n",
       "  </tbody>\n",
       "</table>\n",
       "<p>2 rows × 24 columns</p>\n",
       "</div>"
      ],
      "text/plain": [
       "      drug_id                                        description  \\\n",
       "0  3955_train  plaquette(s) polyamide aluminium PVC-Aluminium...   \n",
       "1  5939_train  plaquette(s) thermoformée(s) PVC-Aluminium de ...   \n",
       "\n",
       "  administrative_status                  marketing_status  \\\n",
       "0   Présentation active  Déclaration de commercialisation   \n",
       "1   Présentation active  Déclaration de commercialisation   \n",
       "\n",
       "  approved_for_hospital_use reimbursement_rate                 dosage_form  \\\n",
       "0                       oui                65%  comprimé pelliculé sécable   \n",
       "1                       oui                65%                      gélule   \n",
       "\n",
       "  route_of_administration marketing_authorization_status  \\\n",
       "0                   orale            Autorisation active   \n",
       "1                   orale            Autorisation active   \n",
       "\n",
       "   marketing_declaration_date  ...        f_0        f_1  f_2  f_3  f_4  f_5  \\\n",
       "0                    19920101  ...  16.982795  16.982795  0.0  0.0  0.0  0.0   \n",
       "1                    20150101  ...   9.274242   0.000000  0.0  0.0  0.0  0.0   \n",
       "\n",
       "   f_6  f_7  f_8  f_9  \n",
       "0  0.0  0.0  0.0  0.0  \n",
       "1  0.0  0.0  0.0  0.0  \n",
       "\n",
       "[2 rows x 24 columns]"
      ]
     },
     "execution_count": 114,
     "metadata": {},
     "output_type": "execute_result"
    }
   ],
   "source": [
    "X_test.head(2)"
   ]
  },
  {
   "cell_type": "code",
   "execution_count": 122,
   "id": "51cd11da-4216-4872-85ae-4f8e78084fa3",
   "metadata": {},
   "outputs": [],
   "source": [
    "from sklearn.linear_model import LinearRegression\n",
    "from sklearn.metrics import r2_score"
   ]
  },
  {
   "cell_type": "code",
   "execution_count": 117,
   "id": "048df307-33ed-43a7-b48e-e54522ace614",
   "metadata": {},
   "outputs": [],
   "source": [
    "y_train, y_test = X_train[\"price\"], X_test[\"price\"]"
   ]
  },
  {
   "cell_type": "code",
   "execution_count": 126,
   "id": "d9ac794d-6e69-403e-8ae6-9bad8d23fe15",
   "metadata": {},
   "outputs": [],
   "source": [
    "y_mean, y_std = y_train.mean(), y_train.std()"
   ]
  },
  {
   "cell_type": "code",
   "execution_count": 127,
   "id": "e25253cc-7a11-4f42-a565-20541683ac5e",
   "metadata": {},
   "outputs": [],
   "source": [
    "y_train_bis = (y_train - y_mean) / y_std\n",
    "y_test_bis = (y_test - y_mean) / y_std"
   ]
  },
  {
   "cell_type": "code",
   "execution_count": 128,
   "id": "dafb27d2-360f-4e65-8f9b-0729e5a9f5c2",
   "metadata": {},
   "outputs": [],
   "source": [
    "model = LinearRegression(n_jobs=-1)\n",
    "#model = xgb.XGBRegressor(n_estimators=7, max_depth=7, verbosity=1, reg_lambda=0.001, reg_alpha=0.1)"
   ]
  },
  {
   "cell_type": "code",
   "execution_count": 129,
   "id": "9d858004-3362-402c-8242-3186988c9776",
   "metadata": {},
   "outputs": [
    {
     "data": {
      "text/plain": [
       "LinearRegression(n_jobs=-1)"
      ]
     },
     "execution_count": 129,
     "metadata": {},
     "output_type": "execute_result"
    }
   ],
   "source": [
    "model.fit(X_train[f_cols], y_train_bis)"
   ]
  },
  {
   "cell_type": "code",
   "execution_count": null,
   "id": "44814a6e-7997-40f4-a0b9-47e3b4fb5458",
   "metadata": {},
   "outputs": [],
   "source": []
  },
  {
   "cell_type": "code",
   "execution_count": 132,
   "id": "8a816ce8-45d6-431e-8412-0aed99a779b2",
   "metadata": {},
   "outputs": [
    {
     "name": "stdout",
     "output_type": "stream",
     "text": [
      "**************************************************\n",
      "train\n",
      "rmse: 40.835496081100594\n",
      "**************************************************\n",
      "val\n",
      "rmse: 59.104125254953345\n"
     ]
    }
   ],
   "source": [
    "from sklearn.metrics import mean_squared_error\n",
    "d = {\"train\": [X_train[f_cols], y_train], \"val\": [X_test[f_cols], y_test]}\n",
    "for k in d:\n",
    "    print(\"*\"*50)\n",
    "    print(k)\n",
    "    preds = y_mean + y_std * model.predict(d[k][0])\n",
    "    truth = d[k][1]\n",
    "    rmse = mean_squared_error(preds, truth, squared=False)\n",
    "    print(f\"rmse: {rmse}\")"
   ]
  },
  {
   "cell_type": "code",
   "execution_count": null,
   "id": "cbb35e15-f256-42e9-ad9d-a3799594b946",
   "metadata": {},
   "outputs": [],
   "source": []
  }
 ],
 "metadata": {
  "kernelspec": {
   "display_name": "Python 3 (ipykernel)",
   "language": "python",
   "name": "python3"
  },
  "language_info": {
   "codemirror_mode": {
    "name": "ipython",
    "version": 3
   },
   "file_extension": ".py",
   "mimetype": "text/x-python",
   "name": "python",
   "nbconvert_exporter": "python",
   "pygments_lexer": "ipython3",
   "version": "3.8.10"
  }
 },
 "nbformat": 4,
 "nbformat_minor": 5
}
